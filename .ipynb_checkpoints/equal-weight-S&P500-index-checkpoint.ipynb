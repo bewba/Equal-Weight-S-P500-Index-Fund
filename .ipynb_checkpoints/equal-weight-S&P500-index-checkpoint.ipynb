{
 "cells": [
  {
   "cell_type": "markdown",
   "id": "39343667",
   "metadata": {},
   "source": [
    "# Importing the necessary libraries"
   ]
  },
  {
   "cell_type": "code",
   "execution_count": 1,
   "id": "ec33c54f",
   "metadata": {},
   "outputs": [],
   "source": [
    "import pandas as pd\n",
    "import numpy as np \n",
    "import requests\n",
    "import xlsxwriter\n",
    "import math\n",
    "import sys"
   ]
  },
  {
   "cell_type": "markdown",
   "id": "2def509b",
   "metadata": {},
   "source": [
    "# Importing the list of stocks\n",
    "### Stocks can be taken from a free API, in this use case, I just used a CSV taken from this <a href = \"https://drive.google.com/file/d/1ZJSpbY69DVckVZlO9cC6KkgfSufybcHN/view\">link</a>\n"
   ]
  },
  {
   "cell_type": "code",
   "execution_count": 2,
   "id": "bcc89c75",
   "metadata": {},
   "outputs": [
    {
     "data": {
      "text/html": [
       "<div>\n",
       "<style scoped>\n",
       "    .dataframe tbody tr th:only-of-type {\n",
       "        vertical-align: middle;\n",
       "    }\n",
       "\n",
       "    .dataframe tbody tr th {\n",
       "        vertical-align: top;\n",
       "    }\n",
       "\n",
       "    .dataframe thead th {\n",
       "        text-align: right;\n",
       "    }\n",
       "</style>\n",
       "<table border=\"1\" class=\"dataframe\">\n",
       "  <thead>\n",
       "    <tr style=\"text-align: right;\">\n",
       "      <th></th>\n",
       "      <th>Ticker</th>\n",
       "    </tr>\n",
       "  </thead>\n",
       "  <tbody>\n",
       "    <tr>\n",
       "      <th>0</th>\n",
       "      <td>A</td>\n",
       "    </tr>\n",
       "    <tr>\n",
       "      <th>1</th>\n",
       "      <td>AAL</td>\n",
       "    </tr>\n",
       "    <tr>\n",
       "      <th>2</th>\n",
       "      <td>AAP</td>\n",
       "    </tr>\n",
       "    <tr>\n",
       "      <th>3</th>\n",
       "      <td>AAPL</td>\n",
       "    </tr>\n",
       "    <tr>\n",
       "      <th>4</th>\n",
       "      <td>ABBV</td>\n",
       "    </tr>\n",
       "    <tr>\n",
       "      <th>...</th>\n",
       "      <td>...</td>\n",
       "    </tr>\n",
       "    <tr>\n",
       "      <th>500</th>\n",
       "      <td>YUM</td>\n",
       "    </tr>\n",
       "    <tr>\n",
       "      <th>501</th>\n",
       "      <td>ZBH</td>\n",
       "    </tr>\n",
       "    <tr>\n",
       "      <th>502</th>\n",
       "      <td>ZBRA</td>\n",
       "    </tr>\n",
       "    <tr>\n",
       "      <th>503</th>\n",
       "      <td>ZION</td>\n",
       "    </tr>\n",
       "    <tr>\n",
       "      <th>504</th>\n",
       "      <td>ZTS</td>\n",
       "    </tr>\n",
       "  </tbody>\n",
       "</table>\n",
       "<p>505 rows × 1 columns</p>\n",
       "</div>"
      ],
      "text/plain": [
       "    Ticker\n",
       "0        A\n",
       "1      AAL\n",
       "2      AAP\n",
       "3     AAPL\n",
       "4     ABBV\n",
       "..     ...\n",
       "500    YUM\n",
       "501    ZBH\n",
       "502   ZBRA\n",
       "503   ZION\n",
       "504    ZTS\n",
       "\n",
       "[505 rows x 1 columns]"
      ]
     },
     "execution_count": 2,
     "metadata": {},
     "output_type": "execute_result"
    }
   ],
   "source": [
    "stocks = pd.read_csv('../sp_500_stocks.csv')\n",
    "type(stocks)\n",
    "stocks"
   ]
  },
  {
   "cell_type": "markdown",
   "id": "047cad01",
   "metadata": {},
   "source": [
    "# Taking the IEX Cloud API \n",
    "\n",
    "Importing IEX Cloud API token to import financial data to retrieve stock quotes, finanacial statements, news articles and other financial data\n",
    "\n",
    "Link to the API could be found <a href = \"https://algotrading101.com/learn/iex-api-guide/\">here</a>"
   ]
  },
  {
   "cell_type": "code",
   "execution_count": 3,
   "id": "a972b818",
   "metadata": {},
   "outputs": [
    {
     "data": {
      "text/plain": [
       "'pk_a51cc202813744298030aa99a68626d9'"
      ]
     },
     "execution_count": 3,
     "metadata": {},
     "output_type": "execute_result"
    }
   ],
   "source": [
    "sys.path.append('../')\n",
    "from admin import IEX_CLOUD_API_TOKEN\n",
    "IEX_CLOUD_API_TOKEN"
   ]
  },
  {
   "cell_type": "markdown",
   "id": "882c5e0f",
   "metadata": {},
   "source": [
    "### First API call\n",
    "Looking for\n",
    "- Market Capitalization of a stock given a ticker\n",
    "- Price of a stock given a ticker\n",
    "- Symbol of a stock"
   ]
  },
  {
   "cell_type": "code",
   "execution_count": 4,
   "id": "afa136c8",
   "metadata": {},
   "outputs": [
    {
     "data": {
      "text/plain": [
       "list"
      ]
     },
     "execution_count": 4,
     "metadata": {},
     "output_type": "execute_result"
    }
   ],
   "source": [
    "ticker = 'AAPL' # Apple ticker symbol\n",
    "api_url = f' https://api.iex.cloud/v1/data/core/quote/{ticker}?token={IEX_CLOUD_API_TOKEN}'\n",
    "results = requests.get(api_url).json()\n",
    "type(results)\n"
   ]
  },
  {
   "cell_type": "markdown",
   "id": "138e5e5a",
   "metadata": {},
   "source": [
    "### Parsing the API call to collect the data needed"
   ]
  },
  {
   "cell_type": "code",
   "execution_count": 5,
   "id": "5d20681d",
   "metadata": {},
   "outputs": [
    {
     "name": "stdout",
     "output_type": "stream",
     "text": [
      "AAPL\n",
      "2594236008000\n",
      "168\n"
     ]
    }
   ],
   "source": [
    "market_cap = results[0]['marketCap']\n",
    "stock_price = results[0]['latestPrice']\n",
    "symbol = results[0]['symbol']\n",
    "\n",
    "print(symbol)\n",
    "print(market_cap)\n",
    "print(stock_price)"
   ]
  },
  {
   "cell_type": "markdown",
   "id": "a93f488d",
   "metadata": {},
   "source": [
    "### Placing a stock with its respective values into a pandas data frame\n",
    "\n",
    "Create columns for a new dataframe to return"
   ]
  },
  {
   "cell_type": "code",
   "execution_count": 18,
   "id": "cfebd25d",
   "metadata": {},
   "outputs": [
    {
     "data": {
      "text/html": [
       "<div>\n",
       "<style scoped>\n",
       "    .dataframe tbody tr th:only-of-type {\n",
       "        vertical-align: middle;\n",
       "    }\n",
       "\n",
       "    .dataframe tbody tr th {\n",
       "        vertical-align: top;\n",
       "    }\n",
       "\n",
       "    .dataframe thead th {\n",
       "        text-align: right;\n",
       "    }\n",
       "</style>\n",
       "<table border=\"1\" class=\"dataframe\">\n",
       "  <thead>\n",
       "    <tr style=\"text-align: right;\">\n",
       "      <th></th>\n",
       "      <th>Ticker</th>\n",
       "      <th>Stock Price</th>\n",
       "      <th>Market Capitalization</th>\n",
       "      <th>Shares to Purchase</th>\n",
       "    </tr>\n",
       "  </thead>\n",
       "  <tbody>\n",
       "  </tbody>\n",
       "</table>\n",
       "</div>"
      ],
      "text/plain": [
       "Empty DataFrame\n",
       "Columns: [Ticker, Stock Price, Market Capitalization, Shares to Purchase]\n",
       "Index: []"
      ]
     },
     "execution_count": 18,
     "metadata": {},
     "output_type": "execute_result"
    }
   ],
   "source": [
    "cols = ['Ticker', \"Stock Price\", \"Market Capitalization\", 'Shares to Purchase']\n",
    "fin_df = pd.DataFrame(columns=cols)\n",
    "fin_df"
   ]
  },
  {
   "cell_type": "markdown",
   "id": "56c3b9bc",
   "metadata": {},
   "source": [
    "##### Tester code for syntax"
   ]
  },
  {
   "cell_type": "code",
   "execution_count": 16,
   "id": "1afea335",
   "metadata": {},
   "outputs": [],
   "source": [
    "fin_df.loc[len(fin_df.index)] = [symbol, stock_price, market_cap, 'N/A']\n",
    "fin_df"
   ]
  },
  {
   "cell_type": "markdown",
   "id": "1d15c8ce",
   "metadata": {},
   "source": [
    "# Looping through the stock list created earlier and appending the respective values\n",
    "\n",
    "The free version of the API only allows for 5 API calls a seconds meaning that this process will take a while with addition to the run time of HTTP requests\n",
    "\n",
    "(9m 1.7s)"
   ]
  },
  {
   "cell_type": "code",
   "execution_count": 24,
   "id": "cc1803f3",
   "metadata": {},
   "outputs": [
    {
     "data": {
      "text/html": [
       "<div>\n",
       "<style scoped>\n",
       "    .dataframe tbody tr th:only-of-type {\n",
       "        vertical-align: middle;\n",
       "    }\n",
       "\n",
       "    .dataframe tbody tr th {\n",
       "        vertical-align: top;\n",
       "    }\n",
       "\n",
       "    .dataframe thead th {\n",
       "        text-align: right;\n",
       "    }\n",
       "</style>\n",
       "<table border=\"1\" class=\"dataframe\">\n",
       "  <thead>\n",
       "    <tr style=\"text-align: right;\">\n",
       "      <th></th>\n",
       "      <th>Ticker</th>\n",
       "      <th>Stock Price</th>\n",
       "      <th>Market Capitalization</th>\n",
       "      <th>Shares to Purchase</th>\n",
       "    </tr>\n",
       "  </thead>\n",
       "  <tbody>\n",
       "    <tr>\n",
       "      <th>0</th>\n",
       "      <td>A</td>\n",
       "      <td>134.5500</td>\n",
       "      <td>39430588462</td>\n",
       "      <td>N/A</td>\n",
       "    </tr>\n",
       "    <tr>\n",
       "      <th>1</th>\n",
       "      <td>AAL</td>\n",
       "      <td>13.8900</td>\n",
       "      <td>9094572174</td>\n",
       "      <td>N/A</td>\n",
       "    </tr>\n",
       "    <tr>\n",
       "      <th>2</th>\n",
       "      <td>AAP</td>\n",
       "      <td>74.0500</td>\n",
       "      <td>4414081328</td>\n",
       "      <td>N/A</td>\n",
       "    </tr>\n",
       "    <tr>\n",
       "      <th>3</th>\n",
       "      <td>AAPL</td>\n",
       "      <td>168.0000</td>\n",
       "      <td>2594236008000</td>\n",
       "      <td>N/A</td>\n",
       "    </tr>\n",
       "    <tr>\n",
       "      <th>4</th>\n",
       "      <td>ABBV</td>\n",
       "      <td>164.2500</td>\n",
       "      <td>290828766958</td>\n",
       "      <td>N/A</td>\n",
       "    </tr>\n",
       "    <tr>\n",
       "      <th>...</th>\n",
       "      <td>...</td>\n",
       "      <td>...</td>\n",
       "      <td>...</td>\n",
       "      <td>...</td>\n",
       "    </tr>\n",
       "    <tr>\n",
       "      <th>500</th>\n",
       "      <td>YUM</td>\n",
       "      <td>137.8300</td>\n",
       "      <td>38799145000</td>\n",
       "      <td>N/A</td>\n",
       "    </tr>\n",
       "    <tr>\n",
       "      <th>501</th>\n",
       "      <td>ZBH</td>\n",
       "      <td>121.3000</td>\n",
       "      <td>24922474006</td>\n",
       "      <td>N/A</td>\n",
       "    </tr>\n",
       "    <tr>\n",
       "      <th>502</th>\n",
       "      <td>ZBRA</td>\n",
       "      <td>276.1400</td>\n",
       "      <td>14192914210</td>\n",
       "      <td>N/A</td>\n",
       "    </tr>\n",
       "    <tr>\n",
       "      <th>503</th>\n",
       "      <td>ZION</td>\n",
       "      <td>39.3600</td>\n",
       "      <td>5809497427</td>\n",
       "      <td>N/A</td>\n",
       "    </tr>\n",
       "    <tr>\n",
       "      <th>504</th>\n",
       "      <td>ZTS</td>\n",
       "      <td>151.5146</td>\n",
       "      <td>69296631547</td>\n",
       "      <td>N/A</td>\n",
       "    </tr>\n",
       "  </tbody>\n",
       "</table>\n",
       "<p>505 rows × 4 columns</p>\n",
       "</div>"
      ],
      "text/plain": [
       "    Ticker  Stock Price Market Capitalization Shares to Purchase\n",
       "0        A     134.5500           39430588462                N/A\n",
       "1      AAL      13.8900            9094572174                N/A\n",
       "2      AAP      74.0500            4414081328                N/A\n",
       "3     AAPL     168.0000         2594236008000                N/A\n",
       "4     ABBV     164.2500          290828766958                N/A\n",
       "..     ...          ...                   ...                ...\n",
       "500    YUM     137.8300           38799145000                N/A\n",
       "501    ZBH     121.3000           24922474006                N/A\n",
       "502   ZBRA     276.1400           14192914210                N/A\n",
       "503   ZION      39.3600            5809497427                N/A\n",
       "504    ZTS     151.5146           69296631547                N/A\n",
       "\n",
       "[505 rows x 4 columns]"
      ]
     },
     "execution_count": 24,
     "metadata": {},
     "output_type": "execute_result"
    }
   ],
   "source": [
    "fin_df = pd.DataFrame(columns=cols)\n",
    "for stock in stocks['Ticker']:\n",
    "    ticker = stock\n",
    "    api_call = f' https://api.iex.cloud/v1/data/core/quote/{ticker}?token={IEX_CLOUD_API_TOKEN}'\n",
    "\n",
    "    results = requests.get(api_call).json()\n",
    "\n",
    "    market_cap = results[0]['marketCap']\n",
    "    stock_price = results[0]['latestPrice']\n",
    "    symbol = results[0]['symbol']\n",
    "    fin_df.loc[len(fin_df.index)] = [symbol, stock_price, market_cap, 'N/A']\n",
    "fin_df\n",
    "\n",
    "    \n",
    "    \n",
    "\n",
    "\n",
    "    \n",
    "    "
   ]
  },
  {
   "cell_type": "markdown",
   "id": "732b7c1f",
   "metadata": {},
   "source": [
    "### Process Optimization Using Batch Calls"
   ]
  },
  {
   "cell_type": "code",
   "execution_count": null,
   "id": "46b35234",
   "metadata": {},
   "outputs": [],
   "source": []
  }
 ],
 "metadata": {
  "kernelspec": {
   "display_name": "Python 3 (ipykernel)",
   "language": "python",
   "name": "python3"
  },
  "language_info": {
   "codemirror_mode": {
    "name": "ipython",
    "version": 3
   },
   "file_extension": ".py",
   "mimetype": "text/x-python",
   "name": "python",
   "nbconvert_exporter": "python",
   "pygments_lexer": "ipython3",
   "version": "3.12.1"
  }
 },
 "nbformat": 4,
 "nbformat_minor": 5
}
