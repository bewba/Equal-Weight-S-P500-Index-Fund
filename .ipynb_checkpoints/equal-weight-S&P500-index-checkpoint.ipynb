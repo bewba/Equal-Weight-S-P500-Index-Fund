{
 "cells": [
  {
   "cell_type": "markdown",
   "id": "39343667",
   "metadata": {},
   "source": [
    "# Importing the necessary libraries"
   ]
  },
  {
   "cell_type": "code",
   "execution_count": 1,
   "id": "ec33c54f",
   "metadata": {},
   "outputs": [],
   "source": [
    "import pandas as pd\n",
    "import numpy as np \n",
    "import requests\n",
    "import xlsxwriter\n",
    "import math\n",
    "import sys"
   ]
  },
  {
   "cell_type": "markdown",
   "id": "2def509b",
   "metadata": {},
   "source": [
    "# Importing the list of stocks\n",
    "### Stocks can be taken from a free API, in this use case, I just used a CSV taken from this <a href = \"https://drive.google.com/file/d/1ZJSpbY69DVckVZlO9cC6KkgfSufybcHN/view\">link</a>\n"
   ]
  },
  {
   "cell_type": "code",
   "execution_count": 2,
   "id": "bcc89c75",
   "metadata": {},
   "outputs": [
    {
     "data": {
      "text/html": [
       "<div>\n",
       "<style scoped>\n",
       "    .dataframe tbody tr th:only-of-type {\n",
       "        vertical-align: middle;\n",
       "    }\n",
       "\n",
       "    .dataframe tbody tr th {\n",
       "        vertical-align: top;\n",
       "    }\n",
       "\n",
       "    .dataframe thead th {\n",
       "        text-align: right;\n",
       "    }\n",
       "</style>\n",
       "<table border=\"1\" class=\"dataframe\">\n",
       "  <thead>\n",
       "    <tr style=\"text-align: right;\">\n",
       "      <th></th>\n",
       "      <th>Ticker</th>\n",
       "    </tr>\n",
       "  </thead>\n",
       "  <tbody>\n",
       "    <tr>\n",
       "      <th>0</th>\n",
       "      <td>A</td>\n",
       "    </tr>\n",
       "    <tr>\n",
       "      <th>1</th>\n",
       "      <td>AAL</td>\n",
       "    </tr>\n",
       "    <tr>\n",
       "      <th>2</th>\n",
       "      <td>AAP</td>\n",
       "    </tr>\n",
       "    <tr>\n",
       "      <th>3</th>\n",
       "      <td>AAPL</td>\n",
       "    </tr>\n",
       "    <tr>\n",
       "      <th>4</th>\n",
       "      <td>ABBV</td>\n",
       "    </tr>\n",
       "    <tr>\n",
       "      <th>...</th>\n",
       "      <td>...</td>\n",
       "    </tr>\n",
       "    <tr>\n",
       "      <th>500</th>\n",
       "      <td>YUM</td>\n",
       "    </tr>\n",
       "    <tr>\n",
       "      <th>501</th>\n",
       "      <td>ZBH</td>\n",
       "    </tr>\n",
       "    <tr>\n",
       "      <th>502</th>\n",
       "      <td>ZBRA</td>\n",
       "    </tr>\n",
       "    <tr>\n",
       "      <th>503</th>\n",
       "      <td>ZION</td>\n",
       "    </tr>\n",
       "    <tr>\n",
       "      <th>504</th>\n",
       "      <td>ZTS</td>\n",
       "    </tr>\n",
       "  </tbody>\n",
       "</table>\n",
       "<p>505 rows × 1 columns</p>\n",
       "</div>"
      ],
      "text/plain": [
       "    Ticker\n",
       "0        A\n",
       "1      AAL\n",
       "2      AAP\n",
       "3     AAPL\n",
       "4     ABBV\n",
       "..     ...\n",
       "500    YUM\n",
       "501    ZBH\n",
       "502   ZBRA\n",
       "503   ZION\n",
       "504    ZTS\n",
       "\n",
       "[505 rows x 1 columns]"
      ]
     },
     "execution_count": 2,
     "metadata": {},
     "output_type": "execute_result"
    }
   ],
   "source": [
    "stocks = pd.read_csv('../sp_500_stocks.csv')\n",
    "type(stocks)\n",
    "stocks"
   ]
  },
  {
   "cell_type": "markdown",
   "id": "047cad01",
   "metadata": {},
   "source": [
    "# Taking the IEX Cloud API \n",
    "\n",
    "Importing IEX Cloud API token to import financial data to retrieve stock quotes, finanacial statements, news articles and other financial data\n",
    "\n",
    "Link to the API could be found <a href = \"https://algotrading101.com/learn/iex-api-guide/\">here</a>"
   ]
  },
  {
   "cell_type": "code",
   "execution_count": 3,
   "id": "a972b818",
   "metadata": {},
   "outputs": [
    {
     "data": {
      "text/plain": [
       "'pk_a51cc202813744298030aa99a68626d9'"
      ]
     },
     "execution_count": 3,
     "metadata": {},
     "output_type": "execute_result"
    }
   ],
   "source": [
    "sys.path.append('../')\n",
    "from admin import IEX_CLOUD_API_TOKEN\n",
    "IEX_CLOUD_API_TOKEN"
   ]
  },
  {
   "cell_type": "markdown",
   "id": "882c5e0f",
   "metadata": {},
   "source": [
    "### First API call\n",
    "Looking for\n",
    "- Market Capitalization of a stock given a ticker\n",
    "- Price of a stock given a ticker\n",
    "- Symbol of a stock"
   ]
  },
  {
   "cell_type": "code",
   "execution_count": 4,
   "id": "afa136c8",
   "metadata": {},
   "outputs": [
    {
     "data": {
      "text/plain": [
       "list"
      ]
     },
     "execution_count": 4,
     "metadata": {},
     "output_type": "execute_result"
    }
   ],
   "source": [
    "ticker = 'AAPL' # Apple ticker symbol\n",
    "api_url = f' https://api.iex.cloud/v1/data/core/quote/{ticker}?token={IEX_CLOUD_API_TOKEN}'\n",
    "results = requests.get(api_url).json()\n",
    "type(results)\n"
   ]
  },
  {
   "cell_type": "markdown",
   "id": "138e5e5a",
   "metadata": {},
   "source": [
    "### Parsing the API call to collect the data needed"
   ]
  },
  {
   "cell_type": "code",
   "execution_count": 5,
   "id": "5d20681d",
   "metadata": {},
   "outputs": [
    {
     "name": "stdout",
     "output_type": "stream",
     "text": [
      "AAPL\n",
      "2594236008000\n",
      "168\n"
     ]
    }
   ],
   "source": [
    "market_cap = results[0]['marketCap']\n",
    "stock_price = results[0]['latestPrice']\n",
    "symbol = results[0]['symbol']\n",
    "\n",
    "print(symbol)\n",
    "print(market_cap)\n",
    "print(stock_price)"
   ]
  },
  {
   "cell_type": "markdown",
   "id": "a93f488d",
   "metadata": {},
   "source": [
    "### Placing a stock with its respective values into a pandas data frame\n",
    "\n",
    "Create columns for a new dataframe to return"
   ]
  },
  {
   "cell_type": "code",
   "execution_count": 18,
   "id": "cfebd25d",
   "metadata": {},
   "outputs": [
    {
     "data": {
      "text/html": [
       "<div>\n",
       "<style scoped>\n",
       "    .dataframe tbody tr th:only-of-type {\n",
       "        vertical-align: middle;\n",
       "    }\n",
       "\n",
       "    .dataframe tbody tr th {\n",
       "        vertical-align: top;\n",
       "    }\n",
       "\n",
       "    .dataframe thead th {\n",
       "        text-align: right;\n",
       "    }\n",
       "</style>\n",
       "<table border=\"1\" class=\"dataframe\">\n",
       "  <thead>\n",
       "    <tr style=\"text-align: right;\">\n",
       "      <th></th>\n",
       "      <th>Ticker</th>\n",
       "      <th>Stock Price</th>\n",
       "      <th>Market Capitalization</th>\n",
       "      <th>Shares to Purchase</th>\n",
       "    </tr>\n",
       "  </thead>\n",
       "  <tbody>\n",
       "  </tbody>\n",
       "</table>\n",
       "</div>"
      ],
      "text/plain": [
       "Empty DataFrame\n",
       "Columns: [Ticker, Stock Price, Market Capitalization, Shares to Purchase]\n",
       "Index: []"
      ]
     },
     "execution_count": 18,
     "metadata": {},
     "output_type": "execute_result"
    }
   ],
   "source": [
    "cols = ['Ticker', \"Stock Price\", \"Market Capitalization\", 'Shares to Purchase']\n",
    "fin_df = pd.DataFrame(columns=cols)\n",
    "fin_df"
   ]
  },
  {
   "cell_type": "markdown",
   "id": "56c3b9bc",
   "metadata": {},
   "source": [
    "##### Tester code for syntax"
   ]
  },
  {
   "cell_type": "code",
   "execution_count": 16,
   "id": "1afea335",
   "metadata": {},
   "outputs": [],
   "source": [
    "fin_df.loc[len(fin_df.index)] = [symbol, stock_price, market_cap, 'N/A']\n",
    "fin_df"
   ]
  },
  {
   "cell_type": "markdown",
   "id": "1d15c8ce",
   "metadata": {},
   "source": [
    "# Looping through the stock list created earlier and appending the respective values\n",
    "\n",
    "The free version of the API only allows for 5 API calls a seconds meaning that this process will take a while with addition to the run time of HTTP requests\n",
    "\n",
    "(9m 1.7s)"
   ]
  },
  {
   "cell_type": "code",
   "execution_count": 24,
   "id": "cc1803f3",
   "metadata": {},
   "outputs": [
    {
     "data": {
      "text/html": [
       "<div>\n",
       "<style scoped>\n",
       "    .dataframe tbody tr th:only-of-type {\n",
       "        vertical-align: middle;\n",
       "    }\n",
       "\n",
       "    .dataframe tbody tr th {\n",
       "        vertical-align: top;\n",
       "    }\n",
       "\n",
       "    .dataframe thead th {\n",
       "        text-align: right;\n",
       "    }\n",
       "</style>\n",
       "<table border=\"1\" class=\"dataframe\">\n",
       "  <thead>\n",
       "    <tr style=\"text-align: right;\">\n",
       "      <th></th>\n",
       "      <th>Ticker</th>\n",
       "      <th>Stock Price</th>\n",
       "      <th>Market Capitalization</th>\n",
       "      <th>Shares to Purchase</th>\n",
       "    </tr>\n",
       "  </thead>\n",
       "  <tbody>\n",
       "    <tr>\n",
       "      <th>0</th>\n",
       "      <td>A</td>\n",
       "      <td>134.5500</td>\n",
       "      <td>39430588462</td>\n",
       "      <td>N/A</td>\n",
       "    </tr>\n",
       "    <tr>\n",
       "      <th>1</th>\n",
       "      <td>AAL</td>\n",
       "      <td>13.8900</td>\n",
       "      <td>9094572174</td>\n",
       "      <td>N/A</td>\n",
       "    </tr>\n",
       "    <tr>\n",
       "      <th>2</th>\n",
       "      <td>AAP</td>\n",
       "      <td>74.0500</td>\n",
       "      <td>4414081328</td>\n",
       "      <td>N/A</td>\n",
       "    </tr>\n",
       "    <tr>\n",
       "      <th>3</th>\n",
       "      <td>AAPL</td>\n",
       "      <td>168.0000</td>\n",
       "      <td>2594236008000</td>\n",
       "      <td>N/A</td>\n",
       "    </tr>\n",
       "    <tr>\n",
       "      <th>4</th>\n",
       "      <td>ABBV</td>\n",
       "      <td>164.2500</td>\n",
       "      <td>290828766958</td>\n",
       "      <td>N/A</td>\n",
       "    </tr>\n",
       "    <tr>\n",
       "      <th>...</th>\n",
       "      <td>...</td>\n",
       "      <td>...</td>\n",
       "      <td>...</td>\n",
       "      <td>...</td>\n",
       "    </tr>\n",
       "    <tr>\n",
       "      <th>500</th>\n",
       "      <td>YUM</td>\n",
       "      <td>137.8300</td>\n",
       "      <td>38799145000</td>\n",
       "      <td>N/A</td>\n",
       "    </tr>\n",
       "    <tr>\n",
       "      <th>501</th>\n",
       "      <td>ZBH</td>\n",
       "      <td>121.3000</td>\n",
       "      <td>24922474006</td>\n",
       "      <td>N/A</td>\n",
       "    </tr>\n",
       "    <tr>\n",
       "      <th>502</th>\n",
       "      <td>ZBRA</td>\n",
       "      <td>276.1400</td>\n",
       "      <td>14192914210</td>\n",
       "      <td>N/A</td>\n",
       "    </tr>\n",
       "    <tr>\n",
       "      <th>503</th>\n",
       "      <td>ZION</td>\n",
       "      <td>39.3600</td>\n",
       "      <td>5809497427</td>\n",
       "      <td>N/A</td>\n",
       "    </tr>\n",
       "    <tr>\n",
       "      <th>504</th>\n",
       "      <td>ZTS</td>\n",
       "      <td>151.5146</td>\n",
       "      <td>69296631547</td>\n",
       "      <td>N/A</td>\n",
       "    </tr>\n",
       "  </tbody>\n",
       "</table>\n",
       "<p>505 rows × 4 columns</p>\n",
       "</div>"
      ],
      "text/plain": [
       "    Ticker  Stock Price Market Capitalization Shares to Purchase\n",
       "0        A     134.5500           39430588462                N/A\n",
       "1      AAL      13.8900            9094572174                N/A\n",
       "2      AAP      74.0500            4414081328                N/A\n",
       "3     AAPL     168.0000         2594236008000                N/A\n",
       "4     ABBV     164.2500          290828766958                N/A\n",
       "..     ...          ...                   ...                ...\n",
       "500    YUM     137.8300           38799145000                N/A\n",
       "501    ZBH     121.3000           24922474006                N/A\n",
       "502   ZBRA     276.1400           14192914210                N/A\n",
       "503   ZION      39.3600            5809497427                N/A\n",
       "504    ZTS     151.5146           69296631547                N/A\n",
       "\n",
       "[505 rows x 4 columns]"
      ]
     },
     "execution_count": 24,
     "metadata": {},
     "output_type": "execute_result"
    }
   ],
   "source": [
    "fin_df = pd.DataFrame(columns=cols)\n",
    "for stock in stocks['Ticker']:\n",
    "    ticker = stock\n",
    "    api_call = f' https://api.iex.cloud/v1/data/core/quote/{ticker}?token={IEX_CLOUD_API_TOKEN}'\n",
    "\n",
    "    results = requests.get(api_call).json()\n",
    "\n",
    "    market_cap = results[0]['marketCap']\n",
    "    stock_price = results[0]['latestPrice']\n",
    "    symbol = results[0]['symbol']\n",
    "    fin_df.loc[len(fin_df.index)] = [symbol, stock_price, market_cap, 'N/A']\n",
    "fin_df\n",
    "\n",
    "    \n",
    "    \n",
    "\n",
    "\n",
    "    \n",
    "    "
   ]
  },
  {
   "cell_type": "markdown",
   "id": "732b7c1f",
   "metadata": {},
   "source": [
    "### Process Optimization Using Batch Calls\n",
    "Instad of making len(stocks) requests, a batch call is uses to divide the values inside stocks into 6 groups; as such only 6 requests are used. The batch API call cuts the process down to 15.4 seconds"
   ]
  },
  {
   "cell_type": "code",
   "execution_count": 25,
   "id": "46b35234",
   "metadata": {},
   "outputs": [],
   "source": [
    "# Taken from Stack Overflow to break a list into n-sized chunks\n",
    "def chunks (lst, n):\n",
    "    for i in range (0, len(lst), n):\n",
    "        yield lst[i:i + n]"
   ]
  },
  {
   "cell_type": "code",
   "execution_count": 57,
   "id": "78093025",
   "metadata": {},
   "outputs": [],
   "source": [
    "\n",
    "fin_df = pd.DataFrame(columns=cols)\n",
    "symbol_groups = list(chunks(stocks['Ticker'], 100))\n",
    "symbol_strings = []\n",
    "for i in range(0, len(symbol_groups)):\n",
    "    symbol_strings.append('.'.join(symbol_groups[i]))\n",
    "\n",
    "for symbol_string in symbol_strings:\n",
    "    batch_api_call = f'https://api.iex.cloud/v1/data/core/quote/{symbol_string}?batchSeparator=.&token={IEX_CLOUD_API_TOKEN}'\n",
    "    results = requests.get(batch_api_call).json()\n"
   ]
  },
  {
   "cell_type": "code",
   "execution_count": 46,
   "id": "cfddea24",
   "metadata": {},
   "outputs": [
    {
     "data": {
      "text/plain": [
       "[{'avgTotalVolume': 61997647,\n",
       "  'calculationPrice': 'close',\n",
       "  'change': -1.38,\n",
       "  'changePercent': -0.00815,\n",
       "  'close': None,\n",
       "  'closeSource': 'official',\n",
       "  'closeTime': None,\n",
       "  'companyName': 'Apple Inc',\n",
       "  'currency': 'USD',\n",
       "  'delayedPrice': None,\n",
       "  'delayedPriceTime': None,\n",
       "  'extendedChange': None,\n",
       "  'extendedChangePercent': None,\n",
       "  'extendedPrice': None,\n",
       "  'extendedPriceTime': None,\n",
       "  'high': None,\n",
       "  'highSource': '15 minute delayed price',\n",
       "  'highTime': 1713383999996,\n",
       "  'iexAskPrice': 0,\n",
       "  'iexAskSize': 0,\n",
       "  'iexBidPrice': 0,\n",
       "  'iexBidSize': 0,\n",
       "  'iexClose': 168,\n",
       "  'iexCloseTime': 1713383998847,\n",
       "  'iexLastUpdated': 1713383998847,\n",
       "  'iexMarketPercent': 0.0118942162671575,\n",
       "  'iexOpen': 169.55,\n",
       "  'iexOpenTime': 1713360600093,\n",
       "  'iexRealtimePrice': 168,\n",
       "  'iexRealtimeSize': 47,\n",
       "  'iexVolume': 605430,\n",
       "  'lastTradeTime': 1713383999917,\n",
       "  'latestPrice': 168,\n",
       "  'latestSource': 'Close',\n",
       "  'latestTime': 'April 17, 2024',\n",
       "  'latestUpdate': 1713384000407,\n",
       "  'latestVolume': None,\n",
       "  'low': None,\n",
       "  'lowSource': '15 minute delayed price',\n",
       "  'lowTime': 1713383998400,\n",
       "  'marketCap': 2594236008000,\n",
       "  'oddLotDelayedPrice': None,\n",
       "  'oddLotDelayedPriceTime': None,\n",
       "  'open': None,\n",
       "  'openTime': None,\n",
       "  'openSource': 'official',\n",
       "  'peRatio': 26.17,\n",
       "  'previousClose': 169.38,\n",
       "  'previousVolume': 73711235,\n",
       "  'primaryExchange': 'NASDAQ',\n",
       "  'symbol': 'AAPL',\n",
       "  'volume': None,\n",
       "  'week52High': 199.11,\n",
       "  'week52Low': 161.3,\n",
       "  'ytdChange': -0.12614441365218432,\n",
       "  'isUSMarketOpen': False},\n",
       " {'avgTotalVolume': 35689616,\n",
       "  'calculationPrice': 'close',\n",
       "  'change': 0.03,\n",
       "  'changePercent': 0.00186,\n",
       "  'close': None,\n",
       "  'closeSource': 'official',\n",
       "  'closeTime': None,\n",
       "  'companyName': 'AT&T, Inc.',\n",
       "  'currency': 'USD',\n",
       "  'delayedPrice': None,\n",
       "  'delayedPriceTime': None,\n",
       "  'extendedChange': None,\n",
       "  'extendedChangePercent': None,\n",
       "  'extendedPrice': None,\n",
       "  'extendedPriceTime': None,\n",
       "  'high': None,\n",
       "  'highSource': '15 minute delayed price',\n",
       "  'highTime': 1713383999988,\n",
       "  'iexAskPrice': 0,\n",
       "  'iexAskSize': 0,\n",
       "  'iexBidPrice': 0,\n",
       "  'iexBidSize': 0,\n",
       "  'iexClose': 16.11,\n",
       "  'iexCloseTime': 1713383998998,\n",
       "  'iexLastUpdated': 1713383998998,\n",
       "  'iexMarketPercent': 0.016954893203475534,\n",
       "  'iexOpen': 16.09,\n",
       "  'iexOpenTime': 1713360604305,\n",
       "  'iexRealtimePrice': 16.11,\n",
       "  'iexRealtimeSize': 800,\n",
       "  'iexVolume': 460792,\n",
       "  'lastTradeTime': 1713383999988,\n",
       "  'latestPrice': 16.12,\n",
       "  'latestSource': 'Close',\n",
       "  'latestTime': 'April 17, 2024',\n",
       "  'latestUpdate': 1713384108161,\n",
       "  'latestVolume': None,\n",
       "  'low': None,\n",
       "  'lowSource': '15 minute delayed price',\n",
       "  'lowTime': 1713367842670,\n",
       "  'marketCap': 114935600000,\n",
       "  'oddLotDelayedPrice': None,\n",
       "  'oddLotDelayedPriceTime': None,\n",
       "  'open': None,\n",
       "  'openTime': None,\n",
       "  'openSource': 'official',\n",
       "  'peRatio': 8.22,\n",
       "  'previousClose': 16.09,\n",
       "  'previousVolume': 56368796,\n",
       "  'primaryExchange': 'NEW YORK STOCK EXCHANGE INC.',\n",
       "  'symbol': 'T',\n",
       "  'volume': None,\n",
       "  'week52High': 18.51,\n",
       "  'week52Low': 12.76,\n",
       "  'ytdChange': -0.007711881444092156,\n",
       "  'isUSMarketOpen': False}]"
      ]
     },
     "execution_count": 46,
     "metadata": {},
     "output_type": "execute_result"
    }
   ],
   "source": [
    "ticker = 'AAPL.T' # Apple ticker symbol\n",
    "api_url = f' https://api.iex.cloud/v1/data/core/quote/{ticker}?batchSeparator=.&token={IEX_CLOUD_API_TOKEN}'\n",
    "results = requests.get(api_url).json()\n",
    "type(results)\n",
    "results\n"
   ]
  },
  {
   "cell_type": "code",
   "execution_count": 45,
   "id": "8bfb4085",
   "metadata": {},
   "outputs": [
    {
     "ename": "TypeError",
     "evalue": "'Response' object is not subscriptable",
     "output_type": "error",
     "traceback": [
      "\u001b[1;31m---------------------------------------------------------------------------\u001b[0m",
      "\u001b[1;31mTypeError\u001b[0m                                 Traceback (most recent call last)",
      "Cell \u001b[1;32mIn[45], line 1\u001b[0m\n\u001b[1;32m----> 1\u001b[0m market_cap \u001b[38;5;241m=\u001b[39m \u001b[43mresults\u001b[49m\u001b[43m[\u001b[49m\u001b[38;5;241;43m0\u001b[39;49m\u001b[43m]\u001b[49m[\u001b[38;5;124m'\u001b[39m\u001b[38;5;124mmarketCap\u001b[39m\u001b[38;5;124m'\u001b[39m]\n\u001b[0;32m      2\u001b[0m stock_price \u001b[38;5;241m=\u001b[39m results[\u001b[38;5;241m0\u001b[39m][\u001b[38;5;124m'\u001b[39m\u001b[38;5;124mlatestPrice\u001b[39m\u001b[38;5;124m'\u001b[39m]\n\u001b[0;32m      3\u001b[0m symbol \u001b[38;5;241m=\u001b[39m results[\u001b[38;5;241m0\u001b[39m][\u001b[38;5;124m'\u001b[39m\u001b[38;5;124msymbol\u001b[39m\u001b[38;5;124m'\u001b[39m]\n",
      "\u001b[1;31mTypeError\u001b[0m: 'Response' object is not subscriptable"
     ]
    }
   ],
   "source": [
    "market_cap = results[0]['marketCap']\n",
    "stock_price = results[0]['latestPrice']\n",
    "symbol = results[0]['symbol']\n",
    "\n",
    "print(symbol)\n",
    "print(market_cap)\n",
    "print(stock_price)"
   ]
  }
 ],
 "metadata": {
  "kernelspec": {
   "display_name": "Python 3 (ipykernel)",
   "language": "python",
   "name": "python3"
  },
  "language_info": {
   "codemirror_mode": {
    "name": "ipython",
    "version": 3
   },
   "file_extension": ".py",
   "mimetype": "text/x-python",
   "name": "python",
   "nbconvert_exporter": "python",
   "pygments_lexer": "ipython3",
   "version": "3.12.1"
  }
 },
 "nbformat": 4,
 "nbformat_minor": 5
}
