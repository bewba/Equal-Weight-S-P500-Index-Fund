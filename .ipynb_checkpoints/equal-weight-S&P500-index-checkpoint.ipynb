{
 "cells": [
  {
   "cell_type": "markdown",
   "id": "39343667",
   "metadata": {},
   "source": [
    "# Importing the necessary libraries"
   ]
  },
  {
   "cell_type": "code",
   "execution_count": 1,
   "id": "ec33c54f",
   "metadata": {},
   "outputs": [],
   "source": [
    "import pandas as pd\n",
    "import numpy as np \n",
    "import requests\n",
    "import xlsxwriter\n",
    "import math\n",
    "import sys"
   ]
  },
  {
   "cell_type": "markdown",
   "id": "2def509b",
   "metadata": {},
   "source": [
    "# Importing the list of stocks\n",
    "### Stocks can be taken from a free API, in this use case, I just used a CSV taken from this <a href = \"https://drive.google.com/file/d/1ZJSpbY69DVckVZlO9cC6KkgfSufybcHN/view\">link</a>\n"
   ]
  },
  {
   "cell_type": "code",
   "execution_count": 2,
   "id": "bcc89c75",
   "metadata": {},
   "outputs": [
    {
     "data": {
      "text/html": [
       "<div>\n",
       "<style scoped>\n",
       "    .dataframe tbody tr th:only-of-type {\n",
       "        vertical-align: middle;\n",
       "    }\n",
       "\n",
       "    .dataframe tbody tr th {\n",
       "        vertical-align: top;\n",
       "    }\n",
       "\n",
       "    .dataframe thead th {\n",
       "        text-align: right;\n",
       "    }\n",
       "</style>\n",
       "<table border=\"1\" class=\"dataframe\">\n",
       "  <thead>\n",
       "    <tr style=\"text-align: right;\">\n",
       "      <th></th>\n",
       "      <th>Ticker</th>\n",
       "    </tr>\n",
       "  </thead>\n",
       "  <tbody>\n",
       "    <tr>\n",
       "      <th>0</th>\n",
       "      <td>A</td>\n",
       "    </tr>\n",
       "    <tr>\n",
       "      <th>1</th>\n",
       "      <td>AAL</td>\n",
       "    </tr>\n",
       "    <tr>\n",
       "      <th>2</th>\n",
       "      <td>AAP</td>\n",
       "    </tr>\n",
       "    <tr>\n",
       "      <th>3</th>\n",
       "      <td>AAPL</td>\n",
       "    </tr>\n",
       "    <tr>\n",
       "      <th>4</th>\n",
       "      <td>ABBV</td>\n",
       "    </tr>\n",
       "    <tr>\n",
       "      <th>...</th>\n",
       "      <td>...</td>\n",
       "    </tr>\n",
       "    <tr>\n",
       "      <th>500</th>\n",
       "      <td>YUM</td>\n",
       "    </tr>\n",
       "    <tr>\n",
       "      <th>501</th>\n",
       "      <td>ZBH</td>\n",
       "    </tr>\n",
       "    <tr>\n",
       "      <th>502</th>\n",
       "      <td>ZBRA</td>\n",
       "    </tr>\n",
       "    <tr>\n",
       "      <th>503</th>\n",
       "      <td>ZION</td>\n",
       "    </tr>\n",
       "    <tr>\n",
       "      <th>504</th>\n",
       "      <td>ZTS</td>\n",
       "    </tr>\n",
       "  </tbody>\n",
       "</table>\n",
       "<p>505 rows × 1 columns</p>\n",
       "</div>"
      ],
      "text/plain": [
       "    Ticker\n",
       "0        A\n",
       "1      AAL\n",
       "2      AAP\n",
       "3     AAPL\n",
       "4     ABBV\n",
       "..     ...\n",
       "500    YUM\n",
       "501    ZBH\n",
       "502   ZBRA\n",
       "503   ZION\n",
       "504    ZTS\n",
       "\n",
       "[505 rows x 1 columns]"
      ]
     },
     "execution_count": 2,
     "metadata": {},
     "output_type": "execute_result"
    }
   ],
   "source": [
    "stocks = pd.read_csv('../sp_500_stocks.csv')\n",
    "type(stocks)\n",
    "stocks"
   ]
  },
  {
   "cell_type": "markdown",
   "id": "047cad01",
   "metadata": {},
   "source": [
    "# Taking the IEX Cloud API \n",
    "\n",
    "Importing IEX Cloud API token to import financial data to retrieve stock quotes, finanacial statements, news articles and other financial data\n",
    "\n",
    "Link to the API could be found <a href = \"https://algotrading101.com/learn/iex-api-guide/\">here</a>"
   ]
  },
  {
   "cell_type": "code",
   "execution_count": 3,
   "id": "a972b818",
   "metadata": {},
   "outputs": [
    {
     "data": {
      "text/plain": [
       "'pk_a51cc202813744298030aa99a68626d9'"
      ]
     },
     "execution_count": 3,
     "metadata": {},
     "output_type": "execute_result"
    }
   ],
   "source": [
    "sys.path.append('../')\n",
    "from admin import IEX_CLOUD_API_TOKEN\n",
    "IEX_CLOUD_API_TOKEN"
   ]
  },
  {
   "cell_type": "markdown",
   "id": "882c5e0f",
   "metadata": {},
   "source": [
    "### First API call\n",
    "Looking for\n",
    "- Market Capitalization of a stock given a ticker\n",
    "- Price of a stock given a ticker\n",
    "- Symbol of a stock"
   ]
  },
  {
   "cell_type": "code",
   "execution_count": 13,
   "id": "afa136c8",
   "metadata": {},
   "outputs": [
    {
     "data": {
      "text/plain": [
       "list"
      ]
     },
     "execution_count": 13,
     "metadata": {},
     "output_type": "execute_result"
    }
   ],
   "source": [
    "ticker = 'AAPL' # Apple ticker symbol\n",
    "api_url = f' https://api.iex.cloud/v1/data/core/quote/{ticker}?token={IEX_CLOUD_API_TOKEN}'\n",
    "results = requests.get(api_url).json()\n",
    "type(results)\n"
   ]
  },
  {
   "cell_type": "markdown",
   "id": "138e5e5a",
   "metadata": {},
   "source": [
    "### Parsing the API call to collect the data needed"
   ]
  },
  {
   "cell_type": "code",
   "execution_count": 25,
   "id": "5d20681d",
   "metadata": {},
   "outputs": [
    {
     "name": "stdout",
     "output_type": "stream",
     "text": [
      "AAPL\n",
      "2615545803780\n",
      "169.38\n"
     ]
    }
   ],
   "source": [
    "market_cap = results[0]['marketCap']\n",
    "stock_price = results[0]['latestPrice']\n",
    "symbol = results[0]['symbol']\n",
    "\n",
    "print(symbol)\n",
    "print(market_cap)\n",
    "print(stock_price)"
   ]
  },
  {
   "cell_type": "markdown",
   "id": "a93f488d",
   "metadata": {},
   "source": [
    "### Placing each stock and value into a pandas data frame\n",
    "\n",
    "Create columns for a new dataframe to return"
   ]
  },
  {
   "cell_type": "code",
   "execution_count": 26,
   "id": "cfebd25d",
   "metadata": {},
   "outputs": [
    {
     "data": {
      "text/html": [
       "<div>\n",
       "<style scoped>\n",
       "    .dataframe tbody tr th:only-of-type {\n",
       "        vertical-align: middle;\n",
       "    }\n",
       "\n",
       "    .dataframe tbody tr th {\n",
       "        vertical-align: top;\n",
       "    }\n",
       "\n",
       "    .dataframe thead th {\n",
       "        text-align: right;\n",
       "    }\n",
       "</style>\n",
       "<table border=\"1\" class=\"dataframe\">\n",
       "  <thead>\n",
       "    <tr style=\"text-align: right;\">\n",
       "      <th></th>\n",
       "      <th>Ticker</th>\n",
       "      <th>Stock Price</th>\n",
       "      <th>Market Capitalization</th>\n",
       "      <th>Shares to Purchase</th>\n",
       "    </tr>\n",
       "  </thead>\n",
       "  <tbody>\n",
       "  </tbody>\n",
       "</table>\n",
       "</div>"
      ],
      "text/plain": [
       "Empty DataFrame\n",
       "Columns: [Ticker, Stock Price, Market Capitalization, Shares to Purchase]\n",
       "Index: []"
      ]
     },
     "execution_count": 26,
     "metadata": {},
     "output_type": "execute_result"
    }
   ],
   "source": [
    "cols = ['Ticker', \"Stock Price\", \"Market Capitalization\", 'Shares to Purchase']\n",
    "fin_df = pd.DataFrame(columns=cols)\n",
    "fin_df"
   ]
  }
 ],
 "metadata": {
  "kernelspec": {
   "display_name": "Python 3 (ipykernel)",
   "language": "python",
   "name": "python3"
  },
  "language_info": {
   "codemirror_mode": {
    "name": "ipython",
    "version": 3
   },
   "file_extension": ".py",
   "mimetype": "text/x-python",
   "name": "python",
   "nbconvert_exporter": "python",
   "pygments_lexer": "ipython3",
   "version": "3.12.1"
  }
 },
 "nbformat": 4,
 "nbformat_minor": 5
}
