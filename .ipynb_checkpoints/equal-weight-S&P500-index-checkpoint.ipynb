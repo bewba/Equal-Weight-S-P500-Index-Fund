{
 "cells": [
  {
   "cell_type": "markdown",
   "id": "39343667",
   "metadata": {},
   "source": [
    "# Importing the necessary libraries"
   ]
  },
  {
   "cell_type": "code",
   "execution_count": 1,
   "id": "ec33c54f",
   "metadata": {},
   "outputs": [],
   "source": [
    "import pandas as pd\n",
    "import numpy as np \n",
    "import requests\n",
    "import xlsxwriter\n",
    "import math\n",
    "import sys"
   ]
  },
  {
   "cell_type": "markdown",
   "id": "2def509b",
   "metadata": {},
   "source": [
    "# Importing the list of stocks\n",
    "### Stocks can be taken from a free API, in this use case, I just used a CSV taken from this <a href = \"https://drive.google.com/file/d/1ZJSpbY69DVckVZlO9cC6KkgfSufybcHN/view\">link</a>\n"
   ]
  },
  {
   "cell_type": "code",
   "execution_count": 2,
   "id": "bcc89c75",
   "metadata": {},
   "outputs": [
    {
     "data": {
      "text/html": [
       "<div>\n",
       "<style scoped>\n",
       "    .dataframe tbody tr th:only-of-type {\n",
       "        vertical-align: middle;\n",
       "    }\n",
       "\n",
       "    .dataframe tbody tr th {\n",
       "        vertical-align: top;\n",
       "    }\n",
       "\n",
       "    .dataframe thead th {\n",
       "        text-align: right;\n",
       "    }\n",
       "</style>\n",
       "<table border=\"1\" class=\"dataframe\">\n",
       "  <thead>\n",
       "    <tr style=\"text-align: right;\">\n",
       "      <th></th>\n",
       "      <th>Ticker</th>\n",
       "    </tr>\n",
       "  </thead>\n",
       "  <tbody>\n",
       "    <tr>\n",
       "      <th>0</th>\n",
       "      <td>A</td>\n",
       "    </tr>\n",
       "    <tr>\n",
       "      <th>1</th>\n",
       "      <td>AAL</td>\n",
       "    </tr>\n",
       "    <tr>\n",
       "      <th>2</th>\n",
       "      <td>AAP</td>\n",
       "    </tr>\n",
       "    <tr>\n",
       "      <th>3</th>\n",
       "      <td>AAPL</td>\n",
       "    </tr>\n",
       "    <tr>\n",
       "      <th>4</th>\n",
       "      <td>ABBV</td>\n",
       "    </tr>\n",
       "    <tr>\n",
       "      <th>...</th>\n",
       "      <td>...</td>\n",
       "    </tr>\n",
       "    <tr>\n",
       "      <th>500</th>\n",
       "      <td>YUM</td>\n",
       "    </tr>\n",
       "    <tr>\n",
       "      <th>501</th>\n",
       "      <td>ZBH</td>\n",
       "    </tr>\n",
       "    <tr>\n",
       "      <th>502</th>\n",
       "      <td>ZBRA</td>\n",
       "    </tr>\n",
       "    <tr>\n",
       "      <th>503</th>\n",
       "      <td>ZION</td>\n",
       "    </tr>\n",
       "    <tr>\n",
       "      <th>504</th>\n",
       "      <td>ZTS</td>\n",
       "    </tr>\n",
       "  </tbody>\n",
       "</table>\n",
       "<p>505 rows × 1 columns</p>\n",
       "</div>"
      ],
      "text/plain": [
       "    Ticker\n",
       "0        A\n",
       "1      AAL\n",
       "2      AAP\n",
       "3     AAPL\n",
       "4     ABBV\n",
       "..     ...\n",
       "500    YUM\n",
       "501    ZBH\n",
       "502   ZBRA\n",
       "503   ZION\n",
       "504    ZTS\n",
       "\n",
       "[505 rows x 1 columns]"
      ]
     },
     "execution_count": 2,
     "metadata": {},
     "output_type": "execute_result"
    }
   ],
   "source": [
    "stocks = pd.read_csv('../sp_500_stocks.csv')\n",
    "type(stocks)\n",
    "stocks"
   ]
  },
  {
   "cell_type": "markdown",
   "id": "047cad01",
   "metadata": {},
   "source": [
    "# Taking the IEX Cloud API \n",
    "\n",
    "Importing IEX Cloud API token to import financial data to retrieve stock quotes, finanacial statements, news articles and other financial data\n",
    "\n",
    "Link to the API could be found <a href = \"https://algotrading101.com/learn/iex-api-guide/\">here</a>"
   ]
  },
  {
   "cell_type": "code",
   "execution_count": 3,
   "id": "a972b818",
   "metadata": {},
   "outputs": [
    {
     "data": {
      "text/plain": [
       "'pk_a51cc202813744298030aa99a68626d9'"
      ]
     },
     "execution_count": 3,
     "metadata": {},
     "output_type": "execute_result"
    }
   ],
   "source": [
    "sys.path.append('../')\n",
    "from admin import IEX_CLOUD_API_TOKEN\n",
    "IEX_CLOUD_API_TOKEN"
   ]
  },
  {
   "cell_type": "markdown",
   "id": "882c5e0f",
   "metadata": {},
   "source": [
    "### First API call\n",
    "Looking for\n",
    "- Market Capitalization of a stock given a ticker\n",
    "- Price of a stock given a ticker\n",
    "- Symbol of a stock"
   ]
  },
  {
   "cell_type": "code",
   "execution_count": 4,
   "id": "afa136c8",
   "metadata": {},
   "outputs": [
    {
     "data": {
      "text/plain": [
       "list"
      ]
     },
     "execution_count": 4,
     "metadata": {},
     "output_type": "execute_result"
    }
   ],
   "source": [
    "ticker = 'AAPL' # Apple ticker symbol\n",
    "api_url = f' https://api.iex.cloud/v1/data/core/quote/{ticker}?token={IEX_CLOUD_API_TOKEN}'\n",
    "results = requests.get(api_url).json()\n",
    "type(results)\n"
   ]
  },
  {
   "cell_type": "markdown",
   "id": "138e5e5a",
   "metadata": {},
   "source": [
    "### Parsing the API call to collect the data needed"
   ]
  },
  {
   "cell_type": "code",
   "execution_count": 5,
   "id": "5d20681d",
   "metadata": {},
   "outputs": [
    {
     "name": "stdout",
     "output_type": "stream",
     "text": [
      "AAPL\n",
      "2594236008000\n",
      "168\n"
     ]
    }
   ],
   "source": [
    "market_cap = results[0]['marketCap']\n",
    "stock_price = results[0]['latestPrice']\n",
    "symbol = results[0]['symbol']\n",
    "\n",
    "print(symbol)\n",
    "print(market_cap)\n",
    "print(stock_price)"
   ]
  },
  {
   "cell_type": "markdown",
   "id": "a93f488d",
   "metadata": {},
   "source": [
    "### Placing a stock with its respective values into a pandas data frame\n",
    "\n",
    "Create columns for a new dataframe to return"
   ]
  },
  {
   "cell_type": "code",
   "execution_count": 18,
   "id": "cfebd25d",
   "metadata": {},
   "outputs": [
    {
     "data": {
      "text/html": [
       "<div>\n",
       "<style scoped>\n",
       "    .dataframe tbody tr th:only-of-type {\n",
       "        vertical-align: middle;\n",
       "    }\n",
       "\n",
       "    .dataframe tbody tr th {\n",
       "        vertical-align: top;\n",
       "    }\n",
       "\n",
       "    .dataframe thead th {\n",
       "        text-align: right;\n",
       "    }\n",
       "</style>\n",
       "<table border=\"1\" class=\"dataframe\">\n",
       "  <thead>\n",
       "    <tr style=\"text-align: right;\">\n",
       "      <th></th>\n",
       "      <th>Ticker</th>\n",
       "      <th>Stock Price</th>\n",
       "      <th>Market Capitalization</th>\n",
       "      <th>Shares to Purchase</th>\n",
       "    </tr>\n",
       "  </thead>\n",
       "  <tbody>\n",
       "  </tbody>\n",
       "</table>\n",
       "</div>"
      ],
      "text/plain": [
       "Empty DataFrame\n",
       "Columns: [Ticker, Stock Price, Market Capitalization, Shares to Purchase]\n",
       "Index: []"
      ]
     },
     "execution_count": 18,
     "metadata": {},
     "output_type": "execute_result"
    }
   ],
   "source": [
    "cols = ['Ticker', \"Stock Price\", \"Market Capitalization\", 'Shares to Purchase']\n",
    "fin_df = pd.DataFrame(columns=cols)\n",
    "fin_df"
   ]
  },
  {
   "cell_type": "markdown",
   "id": "56c3b9bc",
   "metadata": {},
   "source": [
    "##### Tester code for syntax"
   ]
  },
  {
   "cell_type": "code",
   "execution_count": 16,
   "id": "1afea335",
   "metadata": {},
   "outputs": [],
   "source": [
    "fin_df.loc[len(fin_df.index)] = [symbol, stock_price, market_cap, 'N/A']\n",
    "fin_df"
   ]
  },
  {
   "cell_type": "markdown",
   "id": "1d15c8ce",
   "metadata": {},
   "source": [
    "# Looping through the stock list created earlier and appending the respective values\n",
    "\n",
    "The free version of the API only allows for 5 API calls a seconds meaning that this process will take a while with addition to the run time of HTTP requests\n",
    "\n",
    "(9m 1.7s)"
   ]
  },
  {
   "cell_type": "code",
   "execution_count": 24,
   "id": "cc1803f3",
   "metadata": {},
   "outputs": [
    {
     "data": {
      "text/html": [
       "<div>\n",
       "<style scoped>\n",
       "    .dataframe tbody tr th:only-of-type {\n",
       "        vertical-align: middle;\n",
       "    }\n",
       "\n",
       "    .dataframe tbody tr th {\n",
       "        vertical-align: top;\n",
       "    }\n",
       "\n",
       "    .dataframe thead th {\n",
       "        text-align: right;\n",
       "    }\n",
       "</style>\n",
       "<table border=\"1\" class=\"dataframe\">\n",
       "  <thead>\n",
       "    <tr style=\"text-align: right;\">\n",
       "      <th></th>\n",
       "      <th>Ticker</th>\n",
       "      <th>Stock Price</th>\n",
       "      <th>Market Capitalization</th>\n",
       "      <th>Shares to Purchase</th>\n",
       "    </tr>\n",
       "  </thead>\n",
       "  <tbody>\n",
       "    <tr>\n",
       "      <th>0</th>\n",
       "      <td>A</td>\n",
       "      <td>134.5500</td>\n",
       "      <td>39430588462</td>\n",
       "      <td>N/A</td>\n",
       "    </tr>\n",
       "    <tr>\n",
       "      <th>1</th>\n",
       "      <td>AAL</td>\n",
       "      <td>13.8900</td>\n",
       "      <td>9094572174</td>\n",
       "      <td>N/A</td>\n",
       "    </tr>\n",
       "    <tr>\n",
       "      <th>2</th>\n",
       "      <td>AAP</td>\n",
       "      <td>74.0500</td>\n",
       "      <td>4414081328</td>\n",
       "      <td>N/A</td>\n",
       "    </tr>\n",
       "    <tr>\n",
       "      <th>3</th>\n",
       "      <td>AAPL</td>\n",
       "      <td>168.0000</td>\n",
       "      <td>2594236008000</td>\n",
       "      <td>N/A</td>\n",
       "    </tr>\n",
       "    <tr>\n",
       "      <th>4</th>\n",
       "      <td>ABBV</td>\n",
       "      <td>164.2500</td>\n",
       "      <td>290828766958</td>\n",
       "      <td>N/A</td>\n",
       "    </tr>\n",
       "    <tr>\n",
       "      <th>...</th>\n",
       "      <td>...</td>\n",
       "      <td>...</td>\n",
       "      <td>...</td>\n",
       "      <td>...</td>\n",
       "    </tr>\n",
       "    <tr>\n",
       "      <th>500</th>\n",
       "      <td>YUM</td>\n",
       "      <td>137.8300</td>\n",
       "      <td>38799145000</td>\n",
       "      <td>N/A</td>\n",
       "    </tr>\n",
       "    <tr>\n",
       "      <th>501</th>\n",
       "      <td>ZBH</td>\n",
       "      <td>121.3000</td>\n",
       "      <td>24922474006</td>\n",
       "      <td>N/A</td>\n",
       "    </tr>\n",
       "    <tr>\n",
       "      <th>502</th>\n",
       "      <td>ZBRA</td>\n",
       "      <td>276.1400</td>\n",
       "      <td>14192914210</td>\n",
       "      <td>N/A</td>\n",
       "    </tr>\n",
       "    <tr>\n",
       "      <th>503</th>\n",
       "      <td>ZION</td>\n",
       "      <td>39.3600</td>\n",
       "      <td>5809497427</td>\n",
       "      <td>N/A</td>\n",
       "    </tr>\n",
       "    <tr>\n",
       "      <th>504</th>\n",
       "      <td>ZTS</td>\n",
       "      <td>151.5146</td>\n",
       "      <td>69296631547</td>\n",
       "      <td>N/A</td>\n",
       "    </tr>\n",
       "  </tbody>\n",
       "</table>\n",
       "<p>505 rows × 4 columns</p>\n",
       "</div>"
      ],
      "text/plain": [
       "    Ticker  Stock Price Market Capitalization Shares to Purchase\n",
       "0        A     134.5500           39430588462                N/A\n",
       "1      AAL      13.8900            9094572174                N/A\n",
       "2      AAP      74.0500            4414081328                N/A\n",
       "3     AAPL     168.0000         2594236008000                N/A\n",
       "4     ABBV     164.2500          290828766958                N/A\n",
       "..     ...          ...                   ...                ...\n",
       "500    YUM     137.8300           38799145000                N/A\n",
       "501    ZBH     121.3000           24922474006                N/A\n",
       "502   ZBRA     276.1400           14192914210                N/A\n",
       "503   ZION      39.3600            5809497427                N/A\n",
       "504    ZTS     151.5146           69296631547                N/A\n",
       "\n",
       "[505 rows x 4 columns]"
      ]
     },
     "execution_count": 24,
     "metadata": {},
     "output_type": "execute_result"
    }
   ],
   "source": [
    "fin_df = pd.DataFrame(columns=cols)\n",
    "for stock in stocks['Ticker']:\n",
    "    ticker = stock\n",
    "    api_call = f' https://api.iex.cloud/v1/data/core/quote/{ticker}?token={IEX_CLOUD_API_TOKEN}'\n",
    "\n",
    "    results = requests.get(api_call).json()\n",
    "\n",
    "    market_cap = results[0]['marketCap']\n",
    "    stock_price = results[0]['latestPrice']\n",
    "    symbol = results[0]['symbol']\n",
    "    fin_df.loc[len(fin_df.index)] = [symbol, stock_price, market_cap, 'N/A']\n",
    "fin_df\n",
    "\n",
    "    \n",
    "    \n",
    "\n",
    "\n",
    "    \n",
    "    "
   ]
  },
  {
   "cell_type": "markdown",
   "id": "732b7c1f",
   "metadata": {},
   "source": [
    "### Process Optimization Using Batch Calls\n",
    "Instad of making len(stocks) requests, a batch call is uses to divide the values inside stocks into 6 groups; as such only 6 requests are used. The batch API call cuts the process down to 15.4 seconds"
   ]
  },
  {
   "cell_type": "code",
   "execution_count": 25,
   "id": "46b35234",
   "metadata": {},
   "outputs": [],
   "source": [
    "# Taken from Stack Overflow to break a list into n-sized chunks\n",
    "def chunks (lst, n):\n",
    "    for i in range (0, len(lst), n):\n",
    "        yield lst[i:i + n]"
   ]
  },
  {
   "cell_type": "code",
   "execution_count": 60,
   "id": "78093025",
   "metadata": {},
   "outputs": [
    {
     "name": "stdout",
     "output_type": "stream",
     "text": [
      "{'avgTotalVolume': 1359393, 'calculationPrice': 'close', 'change': -2.25, 'changePercent': -0.01645, 'close': None, 'closeSource': 'official', 'closeTime': None, 'companyName': 'Agilent Technologies Inc.', 'currency': 'USD', 'delayedPrice': None, 'delayedPriceTime': None, 'extendedChange': None, 'extendedChangePercent': None, 'extendedPrice': None, 'extendedPriceTime': None, 'high': None, 'highSource': '15 minute delayed price', 'highTime': 1713383999906, 'iexAskPrice': 0, 'iexAskSize': 0, 'iexBidPrice': 0, 'iexBidSize': 0, 'iexClose': 134.54, 'iexCloseTime': 1713383995800, 'iexLastUpdated': 1713383995800, 'iexMarketPercent': 283.92972972972973, 'iexOpen': 137.215, 'iexOpenTime': 1713360615425, 'iexRealtimePrice': 134.54, 'iexRealtimeSize': 102, 'iexVolume': 52527, 'lastTradeTime': 1713383999726, 'latestPrice': 134.55, 'latestSource': 'Close', 'latestTime': 'April 17, 2024', 'latestUpdate': 1713384002449, 'latestVolume': None, 'low': None, 'lowSource': '15 minute delayed price', 'lowTime': 1713361757279, 'marketCap': 39430588462, 'oddLotDelayedPrice': None, 'oddLotDelayedPriceTime': None, 'open': None, 'openTime': None, 'openSource': 'official', 'peRatio': 32.11, 'previousClose': 136.8, 'previousVolume': 1345667, 'primaryExchange': 'NEW YORK STOCK EXCHANGE INC.', 'symbol': 'A', 'volume': None, 'week52High': 151.33, 'week52Low': 96.48, 'ytdChange': -0.03089117445760029, 'isUSMarketOpen': False}\n",
      "{'avgTotalVolume': 29927537, 'calculationPrice': 'close', 'change': 0.86, 'changePercent': 0.066, 'close': None, 'closeSource': 'official', 'closeTime': None, 'companyName': 'American Airlines Group Inc', 'currency': 'USD', 'delayedPrice': None, 'delayedPriceTime': None, 'extendedChange': None, 'extendedChangePercent': None, 'extendedPrice': None, 'extendedPriceTime': None, 'high': None, 'highSource': None, 'highTime': None, 'iexAskPrice': 0, 'iexAskSize': 0, 'iexBidPrice': 0, 'iexBidSize': 0, 'iexClose': 13.89, 'iexCloseTime': 1713383997206, 'iexLastUpdated': 1713383997206, 'iexMarketPercent': 611.958503798948, 'iexOpen': 13.45, 'iexOpenTime': 1713360600683, 'iexRealtimePrice': 13.89, 'iexRealtimeSize': 804, 'iexVolume': 1047061, 'lastTradeTime': 1713383999899, 'latestPrice': 13.89, 'latestSource': 'Close', 'latestTime': 'April 17, 2024', 'latestUpdate': 1713384000157, 'latestVolume': None, 'low': None, 'lowSource': 'IEX real time price', 'lowTime': 1713367979410, 'marketCap': 9094572174, 'oddLotDelayedPrice': None, 'oddLotDelayedPriceTime': None, 'open': None, 'openTime': None, 'openSource': 'official', 'peRatio': 12.18, 'previousClose': 13.03, 'previousVolume': 26477189, 'primaryExchange': 'NASDAQ', 'symbol': 'AAL', 'volume': None, 'week52High': 19.08, 'week52Low': 10.86, 'ytdChange': 0.014326055312954777, 'isUSMarketOpen': False}\n",
      "{'avgTotalVolume': 1667099, 'calculationPrice': 'close', 'change': 2.44, 'changePercent': 0.03407, 'close': None, 'closeSource': 'official', 'closeTime': None, 'companyName': 'Advance Auto Parts Inc', 'currency': 'USD', 'delayedPrice': None, 'delayedPriceTime': None, 'extendedChange': None, 'extendedChangePercent': None, 'extendedPrice': None, 'extendedPriceTime': None, 'high': None, 'highSource': '15 minute delayed price', 'highTime': 1713383999978, 'iexAskPrice': 0, 'iexAskSize': 0, 'iexBidPrice': 0, 'iexBidSize': 0, 'iexClose': 74.04, 'iexCloseTime': 1713383983333, 'iexLastUpdated': 1713383983333, 'iexMarketPercent': 129.01754385964912, 'iexOpen': 72.37, 'iexOpenTime': 1713360675961, 'iexRealtimePrice': 74.04, 'iexRealtimeSize': 26, 'iexVolume': 51478, 'lastTradeTime': 1713383999845, 'latestPrice': 74.05, 'latestSource': 'Close', 'latestTime': 'April 17, 2024', 'latestUpdate': 1713384002020, 'latestVolume': None, 'low': None, 'lowSource': '15 minute delayed price', 'lowTime': 1713360675938, 'marketCap': 4414081328, 'oddLotDelayedPrice': None, 'oddLotDelayedPriceTime': None, 'open': None, 'openTime': None, 'openSource': 'official', 'peRatio': 148.46, 'previousClose': 71.61, 'previousVolume': 1593463, 'primaryExchange': 'NEW YORK STOCK EXCHANGE INC.', 'symbol': 'AAP', 'volume': None, 'week52High': 127.87, 'week52Low': 47.38, 'ytdChange': 0.21604768750959402, 'isUSMarketOpen': False}\n",
      "{'avgTotalVolume': 61997647, 'calculationPrice': 'close', 'change': -1.38, 'changePercent': -0.00815, 'close': None, 'closeSource': 'official', 'closeTime': None, 'companyName': 'Apple Inc', 'currency': 'USD', 'delayedPrice': None, 'delayedPriceTime': None, 'extendedChange': None, 'extendedChangePercent': None, 'extendedPrice': None, 'extendedPriceTime': None, 'high': None, 'highSource': None, 'highTime': None, 'iexAskPrice': 0, 'iexAskSize': 0, 'iexBidPrice': 0, 'iexBidSize': 0, 'iexClose': 168, 'iexCloseTime': 1713383998847, 'iexLastUpdated': 1713383998847, 'iexMarketPercent': 17.39441475607654, 'iexOpen': 169.55, 'iexOpenTime': 1713360600093, 'iexRealtimePrice': 168, 'iexRealtimeSize': 47, 'iexVolume': 605430, 'lastTradeTime': 1713383999917, 'latestPrice': 168, 'latestSource': 'Close', 'latestTime': 'April 17, 2024', 'latestUpdate': 1713384000407, 'latestVolume': None, 'low': None, 'lowSource': None, 'lowTime': None, 'marketCap': 2594236008000, 'oddLotDelayedPrice': None, 'oddLotDelayedPriceTime': None, 'open': None, 'openTime': None, 'openSource': 'official', 'peRatio': 26.17, 'previousClose': 169.38, 'previousVolume': 73711235, 'primaryExchange': 'NASDAQ', 'symbol': 'AAPL', 'volume': None, 'week52High': 199.11, 'week52Low': 161.3, 'ytdChange': -0.12614441365218432, 'isUSMarketOpen': False}\n",
      "{'avgTotalVolume': 5563962, 'calculationPrice': 'close', 'change': 1.71, 'changePercent': 0.01052, 'close': None, 'closeSource': 'official', 'closeTime': None, 'companyName': 'Abbvie Inc', 'currency': 'USD', 'delayedPrice': None, 'delayedPriceTime': None, 'extendedChange': None, 'extendedChangePercent': None, 'extendedPrice': None, 'extendedPriceTime': None, 'high': None, 'highSource': '15 minute delayed price', 'highTime': 1713383999997, 'iexAskPrice': 0, 'iexAskSize': 0, 'iexBidPrice': 148.45, 'iexBidSize': 100, 'iexClose': 164.2, 'iexCloseTime': 1713383993843, 'iexLastUpdated': 1713383993843, 'iexMarketPercent': 1483.4769230769232, 'iexOpen': 163.89, 'iexOpenTime': 1713360609629, 'iexRealtimePrice': 164.2, 'iexRealtimeSize': 100, 'iexVolume': 96426, 'lastTradeTime': 1713383999793, 'latestPrice': 164.25, 'latestSource': 'Close', 'latestTime': 'April 17, 2024', 'latestUpdate': 1713384002426, 'latestVolume': None, 'low': None, 'lowSource': '15 minute delayed price', 'lowTime': 1713366119460, 'marketCap': 290828766958, 'oddLotDelayedPrice': None, 'oddLotDelayedPriceTime': None, 'open': None, 'openTime': None, 'openSource': 'official', 'peRatio': 60.39, 'previousClose': 162.54, 'previousVolume': 4881516, 'primaryExchange': 'NEW YORK STOCK EXCHANGE INC.', 'symbol': 'ABBV', 'volume': None, 'week52High': 181.2, 'week52Low': 125.85, 'ytdChange': 0.0792778041215624, 'isUSMarketOpen': False}\n",
      "{'avgTotalVolume': 2447412, 'calculationPrice': 'previousclose', 'change': 0, 'changePercent': 0, 'close': None, 'closeSource': 'official', 'closeTime': None, 'companyName': 'AMERISOURCEBERGEN CORP', 'currency': 'USD', 'delayedPrice': None, 'delayedPriceTime': None, 'extendedChange': None, 'extendedChangePercent': None, 'extendedPrice': None, 'extendedPriceTime': None, 'high': None, 'highSource': '15 minute delayed price', 'highTime': 1693339199977, 'iexAskPrice': 0, 'iexAskSize': 0, 'iexBidPrice': 0, 'iexBidSize': 0, 'iexClose': 179.95, 'iexCloseTime': 1693339187317, 'iexLastUpdated': 1692388798020, 'iexMarketPercent': 0.05310562319646078, 'iexOpen': 180.37, 'iexOpenTime': 1692388798020, 'iexRealtimePrice': 180.37, 'iexRealtimeSize': 3, 'iexVolume': 42806, 'lastTradeTime': 1693339199977, 'latestPrice': 179.98, 'latestSource': 'Previous close', 'latestTime': 'August 29, 2023', 'latestUpdate': 1693281600000, 'latestVolume': None, 'low': None, 'lowSource': 'IEX real time price', 'lowTime': 1693320399019, 'marketCap': 36387430583, 'oddLotDelayedPrice': None, 'oddLotDelayedPriceTime': None, 'open': None, 'openTime': None, 'openSource': 'official', 'peRatio': 21.98, 'previousClose': 179.98, 'previousVolume': 806054, 'primaryExchange': '', 'symbol': 'ABC', 'volume': None, 'week52High': 194.28, 'week52Low': 133.16, 'ytdChange': 0.0954491810303113, 'isUSMarketOpen': False}\n",
      "{'avgTotalVolume': 0, 'calculationPrice': 'close', 'change': 0.23, 'changePercent': 0.0006, 'close': None, 'closeSource': 'official', 'closeTime': None, 'companyName': 'Abiomed Inc.', 'currency': 'USD', 'delayedPrice': None, 'delayedPriceTime': None, 'extendedChange': None, 'extendedChangePercent': None, 'extendedPrice': None, 'extendedPriceTime': None, 'high': None, 'highSource': 'Close', 'highTime': 1671656400819, 'iexAskPrice': None, 'iexAskSize': None, 'iexBidPrice': None, 'iexBidSize': None, 'iexClose': 381.19, 'iexCloseTime': 1671656392475, 'iexLastUpdated': None, 'iexMarketPercent': None, 'iexOpen': None, 'iexOpenTime': None, 'iexRealtimePrice': None, 'iexRealtimeSize': None, 'iexVolume': None, 'lastTradeTime': 1671656399403, 'latestPrice': 381.02, 'latestSource': 'Close', 'latestTime': 'December 21, 2022', 'latestUpdate': 1671656400819, 'latestVolume': None, 'low': None, 'lowSource': 'Close', 'lowTime': 1671656400819, 'marketCap': 17180642928, 'oddLotDelayedPrice': None, 'oddLotDelayedPriceTime': None, 'open': None, 'openTime': None, 'openSource': 'official', 'peRatio': 65.69, 'previousClose': 380.79, 'previousVolume': 2401328, 'primaryExchange': 'NASDAQ', 'symbol': 'ABMD', 'volume': None, 'week52High': 381.02, 'week52Low': 0, 'ytdChange': 0.0006, 'isUSMarketOpen': False}\n",
      "{'avgTotalVolume': 5783652, 'calculationPrice': 'close', 'change': -3.31, 'changePercent': -0.03031, 'close': None, 'closeSource': 'official', 'closeTime': None, 'companyName': 'Abbott Laboratories', 'currency': 'USD', 'delayedPrice': None, 'delayedPriceTime': None, 'extendedChange': None, 'extendedChangePercent': None, 'extendedPrice': None, 'extendedPriceTime': None, 'high': None, 'highSource': '15 minute delayed price', 'highTime': 1713383999854, 'iexAskPrice': 0, 'iexAskSize': 0, 'iexBidPrice': 0, 'iexBidSize': 0, 'iexClose': 105.86, 'iexCloseTime': 1713383998017, 'iexLastUpdated': 1713383998017, 'iexMarketPercent': 171038, 'iexOpen': 107.93, 'iexOpenTime': 1713360603556, 'iexRealtimePrice': 105.86, 'iexRealtimeSize': 4, 'iexVolume': 513114, 'lastTradeTime': 1713383999854, 'latestPrice': 105.9, 'latestSource': 'Close', 'latestTime': 'April 17, 2024', 'latestUpdate': 1713384001914, 'latestVolume': None, 'low': None, 'lowSource': '15 minute delayed price', 'lowTime': 1713361144440, 'marketCap': 183756016205, 'oddLotDelayedPrice': None, 'oddLotDelayedPriceTime': None, 'open': None, 'openTime': None, 'openSource': 'official', 'peRatio': 32.39, 'previousClose': 109.21, 'previousVolume': 7283867, 'primaryExchange': 'NEW YORK STOCK EXCHANGE INC.', 'symbol': 'ABT', 'volume': None, 'week52High': 121.04, 'week52Low': 88.8, 'ytdChange': -0.02838523288948108, 'isUSMarketOpen': False}\n",
      "{'avgTotalVolume': 3282352, 'calculationPrice': 'close', 'change': 0.6, 'changePercent': 0.00191, 'close': None, 'closeSource': 'official', 'closeTime': None, 'companyName': 'Accenture plc - Class A', 'currency': 'USD', 'delayedPrice': None, 'delayedPriceTime': None, 'extendedChange': None, 'extendedChangePercent': None, 'extendedPrice': None, 'extendedPriceTime': None, 'high': None, 'highSource': '15 minute delayed price', 'highTime': 1713384000014, 'iexAskPrice': 0, 'iexAskSize': 0, 'iexBidPrice': 0, 'iexBidSize': 0, 'iexClose': 314.705, 'iexCloseTime': 1713383999715, 'iexLastUpdated': 1713383999715, 'iexMarketPercent': 0.04753821633319577, 'iexOpen': 316.5, 'iexOpenTime': 1713360601098, 'iexRealtimePrice': 314.705, 'iexRealtimeSize': 100, 'iexVolume': 131206, 'lastTradeTime': 1713383999957, 'latestPrice': 314.54, 'latestSource': 'Close', 'latestTime': 'April 17, 2024', 'latestUpdate': 1713384002365, 'latestVolume': None, 'low': None, 'lowSource': '15 minute delayed price', 'lowTime': 1713368168817, 'marketCap': 210874454729, 'oddLotDelayedPrice': None, 'oddLotDelayedPriceTime': None, 'open': None, 'openTime': None, 'openSource': 'official', 'peRatio': 28.54, 'previousClose': 313.94, 'previousVolume': 2900382, 'primaryExchange': 'NEW YORK STOCK EXCHANGE INC.', 'symbol': 'ACN', 'volume': None, 'week52High': 386.02, 'week52Low': 257.71, 'ytdChange': -0.09670099267352258, 'isUSMarketOpen': False}\n",
      "{'avgTotalVolume': 3794184, 'calculationPrice': 'close', 'change': -1.77, 'changePercent': -0.00372, 'close': None, 'closeSource': 'official', 'closeTime': None, 'companyName': 'Adobe Inc', 'currency': 'USD', 'delayedPrice': None, 'delayedPriceTime': None, 'extendedChange': None, 'extendedChangePercent': None, 'extendedPrice': None, 'extendedPriceTime': None, 'high': None, 'highSource': None, 'highTime': None, 'iexAskPrice': 0, 'iexAskSize': 0, 'iexBidPrice': 0, 'iexBidSize': 0, 'iexClose': 474.62, 'iexCloseTime': 1713383999554, 'iexLastUpdated': 1713383999554, 'iexMarketPercent': 196.62340425531914, 'iexOpen': 477.325, 'iexOpenTime': 1713360602736, 'iexRealtimePrice': 474.62, 'iexRealtimeSize': 100, 'iexVolume': 92413, 'lastTradeTime': 1713383999966, 'latestPrice': 474.45, 'latestSource': 'Close', 'latestTime': 'April 17, 2024', 'latestUpdate': 1713384000549, 'latestVolume': None, 'low': None, 'lowSource': 'IEX real time price', 'lowTime': 1713372385246, 'marketCap': 212553600000, 'oddLotDelayedPrice': None, 'oddLotDelayedPriceTime': None, 'open': None, 'openTime': None, 'openSource': 'official', 'peRatio': 45.27, 'previousClose': 476.22, 'previousVolume': 2660097, 'primaryExchange': 'NASDAQ', 'symbol': 'ADBE', 'volume': None, 'week52High': 638.25, 'week52Low': 331.89, 'ytdChange': -0.20549673483070732, 'isUSMarketOpen': False}\n",
      "{'avgTotalVolume': 2785178, 'calculationPrice': 'close', 'change': -1.8, 'changePercent': -0.00941, 'close': None, 'closeSource': 'official', 'closeTime': None, 'companyName': 'Analog Devices Inc.', 'currency': 'USD', 'delayedPrice': None, 'delayedPriceTime': None, 'extendedChange': None, 'extendedChangePercent': None, 'extendedPrice': None, 'extendedPriceTime': None, 'high': None, 'highSource': None, 'highTime': None, 'iexAskPrice': 189.43, 'iexAskSize': 100, 'iexBidPrice': 0, 'iexBidSize': 0, 'iexClose': 189.4, 'iexCloseTime': 1713383999659, 'iexLastUpdated': 1713383999659, 'iexMarketPercent': 894.0880503144654, 'iexOpen': 191.905, 'iexOpenTime': 1713360602824, 'iexRealtimePrice': 189.4, 'iexRealtimeSize': 100, 'iexVolume': 142160, 'lastTradeTime': 1713383999981, 'latestPrice': 189.43, 'latestSource': 'Close', 'latestTime': 'April 17, 2024', 'latestUpdate': 1713384000345, 'latestVolume': None, 'low': None, 'lowSource': None, 'lowTime': None, 'marketCap': 93939880855, 'oddLotDelayedPrice': None, 'oddLotDelayedPriceTime': None, 'open': None, 'openTime': None, 'openSource': 'official', 'peRatio': 33.83, 'previousClose': 191.23, 'previousVolume': 2268041, 'primaryExchange': 'NASDAQ', 'symbol': 'ADI', 'volume': None, 'week52High': 204.2, 'week52Low': 152.1, 'ytdChange': -0.03723120206911454, 'isUSMarketOpen': False}\n",
      "{'avgTotalVolume': 4037576, 'calculationPrice': 'close', 'change': 0.15, 'changePercent': 0.00249, 'close': None, 'closeSource': 'official', 'closeTime': None, 'companyName': 'Archer Daniels Midland Co.', 'currency': 'USD', 'delayedPrice': None, 'delayedPriceTime': None, 'extendedChange': None, 'extendedChangePercent': None, 'extendedPrice': None, 'extendedPriceTime': None, 'high': None, 'highSource': '15 minute delayed price', 'highTime': 1713383999999, 'iexAskPrice': 0, 'iexAskSize': 0, 'iexBidPrice': 0, 'iexBidSize': 0, 'iexClose': 60.4, 'iexCloseTime': 1713383998089, 'iexLastUpdated': 1713383998089, 'iexMarketPercent': 4987.866666666667, 'iexOpen': 60.645, 'iexOpenTime': 1713360601447, 'iexRealtimePrice': 60.4, 'iexRealtimeSize': 200, 'iexVolume': 74818, 'lastTradeTime': 1713383999988, 'latestPrice': 60.42, 'latestSource': 'Close', 'latestTime': 'April 17, 2024', 'latestUpdate': 1713384001876, 'latestVolume': None, 'low': None, 'lowSource': '15 minute delayed price', 'lowTime': 1713369948143, 'marketCap': 30316553389, 'oddLotDelayedPrice': None, 'oddLotDelayedPriceTime': None, 'open': None, 'openTime': None, 'openSource': 'official', 'peRatio': 9.4, 'previousClose': 60.27, 'previousVolume': 3032359, 'primaryExchange': 'NEW YORK STOCK EXCHANGE INC.', 'symbol': 'ADM', 'volume': None, 'week52High': 85.49, 'week52Low': 50.24, 'ytdChange': -0.1550842835817141, 'isUSMarketOpen': False}\n",
      "{'avgTotalVolume': 1513449, 'calculationPrice': 'close', 'change': -1.31, 'changePercent': -0.00536, 'close': None, 'closeSource': 'official', 'closeTime': None, 'companyName': 'Automatic Data Processing Inc.', 'currency': 'USD', 'delayedPrice': None, 'delayedPriceTime': None, 'extendedChange': None, 'extendedChangePercent': None, 'extendedPrice': None, 'extendedPriceTime': None, 'high': None, 'highSource': 'IEX real time price', 'highTime': 1713360662395, 'iexAskPrice': 0, 'iexAskSize': 0, 'iexBidPrice': 0, 'iexBidSize': 0, 'iexClose': 242.89, 'iexCloseTime': 1713383999906, 'iexLastUpdated': 1713383999906, 'iexMarketPercent': 0.03600104428069839, 'iexOpen': 244.94, 'iexOpenTime': 1713360621577, 'iexRealtimePrice': 242.85, 'iexRealtimeSize': 67, 'iexVolume': 40542, 'lastTradeTime': 1713383999928, 'latestPrice': 242.9, 'latestSource': 'Close', 'latestTime': 'April 17, 2024', 'latestUpdate': 1713384000367, 'latestVolume': None, 'low': None, 'lowSource': None, 'lowTime': None, 'marketCap': 99781028724, 'oddLotDelayedPrice': None, 'oddLotDelayedPriceTime': None, 'open': None, 'openTime': None, 'openSource': 'official', 'peRatio': 28.28, 'previousClose': 244.21, 'previousVolume': 1457660, 'primaryExchange': 'NASDAQ', 'symbol': 'ADP', 'volume': None, 'week52High': 255.1, 'week52Low': 193.67, 'ytdChange': 0.048941650894522445, 'isUSMarketOpen': False}\n",
      "{'avgTotalVolume': 1252819, 'calculationPrice': 'close', 'change': -13.32, 'changePercent': -0.05836, 'close': None, 'closeSource': 'official', 'closeTime': None, 'companyName': 'Autodesk Inc.', 'currency': 'USD', 'delayedPrice': None, 'delayedPriceTime': None, 'extendedChange': None, 'extendedChangePercent': None, 'extendedPrice': None, 'extendedPriceTime': None, 'high': None, 'highSource': None, 'highTime': None, 'iexAskPrice': 0, 'iexAskSize': 0, 'iexBidPrice': 0, 'iexBidSize': 0, 'iexClose': 214.88, 'iexCloseTime': 1713383996842, 'iexLastUpdated': 1713383996842, 'iexMarketPercent': 2425.9772727272725, 'iexOpen': 212.53, 'iexOpenTime': 1713360601235, 'iexRealtimePrice': 214.88, 'iexRealtimeSize': 23, 'iexVolume': 320229, 'lastTradeTime': 1713383999863, 'latestPrice': 214.92, 'latestSource': 'Close', 'latestTime': 'April 17, 2024', 'latestUpdate': 1713384000375, 'latestVolume': None, 'low': None, 'lowSource': None, 'lowTime': None, 'marketCap': 45971388000, 'oddLotDelayedPrice': None, 'oddLotDelayedPriceTime': None, 'open': None, 'openTime': None, 'openSource': 'official', 'peRatio': 50.69, 'previousClose': 228.24, 'previousVolume': 2120161, 'primaryExchange': 'NASDAQ', 'symbol': 'ADSK', 'volume': None, 'week52High': 279.53, 'week52Low': 188.38, 'ytdChange': -0.12095241005421378, 'isUSMarketOpen': False}\n",
      "{'avgTotalVolume': 1315136, 'calculationPrice': 'close', 'change': 1.59, 'changePercent': 0.0226, 'close': None, 'closeSource': 'official', 'closeTime': None, 'companyName': 'Ameren Corp.', 'currency': 'USD', 'delayedPrice': None, 'delayedPriceTime': None, 'extendedChange': None, 'extendedChangePercent': None, 'extendedPrice': None, 'extendedPriceTime': None, 'high': None, 'highSource': '15 minute delayed price', 'highTime': 1713383999742, 'iexAskPrice': 0, 'iexAskSize': 0, 'iexBidPrice': 0, 'iexBidSize': 0, 'iexClose': 71.98, 'iexCloseTime': 1713383986431, 'iexLastUpdated': 1713383986431, 'iexMarketPercent': 0.03210679226046954, 'iexOpen': 70.865, 'iexOpenTime': 1713360602568, 'iexRealtimePrice': 71.98, 'iexRealtimeSize': 41, 'iexVolume': 41066, 'lastTradeTime': 1713383999742, 'latestPrice': 71.93, 'latestSource': 'Close', 'latestTime': 'April 17, 2024', 'latestUpdate': 1713384001916, 'latestVolume': None, 'low': None, 'lowSource': 'IEX real time price', 'lowTime': 1713365602489, 'marketCap': 19170103718, 'oddLotDelayedPrice': None, 'oddLotDelayedPriceTime': None, 'open': None, 'openTime': None, 'openSource': 'official', 'peRatio': 16.46, 'previousClose': 70.34, 'previousVolume': 1105316, 'primaryExchange': 'NEW YORK STOCK EXCHANGE INC.', 'symbol': 'AEE', 'volume': None, 'week52High': 88.24, 'week52Low': 66.42, 'ytdChange': 0.003879793085841788, 'isUSMarketOpen': False}\n",
      "{'avgTotalVolume': 2725408, 'calculationPrice': 'close', 'change': 1.73, 'changePercent': 0.02176, 'close': None, 'closeSource': 'official', 'closeTime': None, 'companyName': 'American Electric Power Company Inc.', 'currency': 'USD', 'delayedPrice': None, 'delayedPriceTime': None, 'extendedChange': None, 'extendedChangePercent': None, 'extendedPrice': None, 'extendedPriceTime': None, 'high': None, 'highSource': None, 'highTime': None, 'iexAskPrice': 0, 'iexAskSize': 0, 'iexBidPrice': 0, 'iexBidSize': 0, 'iexClose': 81.25, 'iexCloseTime': 1713383999660, 'iexLastUpdated': 1713383999660, 'iexMarketPercent': 0.030308083436062734, 'iexOpen': 80.12, 'iexOpenTime': 1713360661066, 'iexRealtimePrice': 81.25, 'iexRealtimeSize': 100, 'iexVolume': 69430, 'lastTradeTime': 1713383999966, 'latestPrice': 81.24, 'latestSource': 'Close', 'latestTime': 'April 17, 2024', 'latestUpdate': 1713384000080, 'latestVolume': None, 'low': None, 'lowSource': None, 'lowTime': None, 'marketCap': 42780194185, 'oddLotDelayedPrice': None, 'oddLotDelayedPriceTime': None, 'open': None, 'openTime': None, 'openSource': 'official', 'peRatio': 19.16, 'previousClose': 79.51, 'previousVolume': 3218963, 'primaryExchange': 'NASDAQ', 'symbol': 'AEP', 'volume': None, 'week52High': 87.97, 'week52Low': 66.29, 'ytdChange': 0.02336614745063481, 'isUSMarketOpen': False}\n",
      "{'avgTotalVolume': 10633630, 'calculationPrice': 'close', 'change': 0.23, 'changePercent': 0.01446, 'close': None, 'closeSource': 'official', 'closeTime': None, 'companyName': 'AES Corp.', 'currency': 'USD', 'delayedPrice': None, 'delayedPriceTime': None, 'extendedChange': None, 'extendedChangePercent': None, 'extendedPrice': None, 'extendedPriceTime': None, 'high': None, 'highSource': '15 minute delayed price', 'highTime': 1713383999986, 'iexAskPrice': 0, 'iexAskSize': 0, 'iexBidPrice': 0, 'iexBidSize': 0, 'iexClose': 16.145, 'iexCloseTime': 1713383995493, 'iexLastUpdated': 1713383995493, 'iexMarketPercent': 0.030619654410749444, 'iexOpen': 16.02, 'iexOpenTime': 1713360610507, 'iexRealtimePrice': 16.145, 'iexRealtimeSize': 24, 'iexVolume': 241497, 'lastTradeTime': 1713383999977, 'latestPrice': 16.14, 'latestSource': 'Close', 'latestTime': 'April 17, 2024', 'latestUpdate': 1713384002379, 'latestVolume': None, 'low': None, 'lowSource': '15 minute delayed price', 'lowTime': 1713368005972, 'marketCap': 11472445220, 'oddLotDelayedPrice': None, 'oddLotDelayedPriceTime': None, 'open': None, 'openTime': None, 'openSource': 'official', 'peRatio': 46.15, 'previousClose': 15.91, 'previousVolume': 12295418, 'primaryExchange': 'NEW YORK STOCK EXCHANGE INC.', 'symbol': 'AES', 'volume': None, 'week52High': 23.67, 'week52Low': 11.19, 'ytdChange': -0.15055786998210388, 'isUSMarketOpen': False}\n",
      "{'avgTotalVolume': 2097255, 'calculationPrice': 'close', 'change': -0.17, 'changePercent': -0.00211, 'close': None, 'closeSource': 'official', 'closeTime': None, 'companyName': 'Aflac Inc.', 'currency': 'USD', 'delayedPrice': None, 'delayedPriceTime': None, 'extendedChange': None, 'extendedChangePercent': None, 'extendedPrice': None, 'extendedPriceTime': None, 'high': None, 'highSource': '15 minute delayed price', 'highTime': 1713383999976, 'iexAskPrice': 0, 'iexAskSize': 0, 'iexBidPrice': 0, 'iexBidSize': 0, 'iexClose': 80.25, 'iexCloseTime': 1713383996358, 'iexLastUpdated': 1713383996358, 'iexMarketPercent': 0.02153985321570601, 'iexOpen': 80.745, 'iexOpenTime': 1713360601186, 'iexRealtimePrice': 80.25, 'iexRealtimeSize': 18, 'iexVolume': 42242, 'lastTradeTime': 1713383999002, 'latestPrice': 80.26, 'latestSource': 'Close', 'latestTime': 'April 17, 2024', 'latestUpdate': 1713384001940, 'latestVolume': None, 'low': None, 'lowSource': 'IEX real time price', 'lowTime': 1713370006200, 'marketCap': 46182254909, 'oddLotDelayedPrice': None, 'oddLotDelayedPriceTime': None, 'open': None, 'openTime': None, 'openSource': 'official', 'peRatio': 10.32, 'previousClose': 80.43, 'previousVolume': 2114324, 'primaryExchange': 'NEW YORK STOCK EXCHANGE INC.', 'symbol': 'AFL', 'volume': None, 'week52High': 86.26, 'week52Low': 63.01, 'ytdChange': -0.02102064072710147, 'isUSMarketOpen': False}\n",
      "{'avgTotalVolume': 3806725, 'calculationPrice': 'close', 'change': -1.23, 'changePercent': -0.01666, 'close': None, 'closeSource': 'official', 'closeTime': None, 'companyName': 'American International Group Inc', 'currency': 'USD', 'delayedPrice': None, 'delayedPriceTime': None, 'extendedChange': None, 'extendedChangePercent': None, 'extendedPrice': None, 'extendedPriceTime': None, 'high': None, 'highSource': '15 minute delayed price', 'highTime': 1713383999988, 'iexAskPrice': 0, 'iexAskSize': 0, 'iexBidPrice': 0, 'iexBidSize': 0, 'iexClose': 72.61, 'iexCloseTime': 1713383995817, 'iexLastUpdated': 1713383995817, 'iexMarketPercent': 0.04068389110745834, 'iexOpen': 72.74, 'iexOpenTime': 1713360601049, 'iexRealtimePrice': 72.61, 'iexRealtimeSize': 10, 'iexVolume': 253175, 'lastTradeTime': 1713383999854, 'latestPrice': 72.58, 'latestSource': 'Close', 'latestTime': 'April 17, 2024', 'latestUpdate': 1713384001928, 'latestVolume': None, 'low': None, 'lowSource': '15 minute delayed price', 'lowTime': 1713370656229, 'marketCap': 49423616062, 'oddLotDelayedPrice': None, 'oddLotDelayedPriceTime': None, 'open': None, 'openTime': None, 'openSource': 'official', 'peRatio': 14.57, 'previousClose': 73.81, 'previousVolume': 4653038, 'primaryExchange': 'NEW YORK STOCK EXCHANGE INC.', 'symbol': 'AIG', 'volume': None, 'week52High': 78.95, 'week52Low': 47.86, 'ytdChange': 0.07797936667823435, 'isUSMarketOpen': False}\n",
      "{'avgTotalVolume': 993971, 'calculationPrice': 'close', 'change': -0.05, 'changePercent': -0.0064, 'close': None, 'closeSource': 'official', 'closeTime': None, 'companyName': 'Apartment Investment & Management Co. - Class A', 'currency': 'USD', 'delayedPrice': None, 'delayedPriceTime': None, 'extendedChange': None, 'extendedChangePercent': None, 'extendedPrice': None, 'extendedPriceTime': None, 'high': None, 'highSource': '15 minute delayed price', 'highTime': 1713383999010, 'iexAskPrice': 0, 'iexAskSize': 0, 'iexBidPrice': 0, 'iexBidSize': 0, 'iexClose': 7.75, 'iexCloseTime': 1713383999009, 'iexLastUpdated': 1713383999009, 'iexMarketPercent': 0.031124210339702325, 'iexOpen': 7.81, 'iexOpenTime': 1713361093034, 'iexRealtimePrice': 7.75, 'iexRealtimeSize': 100, 'iexVolume': 19663, 'lastTradeTime': 1713383999010, 'latestPrice': 7.76, 'latestSource': 'Close', 'latestTime': 'April 17, 2024', 'latestUpdate': 1713384001921, 'latestVolume': None, 'low': None, 'lowSource': '15 minute delayed price', 'lowTime': 1713383541792, 'marketCap': 1123738528, 'oddLotDelayedPrice': None, 'oddLotDelayedPriceTime': None, 'open': None, 'openTime': None, 'openSource': 'official', 'peRatio': -6.69, 'previousClose': 7.81, 'previousVolume': 442255, 'primaryExchange': 'NEW YORK STOCK EXCHANGE INC.', 'symbol': 'AIV', 'volume': None, 'week52High': 8.93, 'week52Low': 5.63, 'ytdChange': -0.008954278416347477, 'isUSMarketOpen': False}\n",
      "{'avgTotalVolume': 318347, 'calculationPrice': 'close', 'change': -1.02, 'changePercent': -0.00596, 'close': None, 'closeSource': 'official', 'closeTime': None, 'companyName': 'Assurant Inc', 'currency': 'USD', 'delayedPrice': None, 'delayedPriceTime': None, 'extendedChange': None, 'extendedChangePercent': None, 'extendedPrice': None, 'extendedPriceTime': None, 'high': None, 'highSource': 'IEX real time price', 'highTime': 1713360846570, 'iexAskPrice': 0, 'iexAskSize': 0, 'iexBidPrice': 0, 'iexBidSize': 0, 'iexClose': 170.03, 'iexCloseTime': 1713383994947, 'iexLastUpdated': 1713383994947, 'iexMarketPercent': 0.06083624928024095, 'iexOpen': 171.385, 'iexOpenTime': 1713360846570, 'iexRealtimePrice': 170.03, 'iexRealtimeSize': 4, 'iexVolume': 16482, 'lastTradeTime': 1713383999999, 'latestPrice': 170.08, 'latestSource': 'Close', 'latestTime': 'April 17, 2024', 'latestUpdate': 1713384002386, 'latestVolume': None, 'low': None, 'lowSource': 'IEX real time price', 'lowTime': 1713369946601, 'marketCap': 8840355991, 'oddLotDelayedPrice': None, 'oddLotDelayedPriceTime': None, 'open': None, 'openTime': None, 'openSource': 'official', 'peRatio': 14.23, 'previousClose': 171.1, 'previousVolume': 325018, 'primaryExchange': 'NEW YORK STOCK EXCHANGE INC.', 'symbol': 'AIZ', 'volume': None, 'week52High': 189.48, 'week52Low': 113.21, 'ytdChange': 0.013867934583193763, 'isUSMarketOpen': False}\n",
      "{'avgTotalVolume': 869970, 'calculationPrice': 'close', 'change': -0.91, 'changePercent': -0.00393, 'close': None, 'closeSource': 'official', 'closeTime': None, 'companyName': 'Arthur J. Gallagher & Co.', 'currency': 'USD', 'delayedPrice': None, 'delayedPriceTime': None, 'extendedChange': None, 'extendedChangePercent': None, 'extendedPrice': None, 'extendedPriceTime': None, 'high': None, 'highSource': 'IEX real time price', 'highTime': 1713364005943, 'iexAskPrice': 0, 'iexAskSize': 0, 'iexBidPrice': 0, 'iexBidSize': 0, 'iexClose': 230.47, 'iexCloseTime': 1713383996468, 'iexLastUpdated': 1713383996468, 'iexMarketPercent': 0.04358558767156768, 'iexOpen': 232.31, 'iexOpenTime': 1713360686011, 'iexRealtimePrice': 230.47, 'iexRealtimeSize': 8, 'iexVolume': 33883, 'lastTradeTime': 1713383999979, 'latestPrice': 230.52, 'latestSource': 'Close', 'latestTime': 'April 17, 2024', 'latestUpdate': 1713384002037, 'latestVolume': None, 'low': None, 'lowSource': '15 minute delayed price', 'lowTime': 1713381001676, 'marketCap': 50323165836, 'oddLotDelayedPrice': None, 'oddLotDelayedPriceTime': None, 'open': None, 'openTime': None, 'openSource': 'official', 'peRatio': 51.11, 'previousClose': 231.43, 'previousVolume': 757164, 'primaryExchange': 'NEW YORK STOCK EXCHANGE INC.', 'symbol': 'AJG', 'volume': None, 'week52High': 256.1, 'week52Low': 197.05, 'ytdChange': 0.02771842199203588, 'isUSMarketOpen': False}\n",
      "{'avgTotalVolume': 1178877, 'calculationPrice': 'close', 'change': -0.99, 'changePercent': -0.00977, 'close': None, 'closeSource': 'official', 'closeTime': None, 'companyName': 'Akamai Technologies Inc', 'currency': 'USD', 'delayedPrice': None, 'delayedPriceTime': None, 'extendedChange': None, 'extendedChangePercent': None, 'extendedPrice': None, 'extendedPriceTime': None, 'high': None, 'highSource': None, 'highTime': None, 'iexAskPrice': 0, 'iexAskSize': 0, 'iexBidPrice': 0, 'iexBidSize': 0, 'iexClose': 100.32, 'iexCloseTime': 1713383995933, 'iexLastUpdated': 1713383995933, 'iexMarketPercent': 4546.071428571428, 'iexOpen': 101.45, 'iexOpenTime': 1713360608600, 'iexRealtimePrice': 100.32, 'iexRealtimeSize': 70, 'iexVolume': 63645, 'lastTradeTime': 1713383999976, 'latestPrice': 100.34, 'latestSource': 'Close', 'latestTime': 'April 17, 2024', 'latestUpdate': 1713384000056, 'latestVolume': None, 'low': None, 'lowSource': 'IEX real time price', 'lowTime': 1713382720215, 'marketCap': 15204550302, 'oddLotDelayedPrice': None, 'oddLotDelayedPriceTime': None, 'open': None, 'openTime': None, 'openSource': 'official', 'peRatio': 28.51, 'previousClose': 101.33, 'previousVolume': 935685, 'primaryExchange': 'NASDAQ', 'symbol': 'AKAM', 'volume': None, 'week52High': 129.17, 'week52Low': 76.85, 'ytdChange': -0.15358073088297425, 'isUSMarketOpen': False}\n",
      "{'avgTotalVolume': 2829685, 'calculationPrice': 'close', 'change': 0.28, 'changePercent': 0.00245, 'close': None, 'closeSource': 'official', 'closeTime': None, 'companyName': 'Albemarle Corp.', 'currency': 'USD', 'delayedPrice': None, 'delayedPriceTime': None, 'extendedChange': None, 'extendedChangePercent': None, 'extendedPrice': None, 'extendedPriceTime': None, 'high': None, 'highSource': '15 minute delayed price', 'highTime': 1713383999977, 'iexAskPrice': 0, 'iexAskSize': 0, 'iexBidPrice': 0, 'iexBidSize': 0, 'iexClose': 114.33, 'iexCloseTime': 1713383994389, 'iexLastUpdated': 1713383994389, 'iexMarketPercent': 2262, 'iexOpen': 115.25, 'iexOpenTime': 1713360601771, 'iexRealtimePrice': 114.33, 'iexRealtimeSize': 98, 'iexVolume': 70122, 'lastTradeTime': 1713383999721, 'latestPrice': 114.39, 'latestSource': 'Close', 'latestTime': 'April 17, 2024', 'latestUpdate': 1713384001990, 'latestVolume': None, 'low': None, 'lowSource': '15 minute delayed price', 'lowTime': 1713383994346, 'marketCap': 13443648145, 'oddLotDelayedPrice': None, 'oddLotDelayedPriceTime': None, 'open': None, 'openTime': None, 'openSource': 'official', 'peRatio': 8.56, 'previousClose': 114.11, 'previousVolume': 3493139, 'primaryExchange': 'NEW YORK STOCK EXCHANGE INC.', 'symbol': 'ALB', 'volume': None, 'week52High': 245.42, 'week52Low': 106.35, 'ytdChange': -0.20523278982312249, 'isUSMarketOpen': False}\n",
      "{'avgTotalVolume': 551384, 'calculationPrice': 'close', 'change': -4.96, 'changePercent': -0.01626, 'close': None, 'closeSource': 'official', 'closeTime': None, 'companyName': 'Align Technology, Inc.', 'currency': 'USD', 'delayedPrice': None, 'delayedPriceTime': None, 'extendedChange': None, 'extendedChangePercent': None, 'extendedPrice': None, 'extendedPriceTime': None, 'high': None, 'highSource': None, 'highTime': None, 'iexAskPrice': 0, 'iexAskSize': 0, 'iexBidPrice': 0, 'iexBidSize': 0, 'iexClose': 300.14, 'iexCloseTime': 1713383999061, 'iexLastUpdated': 1713383999061, 'iexMarketPercent': 0.05672046751078336, 'iexOpen': 306.07, 'iexOpenTime': 1713360660158, 'iexRealtimePrice': 300.14, 'iexRealtimeSize': 7, 'iexVolume': 32612, 'lastTradeTime': 1713383999061, 'latestPrice': 300.14, 'latestSource': 'Close', 'latestTime': 'April 17, 2024', 'latestUpdate': 1713384000069, 'latestVolume': None, 'low': None, 'lowSource': None, 'lowTime': None, 'marketCap': 22586273945, 'oddLotDelayedPrice': None, 'oddLotDelayedPriceTime': None, 'open': None, 'openTime': None, 'openSource': 'official', 'peRatio': 51.66, 'previousClose': 305.1, 'previousVolume': 502777, 'primaryExchange': 'NASDAQ', 'symbol': 'ALGN', 'volume': None, 'week52High': 413.2, 'week52Low': 176.34, 'ytdChange': 0.09724364963503657, 'isUSMarketOpen': False}\n",
      "{'avgTotalVolume': 2295974, 'calculationPrice': 'close', 'change': 1.92, 'changePercent': 0.04706, 'close': None, 'closeSource': 'official', 'closeTime': None, 'companyName': 'Alaska Air Group Inc.', 'currency': 'USD', 'delayedPrice': None, 'delayedPriceTime': None, 'extendedChange': None, 'extendedChangePercent': None, 'extendedPrice': None, 'extendedPriceTime': None, 'high': None, 'highSource': '15 minute delayed price', 'highTime': 1713383999988, 'iexAskPrice': 0, 'iexAskSize': 0, 'iexBidPrice': 0, 'iexBidSize': 0, 'iexClose': 42.71, 'iexCloseTime': 1713383998040, 'iexLastUpdated': 1713383998040, 'iexMarketPercent': 213.0128755364807, 'iexOpen': 41.81, 'iexOpenTime': 1713360623627, 'iexRealtimePrice': 42.71, 'iexRealtimeSize': 36, 'iexVolume': 148896, 'lastTradeTime': 1713383999978, 'latestPrice': 42.72, 'latestSource': 'Close', 'latestTime': 'April 17, 2024', 'latestUpdate': 1713384001909, 'latestVolume': None, 'low': None, 'lowSource': '15 minute delayed price', 'lowTime': 1713364911678, 'marketCap': 5374149086, 'oddLotDelayedPrice': None, 'oddLotDelayedPriceTime': None, 'open': None, 'openTime': None, 'openSource': 'official', 'peRatio': 23.34, 'previousClose': 40.8, 'previousVolume': 1942339, 'primaryExchange': 'NEW YORK STOCK EXCHANGE INC.', 'symbol': 'ALK', 'volume': None, 'week52High': 57.18, 'week52Low': 30.75, 'ytdChange': 0.09133949833631927, 'isUSMarketOpen': False}\n",
      "{'avgTotalVolume': 1402509, 'calculationPrice': 'close', 'change': -1.29, 'changePercent': -0.00786, 'close': None, 'closeSource': 'official', 'closeTime': None, 'companyName': 'Allstate Corp (The)', 'currency': 'USD', 'delayedPrice': None, 'delayedPriceTime': None, 'extendedChange': None, 'extendedChangePercent': None, 'extendedPrice': None, 'extendedPriceTime': None, 'high': None, 'highSource': '15 minute delayed price', 'highTime': 1713384000014, 'iexAskPrice': 0, 'iexAskSize': 0, 'iexBidPrice': 0, 'iexBidSize': 0, 'iexClose': 163, 'iexCloseTime': 1713383993690, 'iexLastUpdated': 1713383993690, 'iexMarketPercent': 0.048286210389600535, 'iexOpen': 162.06, 'iexOpenTime': 1713360609040, 'iexRealtimePrice': 163, 'iexRealtimeSize': 76, 'iexVolume': 76363, 'lastTradeTime': 1713383999854, 'latestPrice': 162.92, 'latestSource': 'Close', 'latestTime': 'April 17, 2024', 'latestUpdate': 1713384001996, 'latestVolume': None, 'low': None, 'lowSource': '15 minute delayed price', 'lowTime': 1713360600802, 'marketCap': 42858943252, 'oddLotDelayedPrice': None, 'oddLotDelayedPriceTime': None, 'open': None, 'openTime': None, 'openSource': 'official', 'peRatio': -135.77, 'previousClose': 164.21, 'previousVolume': 974874, 'primaryExchange': 'NEW YORK STOCK EXCHANGE INC.', 'symbol': 'ALL', 'volume': None, 'week52High': 174.57, 'week52Low': 98.51, 'ytdChange': 0.17204094321659366, 'isUSMarketOpen': False}\n",
      "{'avgTotalVolume': 463562, 'calculationPrice': 'close', 'change': -0.6, 'changePercent': -0.00475, 'close': None, 'closeSource': 'official', 'closeTime': None, 'companyName': 'Allegion plc', 'currency': 'USD', 'delayedPrice': None, 'delayedPriceTime': None, 'extendedChange': None, 'extendedChangePercent': None, 'extendedPrice': None, 'extendedPriceTime': None, 'high': None, 'highSource': '15 minute delayed price', 'highTime': 1713383999987, 'iexAskPrice': 0, 'iexAskSize': 0, 'iexBidPrice': 0, 'iexBidSize': 0, 'iexClose': 125.82, 'iexCloseTime': 1713383995011, 'iexLastUpdated': 1713383995011, 'iexMarketPercent': 0.04009000575537573, 'iexOpen': 127.47, 'iexOpenTime': 1713360836492, 'iexRealtimePrice': 125.82, 'iexRealtimeSize': 4, 'iexVolume': 23126, 'lastTradeTime': 1713383999977, 'latestPrice': 125.78, 'latestSource': 'Close', 'latestTime': 'April 17, 2024', 'latestUpdate': 1713384002315, 'latestVolume': None, 'low': None, 'lowSource': '15 minute delayed price', 'lowTime': 1713368056850, 'marketCap': 11012590923, 'oddLotDelayedPrice': None, 'oddLotDelayedPriceTime': None, 'open': None, 'openTime': None, 'openSource': 'official', 'peRatio': 20.55, 'previousClose': 126.38, 'previousVolume': 519987, 'primaryExchange': 'NEW YORK STOCK EXCHANGE INC.', 'symbol': 'ALLE', 'volume': None, 'week52High': 136.42, 'week52Low': 95.23, 'ytdChange': -0.003576762490305553, 'isUSMarketOpen': False}\n",
      "{'avgTotalVolume': 0, 'calculationPrice': 'close', 'change': 3.05, 'changePercent': 0.017, 'close': None, 'closeSource': 'official', 'closeTime': None, 'companyName': 'Alexion Pharmaceuticals Inc.', 'currency': 'USD', 'delayedPrice': None, 'delayedPriceTime': None, 'extendedChange': None, 'extendedChangePercent': None, 'extendedPrice': None, 'extendedPriceTime': None, 'high': None, 'highSource': '15 minute delayed price', 'highTime': 1626811199910, 'iexAskPrice': None, 'iexAskSize': None, 'iexBidPrice': None, 'iexBidSize': None, 'iexClose': 182.41, 'iexCloseTime': 1626811198763, 'iexLastUpdated': None, 'iexMarketPercent': None, 'iexOpen': 183.08, 'iexOpenTime': 1626811649267, 'iexRealtimePrice': None, 'iexRealtimeSize': None, 'iexVolume': None, 'lastTradeTime': 1626811199910, 'latestPrice': 182.5, 'latestSource': 'Close', 'latestTime': 'July 20, 2021', 'latestUpdate': 1626811200971, 'latestVolume': None, 'low': None, 'lowSource': '15 minute delayed price', 'lowTime': 1626787980421, 'marketCap': 40336009475, 'oddLotDelayedPrice': None, 'oddLotDelayedPriceTime': None, 'open': None, 'openTime': None, 'openSource': 'official', 'peRatio': 59.45, 'previousClose': 179.45, 'previousVolume': 10068088, 'primaryExchange': 'NASDAQ/NGS (GLOBAL SELECT MARKET)', 'symbol': 'ALXN', 'volume': None, 'week52High': 182.67, 'week52Low': 0, 'ytdChange': 0.017, 'isUSMarketOpen': False}\n",
      "{'avgTotalVolume': 4365139, 'calculationPrice': 'close', 'change': -9.59, 'changePercent': -0.04578, 'close': None, 'closeSource': 'official', 'closeTime': None, 'companyName': 'Applied Materials Inc.', 'currency': 'USD', 'delayedPrice': None, 'delayedPriceTime': None, 'extendedChange': None, 'extendedChangePercent': None, 'extendedPrice': None, 'extendedPriceTime': None, 'high': None, 'highSource': None, 'highTime': None, 'iexAskPrice': 0, 'iexAskSize': 0, 'iexBidPrice': 0, 'iexBidSize': 0, 'iexClose': 199.92, 'iexCloseTime': 1713383999257, 'iexLastUpdated': 1713383999257, 'iexMarketPercent': 72.21233766233766, 'iexOpen': 205.98, 'iexOpenTime': 1713360600940, 'iexRealtimePrice': 199.92, 'iexRealtimeSize': 100, 'iexVolume': 222414, 'lastTradeTime': 1713383999961, 'latestPrice': 199.89, 'latestSource': 'Close', 'latestTime': 'April 17, 2024', 'latestUpdate': 1713384000396, 'latestVolume': None, 'low': None, 'lowSource': None, 'lowTime': None, 'marketCap': 166088072491, 'oddLotDelayedPrice': None, 'oddLotDelayedPriceTime': None, 'open': None, 'openTime': None, 'openSource': 'official', 'peRatio': 23.52, 'previousClose': 209.48, 'previousVolume': 3749231, 'primaryExchange': 'NASDAQ', 'symbol': 'AMAT', 'volume': None, 'week52High': 214.91, 'week52Low': 107.54, 'ytdChange': 0.251132311070745, 'isUSMarketOpen': False}\n",
      "{'avgTotalVolume': 6860848, 'calculationPrice': 'close', 'change': 0, 'changePercent': 0, 'close': None, 'closeSource': 'official', 'closeTime': None, 'companyName': 'Amcor Plc', 'currency': 'USD', 'delayedPrice': None, 'delayedPriceTime': None, 'extendedChange': None, 'extendedChangePercent': None, 'extendedPrice': None, 'extendedPriceTime': None, 'high': None, 'highSource': '15 minute delayed price', 'highTime': 1713383999977, 'iexAskPrice': 0, 'iexAskSize': 0, 'iexBidPrice': 0, 'iexBidSize': 0, 'iexClose': 8.835, 'iexCloseTime': 1713383991914, 'iexLastUpdated': 1713383991914, 'iexMarketPercent': 0.03469651984397377, 'iexOpen': 8.925, 'iexOpenTime': 1713360939037, 'iexRealtimePrice': 8.835, 'iexRealtimeSize': 39, 'iexVolume': 164167, 'lastTradeTime': 1713383999419, 'latestPrice': 8.83, 'latestSource': 'Close', 'latestTime': 'April 17, 2024', 'latestUpdate': 1713384002287, 'latestVolume': None, 'low': None, 'lowSource': '15 minute delayed price', 'lowTime': 1713368045247, 'marketCap': 12762380562, 'oddLotDelayedPrice': None, 'oddLotDelayedPriceTime': None, 'open': None, 'openTime': None, 'openSource': 'official', 'peRatio': 20.01, 'previousClose': 8.83, 'previousVolume': 6824359, 'primaryExchange': 'NEW YORK STOCK EXCHANGE INC.', 'symbol': 'AMCR', 'volume': None, 'week52High': 10.6, 'week52Low': 8.22, 'ytdChange': -0.07132790643865294, 'isUSMarketOpen': False}\n",
      "{'avgTotalVolume': 62788466, 'calculationPrice': 'close', 'change': -9.44, 'changePercent': -0.05775, 'close': None, 'closeSource': 'official', 'closeTime': None, 'companyName': 'Advanced Micro Devices Inc.', 'currency': 'USD', 'delayedPrice': None, 'delayedPriceTime': None, 'extendedChange': None, 'extendedChangePercent': None, 'extendedPrice': None, 'extendedPriceTime': None, 'high': None, 'highSource': None, 'highTime': None, 'iexAskPrice': 0, 'iexAskSize': 0, 'iexBidPrice': 0, 'iexBidSize': 0, 'iexClose': 154.06, 'iexCloseTime': 1713383999610, 'iexLastUpdated': 1713383999610, 'iexMarketPercent': 10.914134628819554, 'iexOpen': 163.92, 'iexOpenTime': 1713360600132, 'iexRealtimePrice': 154.06, 'iexRealtimeSize': 200, 'iexVolume': 1015462, 'lastTradeTime': 1713383999910, 'latestPrice': 154.02, 'latestSource': 'Close', 'latestTime': 'April 17, 2024', 'latestUpdate': 1713384000430, 'latestVolume': None, 'low': None, 'lowSource': None, 'lowTime': None, 'marketCap': 248917887883, 'oddLotDelayedPrice': None, 'oddLotDelayedPriceTime': None, 'open': None, 'openTime': None, 'openSource': 'official', 'peRatio': 293.09, 'previousClose': 163.46, 'previousVolume': 55302100, 'primaryExchange': 'NASDAQ', 'symbol': 'AMD', 'volume': None, 'week52High': 227.3, 'week52Low': 81.02, 'ytdChange': 0.051129994572959934, 'isUSMarketOpen': False}\n",
      "{'avgTotalVolume': 873652, 'calculationPrice': 'close', 'change': -1.04, 'changePercent': -0.00581, 'close': None, 'closeSource': 'official', 'closeTime': None, 'companyName': 'Ametek Inc', 'currency': 'USD', 'delayedPrice': None, 'delayedPriceTime': None, 'extendedChange': None, 'extendedChangePercent': None, 'extendedPrice': None, 'extendedPriceTime': None, 'high': None, 'highSource': 'IEX real time price', 'highTime': 1713362174072, 'iexAskPrice': 0, 'iexAskSize': 0, 'iexBidPrice': 0, 'iexBidSize': 0, 'iexClose': 178.07, 'iexCloseTime': 1713383993012, 'iexLastUpdated': 1713383993012, 'iexMarketPercent': 0.034343467980951746, 'iexOpen': 179.77, 'iexOpenTime': 1713360718011, 'iexRealtimePrice': 178.07, 'iexRealtimeSize': 100, 'iexVolume': 30939, 'lastTradeTime': 1713384000000, 'latestPrice': 178.05, 'latestSource': 'Close', 'latestTime': 'April 17, 2024', 'latestUpdate': 1713384001953, 'latestVolume': None, 'low': None, 'lowSource': '15 minute delayed price', 'lowTime': 1713371587229, 'marketCap': 41167207041, 'oddLotDelayedPrice': None, 'oddLotDelayedPriceTime': None, 'open': None, 'openTime': None, 'openSource': 'official', 'peRatio': 31.4, 'previousClose': 179.09, 'previousVolume': 896166, 'primaryExchange': 'NEW YORK STOCK EXCHANGE INC.', 'symbol': 'AME', 'volume': None, 'week52High': 186.33, 'week52Low': 132.26, 'ytdChange': 0.08199689286538635, 'isUSMarketOpen': False}\n",
      "{'avgTotalVolume': 2233095, 'calculationPrice': 'close', 'change': -1.57, 'changePercent': -0.00591, 'close': None, 'closeSource': 'official', 'closeTime': None, 'companyName': 'AMGEN Inc.', 'currency': 'USD', 'delayedPrice': None, 'delayedPriceTime': None, 'extendedChange': None, 'extendedChangePercent': None, 'extendedPrice': None, 'extendedPriceTime': None, 'high': None, 'highSource': None, 'highTime': None, 'iexAskPrice': 0, 'iexAskSize': 0, 'iexBidPrice': 0, 'iexBidSize': 0, 'iexClose': 264.07, 'iexCloseTime': 1713383999491, 'iexLastUpdated': 1713383999491, 'iexMarketPercent': 361.2578947368421, 'iexOpen': 267.63, 'iexOpenTime': 1713360601970, 'iexRealtimePrice': 264.07, 'iexRealtimeSize': 200, 'iexVolume': 68639, 'lastTradeTime': 1713383999997, 'latestPrice': 264.07, 'latestSource': 'Close', 'latestTime': 'April 17, 2024', 'latestUpdate': 1713384000120, 'latestVolume': None, 'low': None, 'lowSource': 'IEX real time price', 'lowTime': 1713367944840, 'marketCap': 141520104187, 'oddLotDelayedPrice': None, 'oddLotDelayedPriceTime': None, 'open': None, 'openTime': None, 'openSource': 'official', 'peRatio': 21.14, 'previousClose': 265.64, 'previousVolume': 2017573, 'primaryExchange': 'NASDAQ', 'symbol': 'AMGN', 'volume': None, 'week52High': 324.63, 'week52Low': 203.55, 'ytdChange': -0.06913887698196355, 'isUSMarketOpen': False}\n",
      "{'avgTotalVolume': 472544, 'calculationPrice': 'close', 'change': 0.92, 'changePercent': 0.00224, 'close': None, 'closeSource': 'official', 'closeTime': None, 'companyName': 'Ameriprise Financial Inc', 'currency': 'USD', 'delayedPrice': None, 'delayedPriceTime': None, 'extendedChange': None, 'extendedChangePercent': None, 'extendedPrice': None, 'extendedPriceTime': None, 'high': None, 'highSource': '15 minute delayed price', 'highTime': 1713383999978, 'iexAskPrice': 0, 'iexAskSize': 0, 'iexBidPrice': 0, 'iexBidSize': 0, 'iexClose': 411.93, 'iexCloseTime': 1713383978996, 'iexLastUpdated': 1713383978996, 'iexMarketPercent': 0.06297675315906241, 'iexOpen': 414.7, 'iexOpenTime': 1713360691752, 'iexRealtimePrice': 411.93, 'iexRealtimeSize': 12, 'iexVolume': 32644, 'lastTradeTime': 1713383999733, 'latestPrice': 411.77, 'latestSource': 'Close', 'latestTime': 'April 17, 2024', 'latestUpdate': 1713384001921, 'latestVolume': None, 'low': None, 'lowSource': '15 minute delayed price', 'lowTime': 1713372455908, 'marketCap': 41255608540, 'oddLotDelayedPrice': None, 'oddLotDelayedPriceTime': None, 'open': None, 'openTime': None, 'openSource': 'official', 'peRatio': 17.37, 'previousClose': 410.85, 'previousVolume': 583225, 'primaryExchange': 'NEW YORK STOCK EXCHANGE INC.', 'symbol': 'AMP', 'volume': None, 'week52High': 440.67, 'week52Low': 275.36, 'ytdChange': 0.0876521765889131, 'isUSMarketOpen': False}\n",
      "{'avgTotalVolume': 2593392, 'calculationPrice': 'close', 'change': -0.19, 'changePercent': -0.0011, 'close': None, 'closeSource': 'official', 'closeTime': None, 'companyName': 'American Tower Corp.', 'currency': 'USD', 'delayedPrice': None, 'delayedPriceTime': None, 'extendedChange': None, 'extendedChangePercent': None, 'extendedPrice': None, 'extendedPriceTime': None, 'high': None, 'highSource': '15 minute delayed price', 'highTime': 1713383999988, 'iexAskPrice': 0, 'iexAskSize': 0, 'iexBidPrice': 0, 'iexBidSize': 0, 'iexClose': 171.96, 'iexCloseTime': 1713383992195, 'iexLastUpdated': 1713383992195, 'iexMarketPercent': 0.029494312127492654, 'iexOpen': 172.4, 'iexOpenTime': 1713360630762, 'iexRealtimePrice': 171.96, 'iexRealtimeSize': 100, 'iexVolume': 80603, 'lastTradeTime': 1713383999988, 'latestPrice': 172.02, 'latestSource': 'Close', 'latestTime': 'April 17, 2024', 'latestUpdate': 1713384001947, 'latestVolume': None, 'low': None, 'lowSource': '15 minute delayed price', 'lowTime': 1713367502398, 'marketCap': 80326790339, 'oddLotDelayedPrice': None, 'oddLotDelayedPriceTime': None, 'open': None, 'openTime': None, 'openSource': 'official', 'peRatio': 54.09, 'previousClose': 172.21, 'previousVolume': 3848820, 'primaryExchange': 'NEW YORK STOCK EXCHANGE INC.', 'symbol': 'AMT', 'volume': None, 'week52High': 217.15, 'week52Low': 150.48, 'ytdChange': -0.19622240720141326, 'isUSMarketOpen': False}\n",
      "{'avgTotalVolume': 35088550, 'calculationPrice': 'close', 'change': -2.04, 'changePercent': -0.01113, 'close': None, 'closeSource': 'official', 'closeTime': None, 'companyName': 'Amazon.com Inc.', 'currency': 'USD', 'delayedPrice': None, 'delayedPriceTime': None, 'extendedChange': None, 'extendedChangePercent': None, 'extendedPrice': None, 'extendedPriceTime': None, 'high': None, 'highSource': None, 'highTime': None, 'iexAskPrice': 0, 'iexAskSize': 0, 'iexBidPrice': 0, 'iexBidSize': 0, 'iexClose': 181.22, 'iexCloseTime': 1713383999906, 'iexLastUpdated': 1713385022216, 'iexMarketPercent': 29.416784037558685, 'iexOpen': 184.34, 'iexOpenTime': 1713360600070, 'iexRealtimePrice': 181.15, 'iexRealtimeSize': 100, 'iexVolume': 501262, 'lastTradeTime': 1713383999906, 'latestPrice': 181.28, 'latestSource': 'Close', 'latestTime': 'April 17, 2024', 'latestUpdate': 1713384000005, 'latestVolume': None, 'low': None, 'lowSource': None, 'lowTime': None, 'marketCap': 1885809438665, 'oddLotDelayedPrice': None, 'oddLotDelayedPriceTime': None, 'open': None, 'openTime': None, 'openSource': 'official', 'peRatio': 62.51, 'previousClose': 183.32, 'previousVolume': 32891265, 'primaryExchange': 'NASDAQ', 'symbol': 'AMZN', 'volume': None, 'week52High': 189.77, 'week52Low': 101.15, 'ytdChange': 0.19539889298407276, 'isUSMarketOpen': False}\n",
      "{'avgTotalVolume': 2549545, 'calculationPrice': 'close', 'change': -3.49, 'changePercent': -0.01328, 'close': None, 'closeSource': 'official', 'closeTime': None, 'companyName': 'Arista Networks Inc', 'currency': 'USD', 'delayedPrice': None, 'delayedPriceTime': None, 'extendedChange': None, 'extendedChangePercent': None, 'extendedPrice': None, 'extendedPriceTime': None, 'high': None, 'highSource': '15 minute delayed price', 'highTime': 1713384000000, 'iexAskPrice': 0, 'iexAskSize': 0, 'iexBidPrice': 0, 'iexBidSize': 0, 'iexClose': 259.4, 'iexCloseTime': 1713383998025, 'iexLastUpdated': 1713383998025, 'iexMarketPercent': 2566.1846153846154, 'iexOpen': 262.545, 'iexOpenTime': 1713360601341, 'iexRealtimePrice': 259.4, 'iexRealtimeSize': 85, 'iexVolume': 166802, 'lastTradeTime': 1713383999977, 'latestPrice': 259.27, 'latestSource': 'Close', 'latestTime': 'April 17, 2024', 'latestUpdate': 1713384002356, 'latestVolume': None, 'low': None, 'lowSource': '15 minute delayed price', 'lowTime': 1713372385691, 'marketCap': 81056516583, 'oddLotDelayedPrice': None, 'oddLotDelayedPriceTime': None, 'open': None, 'openTime': None, 'openSource': 'official', 'peRatio': 39.4, 'previousClose': 262.76, 'previousVolume': 2226368, 'primaryExchange': 'NEW YORK STOCK EXCHANGE INC.', 'symbol': 'ANET', 'volume': None, 'week52High': 307.74, 'week52Low': 131.68, 'ytdChange': 0.10242633943356978, 'isUSMarketOpen': False}\n",
      "{'avgTotalVolume': 431388, 'calculationPrice': 'close', 'change': -1.19, 'changePercent': -0.00364, 'close': None, 'closeSource': 'official', 'closeTime': None, 'companyName': 'Ansys Inc. - Registered Shares', 'currency': 'USD', 'delayedPrice': None, 'delayedPriceTime': None, 'extendedChange': None, 'extendedChangePercent': None, 'extendedPrice': None, 'extendedPriceTime': None, 'high': None, 'highSource': 'IEX real time price', 'highTime': 1713360680014, 'iexAskPrice': 0, 'iexAskSize': 0, 'iexBidPrice': 0, 'iexBidSize': 0, 'iexClose': 325.5, 'iexCloseTime': 1713383999928, 'iexLastUpdated': 1713383999928, 'iexMarketPercent': 0.06549054922289463, 'iexOpen': 329.52, 'iexOpenTime': 1713360680014, 'iexRealtimePrice': 325.5, 'iexRealtimeSize': 96, 'iexVolume': 14036, 'lastTradeTime': 1713383999928, 'latestPrice': 325.62, 'latestSource': 'Close', 'latestTime': 'April 17, 2024', 'latestUpdate': 1713384000203, 'latestVolume': None, 'low': None, 'lowSource': None, 'lowTime': None, 'marketCap': 28426619813, 'oddLotDelayedPrice': None, 'oddLotDelayedPriceTime': None, 'open': None, 'openTime': None, 'openSource': 'official', 'peRatio': 56.83, 'previousClose': 326.81, 'previousVolume': 305337, 'primaryExchange': 'NASDAQ', 'symbol': 'ANSS', 'volume': None, 'week52High': 364.31, 'week52Low': 258.01, 'ytdChange': -0.10303925044091712, 'isUSMarketOpen': False}\n",
      "{'avgTotalVolume': 1292166, 'calculationPrice': 'previousclose', 'change': 0, 'changePercent': 0, 'close': None, 'closeSource': 'official', 'closeTime': None, 'companyName': 'Anthem Inc', 'currency': 'USD', 'delayedPrice': None, 'delayedPriceTime': None, 'extendedChange': None, 'extendedChangePercent': None, 'extendedPrice': None, 'extendedPriceTime': None, 'high': None, 'highSource': 'IEX real time price', 'highTime': 1656345551038, 'iexAskPrice': None, 'iexAskSize': None, 'iexBidPrice': None, 'iexBidSize': None, 'iexClose': 482.34, 'iexCloseTime': 1656359998016, 'iexLastUpdated': None, 'iexMarketPercent': None, 'iexOpen': 469.11, 'iexOpenTime': 1656336604119, 'iexRealtimePrice': None, 'iexRealtimeSize': None, 'iexVolume': None, 'lastTradeTime': 1656359999991, 'latestPrice': 482.58, 'latestSource': 'Previous close', 'latestTime': 'June 27, 2022', 'latestUpdate': 1656302400000, 'latestVolume': None, 'low': None, 'lowSource': '15 minute delayed price', 'lowTime': 1656336691360, 'marketCap': 116342693132, 'oddLotDelayedPrice': None, 'oddLotDelayedPriceTime': None, 'open': None, 'openTime': None, 'openSource': 'official', 'peRatio': 19, 'previousClose': 482.58, 'previousVolume': 1274535, 'primaryExchange': 'NEW YORK STOCK EXCHANGE INC.', 'symbol': 'ANTM', 'volume': None, 'week52High': 532.31, 'week52Low': 352.54, 'ytdChange': 0.04669389571711813, 'isUSMarketOpen': False}\n",
      "{'avgTotalVolume': 919006, 'calculationPrice': 'close', 'change': 0.74, 'changePercent': 0.00243, 'close': None, 'closeSource': 'official', 'closeTime': None, 'companyName': 'Aon plc. - Class A', 'currency': 'USD', 'delayedPrice': None, 'delayedPriceTime': None, 'extendedChange': None, 'extendedChangePercent': None, 'extendedPrice': None, 'extendedPriceTime': None, 'high': None, 'highSource': '15 minute delayed price', 'highTime': 1713383999999, 'iexAskPrice': 0, 'iexAskSize': 0, 'iexBidPrice': 0, 'iexBidSize': 0, 'iexClose': 304.745, 'iexCloseTime': 1713383994360, 'iexLastUpdated': 1713383994360, 'iexMarketPercent': 0.09468754274852945, 'iexOpen': 305.03, 'iexOpenTime': 1713360602847, 'iexRealtimePrice': 304.745, 'iexRealtimeSize': 3, 'iexVolume': 78909, 'lastTradeTime': 1713383999999, 'latestPrice': 304.79, 'latestSource': 'Close', 'latestTime': 'April 17, 2024', 'latestUpdate': 1713384002042, 'latestVolume': None, 'low': None, 'lowSource': '15 minute delayed price', 'lowTime': 1713360935638, 'marketCap': 60439166651, 'oddLotDelayedPrice': None, 'oddLotDelayedPriceTime': None, 'open': None, 'openTime': None, 'openSource': 'official', 'peRatio': None, 'previousClose': 304.05, 'previousVolume': 1230069, 'primaryExchange': 'NEW YORK STOCK EXCHANGE INC.', 'symbol': 'AON', 'volume': None, 'week52High': 345.3, 'week52Low': 284.26, 'ytdChange': 0.04935842459739488, 'isUSMarketOpen': False}\n",
      "{'avgTotalVolume': 901353, 'calculationPrice': 'close', 'change': 1.06, 'changePercent': 0.01241, 'close': None, 'closeSource': 'official', 'closeTime': None, 'companyName': 'A.O. Smith Corp.', 'currency': 'USD', 'delayedPrice': None, 'delayedPriceTime': None, 'extendedChange': None, 'extendedChangePercent': None, 'extendedPrice': None, 'extendedPriceTime': None, 'high': None, 'highSource': '15 minute delayed price', 'highTime': 1713384000076, 'iexAskPrice': 0, 'iexAskSize': 0, 'iexBidPrice': 0, 'iexBidSize': 0, 'iexClose': 86.475, 'iexCloseTime': 1713383997976, 'iexLastUpdated': 1713383997976, 'iexMarketPercent': 0.06512114058188744, 'iexOpen': 85.9, 'iexOpenTime': 1713360601989, 'iexRealtimePrice': 86.475, 'iexRealtimeSize': 1, 'iexVolume': 109841, 'lastTradeTime': 1713383999978, 'latestPrice': 86.46, 'latestSource': 'Close', 'latestTime': 'April 17, 2024', 'latestUpdate': 1713384001955, 'latestVolume': None, 'low': None, 'lowSource': '15 minute delayed price', 'lowTime': 1713368055168, 'marketCap': 13208972064, 'oddLotDelayedPrice': None, 'oddLotDelayedPriceTime': None, 'open': None, 'openTime': None, 'openSource': 'official', 'peRatio': 23.43, 'previousClose': 85.4, 'previousVolume': 886859, 'primaryExchange': 'NEW YORK STOCK EXCHANGE INC.', 'symbol': 'AOS', 'volume': None, 'week52High': 89.96, 'week52Low': 63.07, 'ytdChange': 0.052390807848323694, 'isUSMarketOpen': False}\n",
      "{'avgTotalVolume': 8027390, 'calculationPrice': 'close', 'change': -0.24, 'changePercent': -0.00738, 'close': None, 'closeSource': 'official', 'closeTime': None, 'companyName': 'APA Corporation', 'currency': 'USD', 'delayedPrice': None, 'delayedPriceTime': None, 'extendedChange': None, 'extendedChangePercent': None, 'extendedPrice': None, 'extendedPriceTime': None, 'high': None, 'highSource': None, 'highTime': None, 'iexAskPrice': 0, 'iexAskSize': 0, 'iexBidPrice': 0, 'iexBidSize': 0, 'iexClose': 32.25, 'iexCloseTime': 1713383999965, 'iexLastUpdated': 1713383999965, 'iexMarketPercent': 222.9594017094017, 'iexOpen': 32.44, 'iexOpenTime': 1713360603169, 'iexRealtimePrice': 32.25, 'iexRealtimeSize': 25, 'iexVolume': 208690, 'lastTradeTime': 1713383999990, 'latestPrice': 32.26, 'latestSource': 'Close', 'latestTime': 'April 17, 2024', 'latestUpdate': 1713384000143, 'latestVolume': None, 'low': None, 'lowSource': None, 'lowTime': None, 'marketCap': 9713301408, 'oddLotDelayedPrice': None, 'oddLotDelayedPriceTime': None, 'open': None, 'openTime': None, 'openSource': 'official', 'peRatio': 3.49, 'previousClose': 32.5, 'previousVolume': 6090513, 'primaryExchange': 'NASDAQ', 'symbol': 'APA', 'volume': None, 'week52High': 45.24, 'week52Low': 29.47, 'ytdChange': -0.0941405570479606, 'isUSMarketOpen': False}\n",
      "{'avgTotalVolume': 1417095, 'calculationPrice': 'close', 'change': 1.25, 'changePercent': 0.00549, 'close': None, 'closeSource': 'official', 'closeTime': None, 'companyName': 'Air Products & Chemicals Inc.', 'currency': 'USD', 'delayedPrice': None, 'delayedPriceTime': None, 'extendedChange': None, 'extendedChangePercent': None, 'extendedPrice': None, 'extendedPriceTime': None, 'high': None, 'highSource': '15 minute delayed price', 'highTime': 1713383999722, 'iexAskPrice': 0, 'iexAskSize': 0, 'iexBidPrice': 0, 'iexBidSize': 0, 'iexClose': 228.99, 'iexCloseTime': 1713383999176, 'iexLastUpdated': 1713383999176, 'iexMarketPercent': 0.052099612669414104, 'iexOpen': 228.965, 'iexOpenTime': 1713360659312, 'iexRealtimePrice': 228.99, 'iexRealtimeSize': 35, 'iexVolume': 75675, 'lastTradeTime': 1713383999416, 'latestPrice': 229.01, 'latestSource': 'Close', 'latestTime': 'April 17, 2024', 'latestUpdate': 1713384002006, 'latestVolume': None, 'low': None, 'lowSource': '15 minute delayed price', 'lowTime': 1713367949472, 'marketCap': 50909163690, 'oddLotDelayedPrice': None, 'oddLotDelayedPriceTime': None, 'open': None, 'openTime': None, 'openSource': 'official', 'peRatio': 21.83, 'previousClose': 227.76, 'previousVolume': 2590139, 'primaryExchange': 'NEW YORK STOCK EXCHANGE INC.', 'symbol': 'APD', 'volume': None, 'week52High': 301.67, 'week52Low': 210.69, 'ytdChange': -0.15656094432988188, 'isUSMarketOpen': False}\n",
      "{'avgTotalVolume': 3292881, 'calculationPrice': 'close', 'change': -1.08, 'changePercent': -0.00959, 'close': None, 'closeSource': 'official', 'closeTime': None, 'companyName': 'Amphenol Corp. - Class A', 'currency': 'USD', 'delayedPrice': None, 'delayedPriceTime': None, 'extendedChange': None, 'extendedChangePercent': None, 'extendedPrice': None, 'extendedPriceTime': None, 'high': None, 'highSource': '15 minute delayed price', 'highTime': 1713383999985, 'iexAskPrice': 0, 'iexAskSize': 0, 'iexBidPrice': 0, 'iexBidSize': 0, 'iexClose': 111.505, 'iexCloseTime': 1713383991998, 'iexLastUpdated': 1713383991998, 'iexMarketPercent': 0.023056874684150457, 'iexOpen': 112.57, 'iexOpenTime': 1713360649589, 'iexRealtimePrice': 111.505, 'iexRealtimeSize': 100, 'iexVolume': 60909, 'lastTradeTime': 1713383999985, 'latestPrice': 111.49, 'latestSource': 'Close', 'latestTime': 'April 17, 2024', 'latestUpdate': 1713384002052, 'latestVolume': None, 'low': None, 'lowSource': 'IEX real time price', 'lowTime': 1713372383103, 'marketCap': 67069221809, 'oddLotDelayedPrice': None, 'oddLotDelayedPriceTime': None, 'open': None, 'openTime': None, 'openSource': 'official', 'peRatio': 35.85, 'previousClose': 112.57, 'previousVolume': 3907993, 'primaryExchange': 'NEW YORK STOCK EXCHANGE INC.', 'symbol': 'APH', 'volume': None, 'week52High': 118.62, 'week52Low': 71.34, 'ytdChange': 0.12827951445711894, 'isUSMarketOpen': False}\n",
      "{'avgTotalVolume': 2112481, 'calculationPrice': 'close', 'change': -2.59, 'changePercent': -0.036, 'close': None, 'closeSource': 'official', 'closeTime': None, 'companyName': 'Aptiv PLC', 'currency': 'USD', 'delayedPrice': None, 'delayedPriceTime': None, 'extendedChange': None, 'extendedChangePercent': None, 'extendedPrice': None, 'extendedPriceTime': None, 'high': None, 'highSource': '15 minute delayed price', 'highTime': 1713383999978, 'iexAskPrice': 0, 'iexAskSize': 0, 'iexBidPrice': 0, 'iexBidSize': 0, 'iexClose': 69.35, 'iexCloseTime': 1713383996071, 'iexLastUpdated': 1713383996071, 'iexMarketPercent': 0.02913395691447252, 'iexOpen': 71.825, 'iexOpenTime': 1713360601533, 'iexRealtimePrice': 69.35, 'iexRealtimeSize': 6, 'iexVolume': 108600, 'lastTradeTime': 1713383998592, 'latestPrice': 69.35, 'latestSource': 'Close', 'latestTime': 'April 17, 2024', 'latestUpdate': 1713384002474, 'latestVolume': None, 'low': None, 'lowSource': '15 minute delayed price', 'lowTime': 1713383984330, 'marketCap': 18910263823, 'oddLotDelayedPrice': None, 'oddLotDelayedPriceTime': None, 'open': None, 'openTime': None, 'openSource': 'official', 'peRatio': 6.75, 'previousClose': 71.94, 'previousVolume': 1789752, 'primaryExchange': 'NEW YORK STOCK EXCHANGE INC.', 'symbol': 'APTV', 'volume': None, 'week52High': 113.6, 'week52Low': 69.3, 'ytdChange': -0.23417209094962108, 'isUSMarketOpen': False}\n",
      "{'avgTotalVolume': 750219, 'calculationPrice': 'close', 'change': -0.54, 'changePercent': -0.00462, 'close': None, 'closeSource': 'official', 'closeTime': None, 'companyName': 'Alexandria Real Estate Equities Inc.', 'currency': 'USD', 'delayedPrice': None, 'delayedPriceTime': None, 'extendedChange': None, 'extendedChangePercent': None, 'extendedPrice': None, 'extendedPriceTime': None, 'high': None, 'highSource': 'IEX real time price', 'highTime': 1713379515390, 'iexAskPrice': 0, 'iexAskSize': 0, 'iexBidPrice': 0, 'iexBidSize': 0, 'iexClose': 116.41, 'iexCloseTime': 1713383996941, 'iexLastUpdated': 1713383996941, 'iexMarketPercent': 0.03369632586579361, 'iexOpen': 117.25, 'iexOpenTime': 1713360614532, 'iexRealtimePrice': 116.41, 'iexRealtimeSize': 100, 'iexVolume': 20605, 'lastTradeTime': 1713383999740, 'latestPrice': 116.45, 'latestSource': 'Close', 'latestTime': 'April 17, 2024', 'latestUpdate': 1713384001974, 'latestVolume': None, 'low': None, 'lowSource': '15 minute delayed price', 'lowTime': 1713383994165, 'marketCap': 20373309689, 'oddLotDelayedPrice': None, 'oddLotDelayedPriceTime': None, 'open': None, 'openTime': None, 'openSource': 'official', 'peRatio': 215.29, 'previousClose': 116.99, 'previousVolume': 778107, 'primaryExchange': 'NEW YORK STOCK EXCHANGE INC.', 'symbol': 'ARE', 'volume': None, 'week52High': 132.74, 'week52Low': 88.92, 'ytdChange': -0.07223262927022105, 'isUSMarketOpen': False}\n",
      "{'avgTotalVolume': 729481, 'calculationPrice': 'close', 'change': 2.23, 'changePercent': 0.01985, 'close': None, 'closeSource': 'official', 'closeTime': None, 'companyName': 'Atmos Energy Corp.', 'currency': 'USD', 'delayedPrice': None, 'delayedPriceTime': None, 'extendedChange': None, 'extendedChangePercent': None, 'extendedPrice': None, 'extendedPriceTime': None, 'high': None, 'highSource': '15 minute delayed price', 'highTime': 1713383999978, 'iexAskPrice': 0, 'iexAskSize': 0, 'iexBidPrice': 0, 'iexBidSize': 0, 'iexClose': 114.54, 'iexCloseTime': 1713383989925, 'iexLastUpdated': 1713383989925, 'iexMarketPercent': 0.03301969782229066, 'iexOpen': 112.785, 'iexOpenTime': 1713360601240, 'iexRealtimePrice': 114.54, 'iexRealtimeSize': 74, 'iexVolume': 22709, 'lastTradeTime': 1713383999843, 'latestPrice': 114.56, 'latestSource': 'Close', 'latestTime': 'April 17, 2024', 'latestUpdate': 1713384001997, 'latestVolume': None, 'low': None, 'lowSource': 'IEX real time price', 'lowTime': 1713360602576, 'marketCap': 17280197063, 'oddLotDelayedPrice': None, 'oddLotDelayedPriceTime': None, 'open': None, 'openTime': None, 'openSource': 'official', 'peRatio': 18.21, 'previousClose': 112.33, 'previousVolume': 973119, 'primaryExchange': 'NEW YORK STOCK EXCHANGE INC.', 'symbol': 'ATO', 'volume': None, 'week52High': 122.73, 'week52Low': 99.57, 'ytdChange': -0.004071016936486628, 'isUSMarketOpen': False}\n",
      "{'avgTotalVolume': 0, 'calculationPrice': 'close', 'change': -0.05, 'changePercent': -0.00053, 'close': None, 'closeSource': 'official', 'closeTime': None, 'companyName': 'Activision Blizzard Inc', 'currency': 'USD', 'delayedPrice': None, 'delayedPriceTime': None, 'extendedChange': None, 'extendedChangePercent': None, 'extendedPrice': None, 'extendedPriceTime': None, 'high': None, 'highSource': '15 minute delayed price', 'highTime': 1697140799914, 'iexAskPrice': None, 'iexAskSize': None, 'iexBidPrice': None, 'iexBidSize': None, 'iexClose': 94.42, 'iexCloseTime': 1697140796421, 'iexLastUpdated': None, 'iexMarketPercent': None, 'iexOpen': None, 'iexOpenTime': None, 'iexRealtimePrice': None, 'iexRealtimeSize': None, 'iexVolume': None, 'lastTradeTime': 1697140799914, 'latestPrice': 94.42, 'latestSource': 'Close', 'latestTime': 'October 12, 2023', 'latestUpdate': 1697140800459, 'latestVolume': None, 'low': None, 'lowSource': '15 minute delayed price', 'lowTime': 1697134402597, 'marketCap': 74289497374, 'oddLotDelayedPrice': None, 'oddLotDelayedPriceTime': None, 'open': None, 'openTime': None, 'openSource': 'official', 'peRatio': 34.59, 'previousClose': 94.47, 'previousVolume': 13234561, 'primaryExchange': 'NASDAQ', 'symbol': 'ATVI', 'volume': None, 'week52High': 94.54, 'week52Low': 0, 'ytdChange': -0.00053, 'isUSMarketOpen': False}\n",
      "{'avgTotalVolume': 705144, 'calculationPrice': 'close', 'change': 1.97, 'changePercent': 0.01101, 'close': None, 'closeSource': 'official', 'closeTime': None, 'companyName': 'Avalonbay Communities Inc.', 'currency': 'USD', 'delayedPrice': None, 'delayedPriceTime': None, 'extendedChange': None, 'extendedChangePercent': None, 'extendedPrice': None, 'extendedPriceTime': None, 'high': None, 'highSource': '15 minute delayed price', 'highTime': 1713383999989, 'iexAskPrice': 0, 'iexAskSize': 0, 'iexBidPrice': 0, 'iexBidSize': 0, 'iexClose': 180.93, 'iexCloseTime': 1713383998071, 'iexLastUpdated': 1713383998071, 'iexMarketPercent': 0.08001781266090538, 'iexOpen': 179.8, 'iexOpenTime': 1713360605021, 'iexRealtimePrice': 180.93, 'iexRealtimeSize': 50, 'iexVolume': 63250, 'lastTradeTime': 1713383999979, 'latestPrice': 180.95, 'latestSource': 'Close', 'latestTime': 'April 17, 2024', 'latestUpdate': 1713384002008, 'latestVolume': None, 'low': None, 'lowSource': '15 minute delayed price', 'lowTime': 1713367932937, 'marketCap': 25728147934, 'oddLotDelayedPrice': None, 'oddLotDelayedPriceTime': None, 'open': None, 'openTime': None, 'openSource': 'official', 'peRatio': 27.63, 'previousClose': 178.98, 'previousVolume': 901183, 'primaryExchange': 'NEW YORK STOCK EXCHANGE INC.', 'symbol': 'AVB', 'volume': None, 'week52High': 193.21, 'week52Low': 157.56, 'ytdChange': -0.023921822985640016, 'isUSMarketOpen': False}\n",
      "{'avgTotalVolume': 2726212, 'calculationPrice': 'close', 'change': -46.43, 'changePercent': -0.03493, 'close': None, 'closeSource': 'official', 'closeTime': None, 'companyName': 'Broadcom Inc', 'currency': 'USD', 'delayedPrice': None, 'delayedPriceTime': None, 'extendedChange': None, 'extendedChangePercent': None, 'extendedPrice': None, 'extendedPriceTime': None, 'high': None, 'highSource': None, 'highTime': None, 'iexAskPrice': 0, 'iexAskSize': 0, 'iexBidPrice': 0, 'iexBidSize': 0, 'iexClose': 1282.9, 'iexCloseTime': 1713383999660, 'iexLastUpdated': 1713383999660, 'iexMarketPercent': 125.65594855305466, 'iexOpen': 1344.61, 'iexOpenTime': 1713360600026, 'iexRealtimePrice': 1282.9, 'iexRealtimeSize': 3, 'iexVolume': 78158, 'lastTradeTime': 1713383999903, 'latestPrice': 1282.63, 'latestSource': 'Close', 'latestTime': 'April 17, 2024', 'latestUpdate': 1713384000101, 'latestVolume': None, 'low': None, 'lowSource': 'IEX real time price', 'lowTime': 1713383989513, 'marketCap': 594397981213, 'oddLotDelayedPrice': None, 'oddLotDelayedPriceTime': None, 'open': None, 'openTime': None, 'openSource': 'official', 'peRatio': 48.13, 'previousClose': 1329.06, 'previousVolume': 1892274, 'primaryExchange': 'NASDAQ', 'symbol': 'AVGO', 'volume': None, 'week52High': 1426, 'week52Low': 581.35, 'ytdChange': 0.16588055118781797, 'isUSMarketOpen': False}\n",
      "{'avgTotalVolume': 363925, 'calculationPrice': 'close', 'change': -2.17, 'changePercent': -0.01028, 'close': None, 'closeSource': 'official', 'closeTime': None, 'companyName': 'Avery Dennison Corp.', 'currency': 'USD', 'delayedPrice': None, 'delayedPriceTime': None, 'extendedChange': None, 'extendedChangePercent': None, 'extendedPrice': None, 'extendedPriceTime': None, 'high': None, 'highSource': '15 minute delayed price', 'highTime': 1713383999977, 'iexAskPrice': 0, 'iexAskSize': 0, 'iexBidPrice': 0, 'iexBidSize': 0, 'iexClose': 208.95, 'iexCloseTime': 1713383998576, 'iexLastUpdated': 1713383998576, 'iexMarketPercent': 0.06125450085160404, 'iexOpen': 212.725, 'iexOpenTime': 1713360735020, 'iexRealtimePrice': 208.95, 'iexRealtimeSize': 1, 'iexVolume': 27117, 'lastTradeTime': 1713383999717, 'latestPrice': 208.92, 'latestSource': 'Close', 'latestTime': 'April 17, 2024', 'latestUpdate': 1713384001897, 'latestVolume': None, 'low': None, 'lowSource': '15 minute delayed price', 'lowTime': 1713383983015, 'marketCap': 16822321132, 'oddLotDelayedPrice': None, 'oddLotDelayedPriceTime': None, 'open': None, 'openTime': None, 'openSource': 'official', 'peRatio': 33.7, 'previousClose': 211.09, 'previousVolume': 333589, 'primaryExchange': 'NEW YORK STOCK EXCHANGE INC.', 'symbol': 'AVY', 'volume': None, 'week52High': 225.26, 'week52Low': 156.24, 'ytdChange': 0.037820717767017634, 'isUSMarketOpen': False}\n",
      "{'avgTotalVolume': 1436020, 'calculationPrice': 'close', 'change': 1.58, 'changePercent': 0.01388, 'close': None, 'closeSource': 'official', 'closeTime': None, 'companyName': 'American Water Works Co. Inc.', 'currency': 'USD', 'delayedPrice': None, 'delayedPriceTime': None, 'extendedChange': None, 'extendedChangePercent': None, 'extendedPrice': None, 'extendedPriceTime': None, 'high': None, 'highSource': '15 minute delayed price', 'highTime': 1713383999999, 'iexAskPrice': 0, 'iexAskSize': 0, 'iexBidPrice': 0, 'iexBidSize': 0, 'iexClose': 115.38, 'iexCloseTime': 1713383995537, 'iexLastUpdated': 1713383995537, 'iexMarketPercent': 0.03272165805570402, 'iexOpen': 113.88, 'iexOpenTime': 1713360660524, 'iexRealtimePrice': 115.38, 'iexRealtimeSize': 30, 'iexVolume': 62263, 'lastTradeTime': 1713383999828, 'latestPrice': 115.4, 'latestSource': 'Close', 'latestTime': 'April 17, 2024', 'latestUpdate': 1713384002325, 'latestVolume': None, 'low': None, 'lowSource': '15 minute delayed price', 'lowTime': 1713364280166, 'marketCap': 22482435720, 'oddLotDelayedPrice': None, 'oddLotDelayedPriceTime': None, 'open': None, 'openTime': None, 'openSource': 'official', 'peRatio': 23.6, 'previousClose': 113.82, 'previousVolume': 2331081, 'primaryExchange': 'NEW YORK STOCK EXCHANGE INC.', 'symbol': 'AWK', 'volume': None, 'week52High': 149.76, 'week52Low': 112.94, 'ytdChange': -0.11877329450009833, 'isUSMarketOpen': False}\n",
      "{'avgTotalVolume': 2536958, 'calculationPrice': 'close', 'change': -0.67, 'changePercent': -0.00307, 'close': None, 'closeSource': 'official', 'closeTime': None, 'companyName': 'American Express Co.', 'currency': 'USD', 'delayedPrice': None, 'delayedPriceTime': None, 'extendedChange': None, 'extendedChangePercent': None, 'extendedPrice': None, 'extendedPriceTime': None, 'high': None, 'highSource': '15 minute delayed price', 'highTime': 1713384000010, 'iexAskPrice': 0, 'iexAskSize': 0, 'iexBidPrice': 0, 'iexBidSize': 0, 'iexClose': 217.61, 'iexCloseTime': 1713383997510, 'iexLastUpdated': 1713383997510, 'iexMarketPercent': 1960.1333333333334, 'iexOpen': 219.19, 'iexOpenTime': 1713360605164, 'iexRealtimePrice': 217.61, 'iexRealtimeSize': 100, 'iexVolume': 88206, 'lastTradeTime': 1713383999992, 'latestPrice': 217.67, 'latestSource': 'Close', 'latestTime': 'April 17, 2024', 'latestUpdate': 1713384114228, 'latestVolume': None, 'low': None, 'lowSource': '15 minute delayed price', 'lowTime': 1713372383103, 'marketCap': 157564736536, 'oddLotDelayedPrice': None, 'oddLotDelayedPriceTime': None, 'open': None, 'openTime': None, 'openSource': 'official', 'peRatio': 19.42, 'previousClose': 218.34, 'previousVolume': 4176672, 'primaryExchange': 'NEW YORK STOCK EXCHANGE INC.', 'symbol': 'AXP', 'volume': None, 'week52High': 230.97, 'week52Low': 140.02, 'ytdChange': 0.16979268417634522, 'isUSMarketOpen': False}\n",
      "{'avgTotalVolume': 134835, 'calculationPrice': 'close', 'change': 27.99, 'changePercent': 0.00962, 'close': None, 'closeSource': 'official', 'closeTime': None, 'companyName': 'Autozone Inc.', 'currency': 'USD', 'delayedPrice': None, 'delayedPriceTime': None, 'extendedChange': None, 'extendedChangePercent': None, 'extendedPrice': None, 'extendedPriceTime': None, 'high': None, 'highSource': '15 minute delayed price', 'highTime': 1713383999675, 'iexAskPrice': 0, 'iexAskSize': 0, 'iexBidPrice': 0, 'iexBidSize': 0, 'iexClose': 2935.97, 'iexCloseTime': 1713383992075, 'iexLastUpdated': 1713383992075, 'iexMarketPercent': 0.09577227499812342, 'iexOpen': 2938.97, 'iexOpenTime': 1713360660216, 'iexRealtimePrice': 2935.97, 'iexRealtimeSize': 11, 'iexVolume': 11483, 'lastTradeTime': 1713383995666, 'latestPrice': 2938.26, 'latestSource': 'Close', 'latestTime': 'April 17, 2024', 'latestUpdate': 1713384001993, 'latestVolume': None, 'low': None, 'lowSource': '15 minute delayed price', 'lowTime': 1713360660061, 'marketCap': 50887724940, 'oddLotDelayedPrice': None, 'oddLotDelayedPriceTime': None, 'open': None, 'openTime': None, 'openSource': 'official', 'peRatio': 20.6, 'previousClose': 2910.27, 'previousVolume': 177204, 'primaryExchange': 'NEW YORK STOCK EXCHANGE INC.', 'symbol': 'AZO', 'volume': None, 'week52High': 3256.37, 'week52Low': 2277.88, 'ytdChange': 0.13518418021279313, 'isUSMarketOpen': False}\n",
      "{'avgTotalVolume': 7386918, 'calculationPrice': 'close', 'change': -0.34, 'changePercent': -0.00199, 'close': None, 'closeSource': 'official', 'closeTime': None, 'companyName': 'Boeing Co.', 'currency': 'USD', 'delayedPrice': None, 'delayedPriceTime': None, 'extendedChange': None, 'extendedChangePercent': None, 'extendedPrice': None, 'extendedPriceTime': None, 'high': None, 'highSource': '15 minute delayed price', 'highTime': 1713384000000, 'iexAskPrice': 0, 'iexAskSize': 0, 'iexBidPrice': 0, 'iexBidSize': 0, 'iexClose': 170.19, 'iexCloseTime': 1713383999969, 'iexLastUpdated': 1713383999969, 'iexMarketPercent': 44.131520839083635, 'iexOpen': 170.01, 'iexOpenTime': 1713360601388, 'iexRealtimePrice': 170.19, 'iexRealtimeSize': 100, 'iexVolume': 319777, 'lastTradeTime': 1713384000000, 'latestPrice': 170.21, 'latestSource': 'Close', 'latestTime': 'April 17, 2024', 'latestUpdate': 1713384002054, 'latestVolume': None, 'low': None, 'lowSource': '15 minute delayed price', 'lowTime': 1713369971557, 'marketCap': 103851113243, 'oddLotDelayedPrice': None, 'oddLotDelayedPriceTime': None, 'open': None, 'openTime': None, 'openSource': 'official', 'peRatio': -46.38, 'previousClose': 170.55, 'previousVolume': 7986725, 'primaryExchange': 'NEW YORK STOCK EXCHANGE INC.', 'symbol': 'BA', 'volume': None, 'week52High': 267.54, 'week52Low': 167.53, 'ytdChange': -0.34768937850072895, 'isUSMarketOpen': False}\n",
      "{'avgTotalVolume': 40560595, 'calculationPrice': 'close', 'change': 0.55, 'changePercent': 0.01586, 'close': None, 'closeSource': 'official', 'closeTime': None, 'companyName': 'Bank Of America Corp.', 'currency': 'USD', 'delayedPrice': None, 'delayedPriceTime': None, 'extendedChange': None, 'extendedChangePercent': None, 'extendedPrice': None, 'extendedPriceTime': None, 'high': None, 'highSource': '15 minute delayed price', 'highTime': 1713383999999, 'iexAskPrice': 0, 'iexAskSize': 0, 'iexBidPrice': 0, 'iexBidSize': 0, 'iexClose': 35.22, 'iexCloseTime': 1713383999994, 'iexLastUpdated': 1713383999994, 'iexMarketPercent': 638.4535599179608, 'iexOpen': 34.89, 'iexOpenTime': 1713360604888, 'iexRealtimePrice': 35.22, 'iexRealtimeSize': 150, 'iexVolume': 2179042, 'lastTradeTime': 1713383999999, 'latestPrice': 35.23, 'latestSource': 'Close', 'latestTime': 'April 17, 2024', 'latestUpdate': 1713384001997, 'latestVolume': None, 'low': None, 'lowSource': '15 minute delayed price', 'lowTime': 1713360693407, 'marketCap': 277987207601, 'oddLotDelayedPrice': None, 'oddLotDelayedPriceTime': None, 'open': None, 'openTime': None, 'openSource': 'official', 'peRatio': 11.36, 'previousClose': 34.68, 'previousVolume': 95566094, 'primaryExchange': 'NEW YORK STOCK EXCHANGE INC.', 'symbol': 'BAC', 'volume': None, 'week52High': 38.35, 'week52Low': 24.59, 'ytdChange': 0.05311194036100432, 'isUSMarketOpen': False}\n",
      "{'avgTotalVolume': 3247625, 'calculationPrice': 'close', 'change': -0.05, 'changePercent': -0.00126, 'close': None, 'closeSource': 'official', 'closeTime': None, 'companyName': 'Baxter International Inc.', 'currency': 'USD', 'delayedPrice': None, 'delayedPriceTime': None, 'extendedChange': None, 'extendedChangePercent': None, 'extendedPrice': None, 'extendedPriceTime': None, 'high': None, 'highSource': '15 minute delayed price', 'highTime': 1713383999989, 'iexAskPrice': 0, 'iexAskSize': 0, 'iexBidPrice': 0, 'iexBidSize': 0, 'iexClose': 39.52, 'iexCloseTime': 1713383997440, 'iexLastUpdated': 1713383997440, 'iexMarketPercent': 0.027812936918569058, 'iexOpen': 39.7, 'iexOpenTime': 1713360700969, 'iexRealtimePrice': 39.52, 'iexRealtimeSize': 200, 'iexVolume': 78139, 'lastTradeTime': 1713383999979, 'latestPrice': 39.52, 'latestSource': 'Close', 'latestTime': 'April 17, 2024', 'latestUpdate': 1713384002003, 'latestVolume': None, 'low': None, 'lowSource': '15 minute delayed price', 'lowTime': 1713367953148, 'marketCap': 20069340310, 'oddLotDelayedPrice': None, 'oddLotDelayedPriceTime': None, 'open': None, 'openTime': None, 'openSource': 'official', 'peRatio': 7.53, 'previousClose': 39.57, 'previousVolume': 2658887, 'primaryExchange': 'NEW YORK STOCK EXCHANGE INC.', 'symbol': 'BAX', 'volume': None, 'week52High': 49.12, 'week52Low': 30.55, 'ytdChange': 0.02947180134513498, 'isUSMarketOpen': False}\n",
      "{'avgTotalVolume': 3078091, 'calculationPrice': 'close', 'change': 1.06, 'changePercent': 0.0141, 'close': None, 'closeSource': 'official', 'closeTime': None, 'companyName': 'Best Buy Co. Inc.', 'currency': 'USD', 'delayedPrice': None, 'delayedPriceTime': None, 'extendedChange': None, 'extendedChangePercent': None, 'extendedPrice': None, 'extendedPriceTime': None, 'high': None, 'highSource': '15 minute delayed price', 'highTime': 1713383999988, 'iexAskPrice': 0, 'iexAskSize': 0, 'iexBidPrice': 0, 'iexBidSize': 0, 'iexClose': 76.26, 'iexCloseTime': 1713383992531, 'iexLastUpdated': 1713383992531, 'iexMarketPercent': 0.03724818471979354, 'iexOpen': 75.91, 'iexOpenTime': 1713360605722, 'iexRealtimePrice': 76.26, 'iexRealtimeSize': 40, 'iexVolume': 85950, 'lastTradeTime': 1713383999977, 'latestPrice': 76.23, 'latestSource': 'Close', 'latestTime': 'April 17, 2024', 'latestUpdate': 1713384002013, 'latestVolume': None, 'low': None, 'lowSource': '15 minute delayed price', 'lowTime': 1713367263489, 'marketCap': 16418523741, 'oddLotDelayedPrice': None, 'oddLotDelayedPriceTime': None, 'open': None, 'openTime': None, 'openSource': 'official', 'peRatio': 13.42, 'previousClose': 75.17, 'previousVolume': 3936727, 'primaryExchange': 'NEW YORK STOCK EXCHANGE INC.', 'symbol': 'BBY', 'volume': None, 'week52High': 85.08, 'week52Low': 60.79, 'ytdChange': -0.013950385702500847, 'isUSMarketOpen': False}\n",
      "{'avgTotalVolume': 1125779, 'calculationPrice': 'close', 'change': 1.2, 'changePercent': 0.00519, 'close': None, 'closeSource': 'official', 'closeTime': None, 'companyName': 'Becton Dickinson & Co.', 'currency': 'USD', 'delayedPrice': None, 'delayedPriceTime': None, 'extendedChange': None, 'extendedChangePercent': None, 'extendedPrice': None, 'extendedPriceTime': None, 'high': None, 'highSource': '15 minute delayed price', 'highTime': 1713383999792, 'iexAskPrice': 0, 'iexAskSize': 0, 'iexBidPrice': 0, 'iexBidSize': 0, 'iexClose': 232.3, 'iexCloseTime': 1713383995492, 'iexLastUpdated': 1713383995492, 'iexMarketPercent': 0.026176942947213164, 'iexOpen': 230.49, 'iexOpenTime': 1713360656200, 'iexRealtimePrice': 232.3, 'iexRealtimeSize': 67, 'iexVolume': 39542, 'lastTradeTime': 1713383999730, 'latestPrice': 232.21, 'latestSource': 'Close', 'latestTime': 'April 17, 2024', 'latestUpdate': 1713384002003, 'latestVolume': None, 'low': None, 'lowSource': '15 minute delayed price', 'lowTime': 1713361284632, 'marketCap': 67085933420, 'oddLotDelayedPrice': None, 'oddLotDelayedPriceTime': None, 'open': None, 'openTime': None, 'openSource': 'official', 'peRatio': 55.29, 'previousClose': 231.01, 'previousVolume': 1064150, 'primaryExchange': 'NEW YORK STOCK EXCHANGE INC.', 'symbol': 'BDX', 'volume': None, 'week52High': 284.02, 'week52Low': 228, 'ytdChange': -0.04355184053485575, 'isUSMarketOpen': False}\n",
      "{'avgTotalVolume': 3256430, 'calculationPrice': 'close', 'change': 0.1, 'changePercent': 0.00405, 'close': None, 'closeSource': 'official', 'closeTime': None, 'companyName': 'Franklin Resources, Inc.', 'currency': 'USD', 'delayedPrice': None, 'delayedPriceTime': None, 'extendedChange': None, 'extendedChangePercent': None, 'extendedPrice': None, 'extendedPriceTime': None, 'high': None, 'highSource': '15 minute delayed price', 'highTime': 1713383999416, 'iexAskPrice': 0, 'iexAskSize': 0, 'iexBidPrice': 0, 'iexBidSize': 0, 'iexClose': 24.805, 'iexCloseTime': 1713383995322, 'iexLastUpdated': 1713383995322, 'iexMarketPercent': 0.036713160742667346, 'iexOpen': 24.885, 'iexOpenTime': 1713360602123, 'iexRealtimePrice': 24.805, 'iexRealtimeSize': 21, 'iexVolume': 105979, 'lastTradeTime': 1713383999416, 'latestPrice': 24.81, 'latestSource': 'Close', 'latestTime': 'April 17, 2024', 'latestUpdate': 1713384002081, 'latestVolume': None, 'low': None, 'lowSource': '15 minute delayed price', 'lowTime': 1713369979522, 'marketCap': 13063902070, 'oddLotDelayedPrice': None, 'oddLotDelayedPriceTime': None, 'open': None, 'openTime': None, 'openSource': 'official', 'peRatio': 13.13, 'previousClose': 24.71, 'previousVolume': 5064163, 'primaryExchange': 'NEW YORK STOCK EXCHANGE INC.', 'symbol': 'BEN', 'volume': None, 'week52High': 29.66, 'week52Low': 21.4, 'ytdChange': -0.14802999478414236, 'isUSMarketOpen': False}\n",
      "{'avgTotalVolume': 283187, 'calculationPrice': 'close', 'change': -0.54, 'changePercent': -0.01592, 'close': None, 'closeSource': 'official', 'closeTime': None, 'companyName': 'Barnes Group Inc.', 'currency': 'USD', 'delayedPrice': None, 'delayedPriceTime': None, 'extendedChange': None, 'extendedChangePercent': None, 'extendedPrice': None, 'extendedPriceTime': None, 'high': None, 'highSource': '15 minute delayed price', 'highTime': 1713383999979, 'iexAskPrice': 0, 'iexAskSize': 0, 'iexBidPrice': 0, 'iexBidSize': 0, 'iexClose': 33.4, 'iexCloseTime': 1713383996505, 'iexLastUpdated': 1713383996505, 'iexMarketPercent': 0.017867093589959047, 'iexOpen': 34.205, 'iexOpenTime': 1713360733227, 'iexRealtimePrice': 33.4, 'iexRealtimeSize': 1, 'iexVolume': 4040, 'lastTradeTime': 1713383999979, 'latestPrice': 33.39, 'latestSource': 'Close', 'latestTime': 'April 17, 2024', 'latestUpdate': 1713384002059, 'latestVolume': None, 'low': None, 'lowSource': '15 minute delayed price', 'lowTime': 1713381205579, 'marketCap': 1692756669, 'oddLotDelayedPrice': None, 'oddLotDelayedPriceTime': None, 'open': None, 'openTime': None, 'openSource': 'official', 'peRatio': 106.88, 'previousClose': 33.93, 'previousVolume': 219376, 'primaryExchange': 'NEW YORK STOCK EXCHANGE INC.', 'symbol': 'B', 'volume': None, 'week52High': 43.02, 'week52Low': 18.59, 'ytdChange': 0.028584576056741296, 'isUSMarketOpen': False}\n",
      "{'avgTotalVolume': 1111979, 'calculationPrice': 'close', 'change': -2.99, 'changePercent': -0.01532, 'close': None, 'closeSource': 'official', 'closeTime': None, 'companyName': 'Biogen Inc', 'currency': 'USD', 'delayedPrice': None, 'delayedPriceTime': None, 'extendedChange': None, 'extendedChangePercent': None, 'extendedPrice': None, 'extendedPriceTime': None, 'high': None, 'highSource': None, 'highTime': None, 'iexAskPrice': 0, 'iexAskSize': 0, 'iexBidPrice': 0, 'iexBidSize': 0, 'iexClose': 192.13, 'iexCloseTime': 1713383996824, 'iexLastUpdated': 1713383996824, 'iexMarketPercent': 10573, 'iexOpen': 195.59, 'iexOpenTime': 1713360601364, 'iexRealtimePrice': 192.13, 'iexRealtimeSize': 51, 'iexVolume': 63438, 'lastTradeTime': 1713383999987, 'latestPrice': 192.16, 'latestSource': 'Close', 'latestTime': 'April 17, 2024', 'latestUpdate': 1713384000290, 'latestVolume': None, 'low': None, 'lowSource': None, 'lowTime': None, 'marketCap': 27932530944, 'oddLotDelayedPrice': None, 'oddLotDelayedPriceTime': None, 'open': None, 'openTime': None, 'openSource': 'official', 'peRatio': 24.11, 'previousClose': 195.15, 'previousVolume': 872004, 'primaryExchange': 'NASDAQ', 'symbol': 'BIIB', 'volume': None, 'week52High': 319.76, 'week52Low': 194.94, 'ytdChange': -0.26117539281987856, 'isUSMarketOpen': False}\n",
      "{'avgTotalVolume': 187201, 'calculationPrice': 'close', 'change': -1.89, 'changePercent': -0.00646, 'close': None, 'closeSource': 'official', 'closeTime': None, 'companyName': 'Bio-Rad Laboratories Inc. - Class A', 'currency': 'USD', 'delayedPrice': None, 'delayedPriceTime': None, 'extendedChange': None, 'extendedChangePercent': None, 'extendedPrice': None, 'extendedPriceTime': None, 'high': None, 'highSource': '15 minute delayed price', 'highTime': 1713383999999, 'iexAskPrice': 0, 'iexAskSize': 0, 'iexBidPrice': 0, 'iexBidSize': 0, 'iexClose': 290.72, 'iexCloseTime': 1713383997057, 'iexLastUpdated': 1713383997057, 'iexMarketPercent': 78.19867549668874, 'iexOpen': 294.91, 'iexOpenTime': 1713360649209, 'iexRealtimePrice': 290.72, 'iexRealtimeSize': 5, 'iexVolume': 11808, 'lastTradeTime': 1713383999977, 'latestPrice': 290.86, 'latestSource': 'Close', 'latestTime': 'April 17, 2024', 'latestUpdate': 1713384002033, 'latestVolume': None, 'low': None, 'lowSource': '15 minute delayed price', 'lowTime': 1713361779186, 'marketCap': 8723814881, 'oddLotDelayedPrice': None, 'oddLotDelayedPriceTime': None, 'open': None, 'openTime': None, 'openSource': 'official', 'peRatio': -13.33, 'previousClose': 292.75, 'previousVolume': 199571, 'primaryExchange': 'NEW YORK STOCK EXCHANGE INC.', 'symbol': 'BIO', 'volume': None, 'week52High': 489.36, 'week52Low': 261.59, 'ytdChange': -0.09980448264114714, 'isUSMarketOpen': False}\n",
      "{'avgTotalVolume': 3578901, 'calculationPrice': 'close', 'change': 0.46, 'changePercent': 0.00852, 'close': None, 'closeSource': 'official', 'closeTime': None, 'companyName': 'Bank Of New York Mellon Corp', 'currency': 'USD', 'delayedPrice': None, 'delayedPriceTime': None, 'extendedChange': None, 'extendedChangePercent': None, 'extendedPrice': None, 'extendedPriceTime': None, 'high': None, 'highSource': '15 minute delayed price', 'highTime': 1713383999986, 'iexAskPrice': 0, 'iexAskSize': 0, 'iexBidPrice': 0, 'iexBidSize': 0, 'iexClose': 54.45, 'iexCloseTime': 1713383997803, 'iexLastUpdated': 1713383997803, 'iexMarketPercent': 0.025802060877249688, 'iexOpen': 54.18, 'iexOpenTime': 1713360607784, 'iexRealtimePrice': 54.45, 'iexRealtimeSize': 132, 'iexVolume': 116468, 'lastTradeTime': 1713383999986, 'latestPrice': 54.46, 'latestSource': 'Close', 'latestTime': 'April 17, 2024', 'latestUpdate': 1713384002054, 'latestVolume': None, 'low': None, 'lowSource': '15 minute delayed price', 'lowTime': 1713370121240, 'marketCap': 41001373067, 'oddLotDelayedPrice': None, 'oddLotDelayedPriceTime': None, 'open': None, 'openTime': None, 'openSource': 'official', 'peRatio': 14.07, 'previousClose': 54, 'previousVolume': 8232834, 'primaryExchange': 'NEW YORK STOCK EXCHANGE INC.', 'symbol': 'BK', 'volume': None, 'week52High': 58.28, 'week52Low': 38.59, 'ytdChange': 0.05402057212114633, 'isUSMarketOpen': False}\n",
      "{'avgTotalVolume': 239923, 'calculationPrice': 'close', 'change': -23.86, 'changePercent': -0.00688, 'close': None, 'closeSource': 'official', 'closeTime': None, 'companyName': 'Booking Holdings Inc', 'currency': 'USD', 'delayedPrice': None, 'delayedPriceTime': None, 'extendedChange': None, 'extendedChangePercent': None, 'extendedPrice': None, 'extendedPriceTime': None, 'high': None, 'highSource': 'IEX real time price', 'highTime': 1713360686990, 'iexAskPrice': 0, 'iexAskSize': 0, 'iexBidPrice': 0, 'iexBidSize': 0, 'iexClose': 3442.9, 'iexCloseTime': 1713383994394, 'iexLastUpdated': 1713383994394, 'iexMarketPercent': 0.03493401223187897, 'iexOpen': 3475.39, 'iexOpenTime': 1713360600640, 'iexRealtimePrice': 3442.9, 'iexRealtimeSize': 1, 'iexVolume': 5969, 'lastTradeTime': 1713383999028, 'latestPrice': 3443.91, 'latestSource': 'Close', 'latestTime': 'April 17, 2024', 'latestUpdate': 1713384000268, 'latestVolume': None, 'low': None, 'lowSource': None, 'lowTime': None, 'marketCap': 117681941596, 'oddLotDelayedPrice': None, 'oddLotDelayedPriceTime': None, 'open': None, 'openTime': None, 'openSource': 'official', 'peRatio': 29.33, 'previousClose': 3467.77, 'previousVolume': 223317, 'primaryExchange': 'NASDAQ', 'symbol': 'BKNG', 'volume': None, 'week52High': 3897.99, 'week52Low': 2444.38, 'ytdChange': -0.02426026177048535, 'isUSMarketOpen': False}\n",
      "{'avgTotalVolume': 6552582, 'calculationPrice': 'close', 'change': -0.08, 'changePercent': -0.00249, 'close': None, 'closeSource': 'official', 'closeTime': None, 'companyName': 'Baker Hughes Co - Class A', 'currency': 'USD', 'delayedPrice': None, 'delayedPriceTime': None, 'extendedChange': None, 'extendedChangePercent': None, 'extendedPrice': None, 'extendedPriceTime': None, 'high': None, 'highSource': None, 'highTime': None, 'iexAskPrice': 0, 'iexAskSize': 0, 'iexBidPrice': 0, 'iexBidSize': 0, 'iexClose': 32.03, 'iexCloseTime': 1713383999491, 'iexLastUpdated': 1713383999491, 'iexMarketPercent': 307519, 'iexOpen': 32.26, 'iexOpenTime': 1713360609084, 'iexRealtimePrice': 32.03, 'iexRealtimeSize': 200, 'iexVolume': 307519, 'lastTradeTime': 1713383999496, 'latestPrice': 32.02, 'latestSource': 'Close', 'latestTime': 'April 17, 2024', 'latestUpdate': 1713384000400, 'latestVolume': None, 'low': None, 'lowSource': None, 'lowTime': None, 'marketCap': 32048222620, 'oddLotDelayedPrice': None, 'oddLotDelayedPriceTime': None, 'open': None, 'openTime': None, 'openSource': 'official', 'peRatio': 16.76, 'previousClose': 32.1, 'previousVolume': 5852603, 'primaryExchange': 'NASDAQ', 'symbol': 'BKR', 'volume': None, 'week52High': 36.83, 'week52Low': 25.63, 'ytdChange': -0.049619961380563134, 'isUSMarketOpen': False}\n",
      "{'avgTotalVolume': 680568, 'calculationPrice': 'close', 'change': 4.12, 'changePercent': 0.0055, 'close': None, 'closeSource': 'official', 'closeTime': None, 'companyName': 'Blackrock Inc.', 'currency': 'USD', 'delayedPrice': None, 'delayedPriceTime': None, 'extendedChange': None, 'extendedChangePercent': None, 'extendedPrice': None, 'extendedPriceTime': None, 'high': None, 'highSource': '15 minute delayed price', 'highTime': 1713383999999, 'iexAskPrice': 0, 'iexAskSize': 0, 'iexBidPrice': 0, 'iexBidSize': 0, 'iexClose': 753.71, 'iexCloseTime': 1713383994029, 'iexLastUpdated': 1713383994029, 'iexMarketPercent': 225.1851851851852, 'iexOpen': 753.18, 'iexOpenTime': 1713360601917, 'iexRealtimePrice': 753.71, 'iexRealtimeSize': 58, 'iexVolume': 24320, 'lastTradeTime': 1713383999999, 'latestPrice': 753.79, 'latestSource': 'Close', 'latestTime': 'April 17, 2024', 'latestUpdate': 1713384002043, 'latestVolume': None, 'low': None, 'lowSource': '15 minute delayed price', 'lowTime': 1713367860110, 'marketCap': 112125132569, 'oddLotDelayedPrice': None, 'oddLotDelayedPriceTime': None, 'open': None, 'openTime': None, 'openSource': 'official', 'peRatio': 20.65, 'previousClose': 749.67, 'previousVolume': 663071, 'primaryExchange': 'NEW YORK STOCK EXCHANGE INC.', 'symbol': 'BLK', 'volume': None, 'week52High': 845, 'week52Low': 588.58, 'ytdChange': -0.0653030085521275, 'isUSMarketOpen': False}\n",
      "{'avgTotalVolume': 2101923, 'calculationPrice': 'close', 'change': -2.42, 'changePercent': -0.03365, 'close': None, 'closeSource': 'official', 'closeTime': None, 'companyName': 'Ball Corp.', 'currency': 'USD', 'delayedPrice': None, 'delayedPriceTime': None, 'extendedChange': None, 'extendedChangePercent': None, 'extendedPrice': None, 'extendedPriceTime': None, 'high': None, 'highSource': '15 minute delayed price', 'highTime': 1652126399307, 'iexAskPrice': None, 'iexAskSize': None, 'iexBidPrice': None, 'iexBidSize': None, 'iexClose': 69.49, 'iexCloseTime': 1652126397219, 'iexLastUpdated': None, 'iexMarketPercent': None, 'iexOpen': 70.9, 'iexOpenTime': 1652103001768, 'iexRealtimePrice': None, 'iexRealtimeSize': None, 'iexVolume': None, 'lastTradeTime': 1652126399307, 'latestPrice': 69.49, 'latestSource': 'Close', 'latestTime': 'May 9, 2022', 'latestUpdate': 1652126401932, 'latestVolume': None, 'low': None, 'lowSource': '15 minute delayed price', 'lowTime': 1652125885914, 'marketCap': 22222129619, 'oddLotDelayedPrice': None, 'oddLotDelayedPriceTime': None, 'open': None, 'openTime': None, 'openSource': 'official', 'peRatio': 20.38, 'previousClose': 71.91, 'previousVolume': 4294949, 'primaryExchange': 'NEW YORK STOCK EXCHANGE INC.', 'symbol': 'BLL', 'volume': None, 'week52High': 97.77, 'week52Low': 69.1, 'ytdChange': -0.31023365093625643, 'isUSMarketOpen': False}\n",
      "{'avgTotalVolume': 11494358, 'calculationPrice': 'close', 'change': -0.42, 'changePercent': -0.0087, 'close': None, 'closeSource': 'official', 'closeTime': None, 'companyName': 'Bristol-Myers Squibb Co.', 'currency': 'USD', 'delayedPrice': None, 'delayedPriceTime': None, 'extendedChange': None, 'extendedChangePercent': None, 'extendedPrice': None, 'extendedPriceTime': None, 'high': None, 'highSource': '15 minute delayed price', 'highTime': 1713383999978, 'iexAskPrice': 0, 'iexAskSize': 0, 'iexBidPrice': 0, 'iexBidSize': 0, 'iexClose': 47.84, 'iexCloseTime': 1713383996800, 'iexLastUpdated': 1713383996800, 'iexMarketPercent': 171.54090150250417, 'iexOpen': 48.44, 'iexOpenTime': 1713360605948, 'iexRealtimePrice': 47.84, 'iexRealtimeSize': 26, 'iexVolume': 308259, 'lastTradeTime': 1713383999208, 'latestPrice': 47.84, 'latestSource': 'Close', 'latestTime': 'April 17, 2024', 'latestUpdate': 1713384001949, 'latestVolume': None, 'low': None, 'lowSource': '15 minute delayed price', 'lowTime': 1713368550788, 'marketCap': 96960136926, 'oddLotDelayedPrice': None, 'oddLotDelayedPriceTime': None, 'open': None, 'openTime': None, 'openSource': 'official', 'peRatio': 12.39, 'previousClose': 48.26, 'previousVolume': 11931277, 'primaryExchange': 'NEW YORK STOCK EXCHANGE INC.', 'symbol': 'BMY', 'volume': None, 'week52High': 68.01, 'week52Low': 47.03, 'ytdChange': -0.0461585395138628, 'isUSMarketOpen': False}\n",
      "{'avgTotalVolume': 389521, 'calculationPrice': 'close', 'change': -0.16, 'changePercent': -0.00083, 'close': None, 'closeSource': 'official', 'closeTime': None, 'companyName': 'Broadridge Financial Solutions, Inc.', 'currency': 'USD', 'delayedPrice': None, 'delayedPriceTime': None, 'extendedChange': None, 'extendedChangePercent': None, 'extendedPrice': None, 'extendedPriceTime': None, 'high': None, 'highSource': '15 minute delayed price', 'highTime': 1713383999999, 'iexAskPrice': 0, 'iexAskSize': 0, 'iexBidPrice': 0, 'iexBidSize': 0, 'iexClose': 193.425, 'iexCloseTime': 1713383997543, 'iexLastUpdated': 1713383997543, 'iexMarketPercent': 0.03619002851234863, 'iexOpen': 193.85, 'iexOpenTime': 1713361444036, 'iexRealtimePrice': 193.425, 'iexRealtimeSize': 5, 'iexVolume': 15244, 'lastTradeTime': 1713383999999, 'latestPrice': 193.45, 'latestSource': 'Close', 'latestTime': 'April 17, 2024', 'latestUpdate': 1713384002304, 'latestVolume': None, 'low': None, 'lowSource': '15 minute delayed price', 'lowTime': 1713368056776, 'marketCap': 22783035766, 'oddLotDelayedPrice': None, 'oddLotDelayedPriceTime': None, 'open': None, 'openTime': None, 'openSource': 'official', 'peRatio': 33.7, 'previousClose': 193.61, 'previousVolume': 500508, 'primaryExchange': 'NEW YORK STOCK EXCHANGE INC.', 'symbol': 'BR', 'volume': None, 'week52High': 209.41, 'week52Low': 137.17, 'ytdChange': -0.05611032474037403, 'isUSMarketOpen': False}\n",
      "{'avgTotalVolume': 283187, 'calculationPrice': 'close', 'change': -0.54, 'changePercent': -0.01592, 'close': None, 'closeSource': 'official', 'closeTime': None, 'companyName': 'Barnes Group Inc.', 'currency': 'USD', 'delayedPrice': None, 'delayedPriceTime': None, 'extendedChange': None, 'extendedChangePercent': None, 'extendedPrice': None, 'extendedPriceTime': None, 'high': None, 'highSource': '15 minute delayed price', 'highTime': 1713383999979, 'iexAskPrice': 0, 'iexAskSize': 0, 'iexBidPrice': 0, 'iexBidSize': 0, 'iexClose': 33.4, 'iexCloseTime': 1713383996505, 'iexLastUpdated': 1713383996505, 'iexMarketPercent': 0.017867093589959047, 'iexOpen': 34.205, 'iexOpenTime': 1713360733227, 'iexRealtimePrice': 33.4, 'iexRealtimeSize': 1, 'iexVolume': 4040, 'lastTradeTime': 1713383999979, 'latestPrice': 33.39, 'latestSource': 'Close', 'latestTime': 'April 17, 2024', 'latestUpdate': 1713384002059, 'latestVolume': None, 'low': None, 'lowSource': '15 minute delayed price', 'lowTime': 1713381205579, 'marketCap': 1692756669, 'oddLotDelayedPrice': None, 'oddLotDelayedPriceTime': None, 'open': None, 'openTime': None, 'openSource': 'official', 'peRatio': 106.88, 'previousClose': 33.93, 'previousVolume': 219376, 'primaryExchange': 'NEW YORK STOCK EXCHANGE INC.', 'symbol': 'B', 'volume': None, 'week52High': 43.02, 'week52Low': 18.59, 'ytdChange': 0.028584576056741296, 'isUSMarketOpen': False}\n",
      "{'avgTotalVolume': 5214976, 'calculationPrice': 'close', 'change': -0.16, 'changePercent': -0.00235, 'close': None, 'closeSource': 'official', 'closeTime': None, 'companyName': 'Boston Scientific Corp.', 'currency': 'USD', 'delayedPrice': None, 'delayedPriceTime': None, 'extendedChange': None, 'extendedChangePercent': None, 'extendedPrice': None, 'extendedPriceTime': None, 'high': None, 'highSource': '15 minute delayed price', 'highTime': 1713383999976, 'iexAskPrice': 0, 'iexAskSize': 0, 'iexBidPrice': 0, 'iexBidSize': 0, 'iexClose': 67.95, 'iexCloseTime': 1713383999906, 'iexLastUpdated': 1713383999906, 'iexMarketPercent': 0.039692852139767296, 'iexOpen': 67.86, 'iexOpenTime': 1713360636518, 'iexRealtimePrice': 67.95, 'iexRealtimeSize': 100, 'iexVolume': 245207, 'lastTradeTime': 1713383999907, 'latestPrice': 67.96, 'latestSource': 'Close', 'latestTime': 'April 17, 2024', 'latestUpdate': 1713384002049, 'latestVolume': None, 'low': None, 'lowSource': '15 minute delayed price', 'lowTime': 1713361136659, 'marketCap': 99703818811, 'oddLotDelayedPrice': None, 'oddLotDelayedPriceTime': None, 'open': None, 'openTime': None, 'openSource': 'official', 'peRatio': 63.51, 'previousClose': 68.12, 'previousVolume': 6619233, 'primaryExchange': 'NEW YORK STOCK EXCHANGE INC.', 'symbol': 'BSX', 'volume': None, 'week52High': 69.21, 'week52Low': 48.35, 'ytdChange': 0.17599284725825978, 'isUSMarketOpen': False}\n",
      "{'avgTotalVolume': 2754978, 'calculationPrice': 'close', 'change': -0.58, 'changePercent': -0.01788, 'close': None, 'closeSource': 'official', 'closeTime': None, 'companyName': 'BorgWarner Inc', 'currency': 'USD', 'delayedPrice': None, 'delayedPriceTime': None, 'extendedChange': None, 'extendedChangePercent': None, 'extendedPrice': None, 'extendedPriceTime': None, 'high': None, 'highSource': '15 minute delayed price', 'highTime': 1713383999978, 'iexAskPrice': 0, 'iexAskSize': 0, 'iexBidPrice': 0, 'iexBidSize': 0, 'iexClose': 31.86, 'iexCloseTime': 1713383994912, 'iexLastUpdated': 1713383994912, 'iexMarketPercent': 0.06125383811262836, 'iexOpen': 32.74, 'iexOpenTime': 1713360601018, 'iexRealtimePrice': 31.86, 'iexRealtimeSize': 1, 'iexVolume': 153170, 'lastTradeTime': 1713383996829, 'latestPrice': 31.86, 'latestSource': 'Close', 'latestTime': 'April 17, 2024', 'latestUpdate': 1713384002056, 'latestVolume': None, 'low': None, 'lowSource': '15 minute delayed price', 'lowTime': 1713383989796, 'marketCap': 7320792489, 'oddLotDelayedPrice': None, 'oddLotDelayedPriceTime': None, 'open': None, 'openTime': None, 'openSource': 'official', 'peRatio': 13.56, 'previousClose': 32.44, 'previousVolume': 2847234, 'primaryExchange': 'NEW YORK STOCK EXCHANGE INC.', 'symbol': 'BWA', 'volume': None, 'week52High': 49.57, 'week52Low': 29.4, 'ytdChange': -0.10975361254580529, 'isUSMarketOpen': False}\n",
      "{'avgTotalVolume': 1266754, 'calculationPrice': 'close', 'change': -0.03, 'changePercent': -0.00052, 'close': None, 'closeSource': 'official', 'closeTime': None, 'companyName': 'Boston Properties, Inc.', 'currency': 'USD', 'delayedPrice': None, 'delayedPriceTime': None, 'extendedChange': None, 'extendedChangePercent': None, 'extendedPrice': None, 'extendedPriceTime': None, 'high': None, 'highSource': '15 minute delayed price', 'highTime': 1713383999988, 'iexAskPrice': 0, 'iexAskSize': 0, 'iexBidPrice': 0, 'iexBidSize': 0, 'iexClose': 57.96, 'iexCloseTime': 1713383999370, 'iexLastUpdated': 1713383999370, 'iexMarketPercent': 246.81, 'iexOpen': 58.02, 'iexOpenTime': 1713360672772, 'iexRealtimePrice': 57.96, 'iexRealtimeSize': 100, 'iexVolume': 49362, 'lastTradeTime': 1713383999978, 'latestPrice': 57.95, 'latestSource': 'Close', 'latestTime': 'April 17, 2024', 'latestUpdate': 1713384002037, 'latestVolume': None, 'low': None, 'lowSource': '15 minute delayed price', 'lowTime': 1713360602860, 'marketCap': 9100999517, 'oddLotDelayedPrice': None, 'oddLotDelayedPriceTime': None, 'open': None, 'openTime': None, 'openSource': 'official', 'peRatio': 47.89, 'previousClose': 57.98, 'previousVolume': 1474362, 'primaryExchange': 'NEW YORK STOCK EXCHANGE INC.', 'symbol': 'BXP', 'volume': None, 'week52High': 71.79, 'week52Low': 43.89, 'ytdChange': -0.16076564046115518, 'isUSMarketOpen': False}\n",
      "{'avgTotalVolume': 17064095, 'calculationPrice': 'close', 'change': 1.15, 'changePercent': 0.02017, 'close': None, 'closeSource': 'official', 'closeTime': None, 'companyName': 'Citigroup Inc', 'currency': 'USD', 'delayedPrice': None, 'delayedPriceTime': None, 'extendedChange': None, 'extendedChangePercent': None, 'extendedPrice': None, 'extendedPriceTime': None, 'high': None, 'highSource': '15 minute delayed price', 'highTime': 1713383999988, 'iexAskPrice': 0, 'iexAskSize': 0, 'iexBidPrice': 0, 'iexBidSize': 0, 'iexClose': 58.18, 'iexCloseTime': 1713383999303, 'iexLastUpdated': 1713383999303, 'iexMarketPercent': 1286.2908277404922, 'iexOpen': 57.51, 'iexOpenTime': 1713360605870, 'iexRealtimePrice': 58.18, 'iexRealtimeSize': 200, 'iexVolume': 574972, 'lastTradeTime': 1713383999978, 'latestPrice': 58.17, 'latestSource': 'Close', 'latestTime': 'April 17, 2024', 'latestUpdate': 1713384002137, 'latestVolume': None, 'low': None, 'lowSource': '15 minute delayed price', 'lowTime': 1713360604992, 'marketCap': 111411698225, 'oddLotDelayedPrice': None, 'oddLotDelayedPriceTime': None, 'open': None, 'openTime': None, 'openSource': 'official', 'peRatio': 14.51, 'previousClose': 57.02, 'previousVolume': 23211424, 'primaryExchange': 'NEW YORK STOCK EXCHANGE INC.', 'symbol': 'C', 'volume': None, 'week52High': 63.9, 'week52Low': 37.32, 'ytdChange': 0.13922514221734647, 'isUSMarketOpen': False}\n",
      "{'avgTotalVolume': 5747212, 'calculationPrice': 'close', 'change': 0.23, 'changePercent': 0.00766, 'close': None, 'closeSource': 'official', 'closeTime': None, 'companyName': 'Conagra Brands Inc', 'currency': 'USD', 'delayedPrice': None, 'delayedPriceTime': None, 'extendedChange': None, 'extendedChangePercent': None, 'extendedPrice': None, 'extendedPriceTime': None, 'high': None, 'highSource': '15 minute delayed price', 'highTime': 1713383999989, 'iexAskPrice': 0, 'iexAskSize': 0, 'iexBidPrice': 0, 'iexBidSize': 0, 'iexClose': 30.25, 'iexCloseTime': 1713383995345, 'iexLastUpdated': 1713383995345, 'iexMarketPercent': 0.03498153846034295, 'iexOpen': 30.3, 'iexOpenTime': 1713360678754, 'iexRealtimePrice': 30.25, 'iexRealtimeSize': 100, 'iexVolume': 180066, 'lastTradeTime': 1713383998221, 'latestPrice': 30.24, 'latestSource': 'Close', 'latestTime': 'April 17, 2024', 'latestUpdate': 1713384002048, 'latestVolume': None, 'low': None, 'lowSource': '15 minute delayed price', 'lowTime': 1713362507201, 'marketCap': 14456617530, 'oddLotDelayedPrice': None, 'oddLotDelayedPriceTime': None, 'open': None, 'openTime': None, 'openSource': 'official', 'peRatio': 15.27, 'previousClose': 30.01, 'previousVolume': 5528358, 'primaryExchange': 'NEW YORK STOCK EXCHANGE INC.', 'symbol': 'CAG', 'volume': None, 'week52High': 37.38, 'week52Low': 24.54, 'ytdChange': 0.06728650019596571, 'isUSMarketOpen': False}\n",
      "{'avgTotalVolume': 1653499, 'calculationPrice': 'close', 'change': -0.65, 'changePercent': -0.00607, 'close': None, 'closeSource': 'official', 'closeTime': None, 'companyName': 'Cardinal Health, Inc.', 'currency': 'USD', 'delayedPrice': None, 'delayedPriceTime': None, 'extendedChange': None, 'extendedChangePercent': None, 'extendedPrice': None, 'extendedPriceTime': None, 'high': None, 'highSource': 'IEX real time price', 'highTime': 1713360601262, 'iexAskPrice': 0, 'iexAskSize': 0, 'iexBidPrice': 0, 'iexBidSize': 0, 'iexClose': 106.5, 'iexCloseTime': 1713383995651, 'iexLastUpdated': 1713383995651, 'iexMarketPercent': 0.05992870177034407, 'iexOpen': 107.74, 'iexOpenTime': 1713360601262, 'iexRealtimePrice': 106.5, 'iexRealtimeSize': 27, 'iexVolume': 96981, 'lastTradeTime': 1713383999998, 'latestPrice': 106.52, 'latestSource': 'Close', 'latestTime': 'April 17, 2024', 'latestUpdate': 1713384002071, 'latestVolume': None, 'low': None, 'lowSource': '15 minute delayed price', 'lowTime': 1713370155610, 'marketCap': 25909195458, 'oddLotDelayedPrice': None, 'oddLotDelayedPriceTime': None, 'open': None, 'openTime': None, 'openSource': 'official', 'peRatio': 42.1, 'previousClose': 107.17, 'previousVolume': 1515804, 'primaryExchange': 'NEW YORK STOCK EXCHANGE INC.', 'symbol': 'CAH', 'volume': None, 'week52High': 115.52, 'week52Low': 75.98, 'ytdChange': 0.06187510501078199, 'isUSMarketOpen': False}\n",
      "{'avgTotalVolume': 4026539, 'calculationPrice': 'close', 'change': -0.51, 'changePercent': -0.00931, 'close': None, 'closeSource': 'official', 'closeTime': None, 'companyName': 'Carrier Global Corp', 'currency': 'USD', 'delayedPrice': None, 'delayedPriceTime': None, 'extendedChange': None, 'extendedChangePercent': None, 'extendedPrice': None, 'extendedPriceTime': None, 'high': None, 'highSource': '15 minute delayed price', 'highTime': 1713383999918, 'iexAskPrice': 0, 'iexAskSize': 0, 'iexBidPrice': 0, 'iexBidSize': 0, 'iexClose': 54.24, 'iexCloseTime': 1713383994007, 'iexLastUpdated': 1713383994007, 'iexMarketPercent': 0.04368127781008669, 'iexOpen': 54.98, 'iexOpenTime': 1713360601828, 'iexRealtimePrice': 54.24, 'iexRealtimeSize': 24, 'iexVolume': 116271, 'lastTradeTime': 1713383999918, 'latestPrice': 54.25, 'latestSource': 'Close', 'latestTime': 'April 17, 2024', 'latestUpdate': 1713384002134, 'latestVolume': None, 'low': None, 'lowSource': '15 minute delayed price', 'lowTime': 1713370182171, 'marketCap': 48830583247, 'oddLotDelayedPrice': None, 'oddLotDelayedPriceTime': None, 'open': None, 'openTime': None, 'openSource': 'official', 'peRatio': 34.34, 'previousClose': 54.76, 'previousVolume': 3170064, 'primaryExchange': 'NEW YORK STOCK EXCHANGE INC.', 'symbol': 'CARR', 'volume': None, 'week52High': 60.87, 'week52Low': 39.72, 'ytdChange': -0.05613332463011318, 'isUSMarketOpen': False}\n",
      "{'avgTotalVolume': 2244789, 'calculationPrice': 'close', 'change': -1.56, 'changePercent': -0.00433, 'close': None, 'closeSource': 'official', 'closeTime': None, 'companyName': 'Caterpillar Inc.', 'currency': 'USD', 'delayedPrice': None, 'delayedPriceTime': None, 'extendedChange': None, 'extendedChangePercent': None, 'extendedPrice': None, 'extendedPriceTime': None, 'high': None, 'highSource': '15 minute delayed price', 'highTime': 1713383999999, 'iexAskPrice': 0, 'iexAskSize': 0, 'iexBidPrice': 0, 'iexBidSize': 0, 'iexClose': 358.43, 'iexCloseTime': 1713383995550, 'iexLastUpdated': 1713383995550, 'iexMarketPercent': 0.03322923221608315, 'iexOpen': 362.74, 'iexOpenTime': 1713360601785, 'iexRealtimePrice': 358.43, 'iexRealtimeSize': 13, 'iexVolume': 76885, 'lastTradeTime': 1713383999999, 'latestPrice': 358.32, 'latestSource': 'Close', 'latestTime': 'April 17, 2024', 'latestUpdate': 1713384002064, 'latestVolume': None, 'low': None, 'lowSource': '15 minute delayed price', 'lowTime': 1713372406597, 'marketCap': 178945008000, 'oddLotDelayedPrice': None, 'oddLotDelayedPriceTime': None, 'open': None, 'openTime': None, 'openSource': 'official', 'peRatio': 17.81, 'previousClose': 359.88, 'previousVolume': 2514069, 'primaryExchange': 'NEW YORK STOCK EXCHANGE INC.', 'symbol': 'CAT', 'volume': None, 'week52High': 382.01, 'week52Low': 201.06, 'ytdChange': 0.21847683573077709, 'isUSMarketOpen': False}\n",
      "{'avgTotalVolume': 1520530, 'calculationPrice': 'close', 'change': -1.68, 'changePercent': -0.00685, 'close': None, 'closeSource': 'official', 'closeTime': None, 'companyName': 'Chubb Limited', 'currency': 'USD', 'delayedPrice': None, 'delayedPriceTime': None, 'extendedChange': None, 'extendedChangePercent': None, 'extendedPrice': None, 'extendedPriceTime': None, 'high': None, 'highSource': '15 minute delayed price', 'highTime': 1713383999999, 'iexAskPrice': 0, 'iexAskSize': 0, 'iexBidPrice': 0, 'iexBidSize': 0, 'iexClose': 243.55, 'iexCloseTime': 1713383995778, 'iexLastUpdated': 1713383995778, 'iexMarketPercent': 0.05010819301255084, 'iexOpen': 243.61, 'iexOpenTime': 1713360603450, 'iexRealtimePrice': 243.55, 'iexRealtimeSize': 12, 'iexVolume': 90057, 'lastTradeTime': 1713383999853, 'latestPrice': 243.53, 'latestSource': 'Close', 'latestTime': 'April 17, 2024', 'latestUpdate': 1713384002444, 'latestVolume': None, 'low': None, 'lowSource': '15 minute delayed price', 'lowTime': 1713365566732, 'marketCap': 98869677552, 'oddLotDelayedPrice': None, 'oddLotDelayedPriceTime': None, 'open': None, 'openTime': None, 'openSource': 'official', 'peRatio': 11.17, 'previousClose': 245.21, 'previousVolume': 1257334, 'primaryExchange': 'NEW YORK STOCK EXCHANGE INC.', 'symbol': 'CB', 'volume': None, 'week52High': 260.09, 'week52Low': 181.66, 'ytdChange': 0.08174767079787151, 'isUSMarketOpen': False}\n",
      "{'avgTotalVolume': 788470, 'calculationPrice': 'close', 'change': 0.25, 'changePercent': 0.00141, 'close': None, 'closeSource': 'official', 'closeTime': None, 'companyName': 'Cboe Global Markets Inc.', 'currency': 'USD', 'delayedPrice': None, 'delayedPriceTime': None, 'extendedChange': None, 'extendedChangePercent': None, 'extendedPrice': None, 'extendedPriceTime': None, 'high': None, 'highSource': '15 minute delayed price', 'highTime': 1713384000015, 'iexAskPrice': 0, 'iexAskSize': 0, 'iexBidPrice': 0, 'iexBidSize': 0, 'iexClose': 176.855, 'iexCloseTime': 1713383998869, 'iexLastUpdated': 1713383998869, 'iexMarketPercent': 0.060752662446853595, 'iexOpen': 177.025, 'iexOpenTime': 1713360861043, 'iexRealtimePrice': 176.855, 'iexRealtimeSize': 41, 'iexVolume': 35551, 'lastTradeTime': 1713383999998, 'latestPrice': 176.96, 'latestSource': 'Close', 'latestTime': 'April 17, 2024', 'latestUpdate': 1713384000414, 'latestVolume': None, 'low': None, 'lowSource': '15 minute delayed price', 'lowTime': 1713370533530, 'marketCap': 18671282302, 'oddLotDelayedPrice': None, 'oddLotDelayedPriceTime': None, 'open': None, 'openTime': None, 'openSource': 'official', 'peRatio': 24.82, 'previousClose': 176.71, 'previousVolume': 661814, 'primaryExchange': 'CBOE BZX U.S. EQUITIES EXCHANGE', 'symbol': 'CBOE', 'volume': None, 'week52High': 197.88, 'week52Low': 128.44, 'ytdChange': -0.003354693955709776, 'isUSMarketOpen': False}\n",
      "{'avgTotalVolume': 1449751, 'calculationPrice': 'close', 'change': -0.36, 'changePercent': -0.00421, 'close': None, 'closeSource': 'official', 'closeTime': None, 'companyName': 'CBRE Group Inc - Class A', 'currency': 'USD', 'delayedPrice': None, 'delayedPriceTime': None, 'extendedChange': None, 'extendedChangePercent': None, 'extendedPrice': None, 'extendedPriceTime': None, 'high': None, 'highSource': '15 minute delayed price', 'highTime': 1713383999615, 'iexAskPrice': 0, 'iexAskSize': 0, 'iexBidPrice': 0, 'iexBidSize': 0, 'iexClose': 85.13, 'iexCloseTime': 1713383998158, 'iexLastUpdated': 1713383998158, 'iexMarketPercent': 38.62089552238806, 'iexOpen': 85.655, 'iexOpenTime': 1713360601218, 'iexRealtimePrice': 85.13, 'iexRealtimeSize': 1, 'iexVolume': 77628, 'lastTradeTime': 1713383999456, 'latestPrice': 85.14, 'latestSource': 'Close', 'latestTime': 'April 17, 2024', 'latestUpdate': 1713384001988, 'latestVolume': None, 'low': None, 'lowSource': '15 minute delayed price', 'lowTime': 1713381186035, 'marketCap': 26133660592, 'oddLotDelayedPrice': None, 'oddLotDelayedPriceTime': None, 'open': None, 'openTime': None, 'openSource': 'official', 'peRatio': 27.03, 'previousClose': 85.5, 'previousVolume': 2645488, 'primaryExchange': 'NEW YORK STOCK EXCHANGE INC.', 'symbol': 'CBRE', 'volume': None, 'week52High': 98.65, 'week52Low': 64.63, 'ytdChange': -0.08574399935546247, 'isUSMarketOpen': False}\n",
      "{'avgTotalVolume': 2641016, 'calculationPrice': 'close', 'change': -0.91, 'changePercent': -0.00968, 'close': None, 'closeSource': 'official', 'closeTime': None, 'companyName': 'Crown Castle Inc', 'currency': 'USD', 'delayedPrice': None, 'delayedPriceTime': None, 'extendedChange': None, 'extendedChangePercent': None, 'extendedPrice': None, 'extendedPriceTime': None, 'high': None, 'highSource': '15 minute delayed price', 'highTime': 1713383999991, 'iexAskPrice': 0, 'iexAskSize': 0, 'iexBidPrice': 0, 'iexBidSize': 0, 'iexClose': 93.01, 'iexCloseTime': 1713383999601, 'iexLastUpdated': 1713383999601, 'iexMarketPercent': 41071.5, 'iexOpen': 94.14, 'iexOpenTime': 1713360678909, 'iexRealtimePrice': 93.01, 'iexRealtimeSize': 100, 'iexVolume': 82143, 'lastTradeTime': 1713383999991, 'latestPrice': 93.05, 'latestSource': 'Close', 'latestTime': 'April 17, 2024', 'latestUpdate': 1713384002077, 'latestVolume': None, 'low': None, 'lowSource': '15 minute delayed price', 'lowTime': 1713383836723, 'marketCap': 40432080789, 'oddLotDelayedPrice': None, 'oddLotDelayedPriceTime': None, 'open': None, 'openTime': None, 'openSource': 'official', 'peRatio': 26.89, 'previousClose': 93.96, 'previousVolume': 4055241, 'primaryExchange': 'NEW YORK STOCK EXCHANGE INC.', 'symbol': 'CCI', 'volume': None, 'week52High': 126.58, 'week52Low': 82.4, 'ytdChange': -0.18222133550560313, 'isUSMarketOpen': False}\n",
      "{'avgTotalVolume': 37074134, 'calculationPrice': 'close', 'change': 0.22, 'changePercent': 0.01583, 'close': None, 'closeSource': 'official', 'closeTime': None, 'companyName': 'Carnival Corp. (Paired Stock)', 'currency': 'USD', 'delayedPrice': None, 'delayedPriceTime': None, 'extendedChange': None, 'extendedChangePercent': None, 'extendedPrice': None, 'extendedPriceTime': None, 'high': None, 'highSource': '15 minute delayed price', 'highTime': 1713383999999, 'iexAskPrice': 0, 'iexAskSize': 0, 'iexBidPrice': 0, 'iexBidSize': 0, 'iexClose': 14.115, 'iexCloseTime': 1713383996473, 'iexLastUpdated': 1713383996473, 'iexMarketPercent': 42.81271015467384, 'iexOpen': 14.195, 'iexOpenTime': 1713360601035, 'iexRealtimePrice': 14.115, 'iexRealtimeSize': 150, 'iexVolume': 381975, 'lastTradeTime': 1713383999978, 'latestPrice': 14.12, 'latestSource': 'Close', 'latestTime': 'April 17, 2024', 'latestUpdate': 1713384002056, 'latestVolume': None, 'low': None, 'lowSource': '15 minute delayed price', 'lowTime': 1713363785153, 'marketCap': 15847164246, 'oddLotDelayedPrice': None, 'oddLotDelayedPriceTime': None, 'open': None, 'openTime': None, 'openSource': 'official', 'peRatio': 44.25, 'previousClose': 13.9, 'previousVolume': 27095105, 'primaryExchange': 'NEW YORK STOCK EXCHANGE INC.', 'symbol': 'CCL', 'volume': None, 'week52High': 19.74, 'week52Low': 8.7, 'ytdChange': -0.234439687162891, 'isUSMarketOpen': False}\n",
      "{'avgTotalVolume': 1287392, 'calculationPrice': 'close', 'change': -7.1, 'changePercent': -0.0236, 'close': None, 'closeSource': 'official', 'closeTime': None, 'companyName': 'Cadence Design Systems, Inc.', 'currency': 'USD', 'delayedPrice': None, 'delayedPriceTime': None, 'extendedChange': None, 'extendedChangePercent': None, 'extendedPrice': None, 'extendedPriceTime': None, 'high': None, 'highSource': None, 'highTime': None, 'iexAskPrice': 0, 'iexAskSize': 0, 'iexBidPrice': 0, 'iexBidSize': 0, 'iexClose': 293.76, 'iexCloseTime': 1713383997210, 'iexLastUpdated': 1713383997210, 'iexMarketPercent': 230.44651162790697, 'iexOpen': 301.17, 'iexOpenTime': 1713360610389, 'iexRealtimePrice': 293.76, 'iexRealtimeSize': 75, 'iexVolume': 49546, 'lastTradeTime': 1713383999987, 'latestPrice': 293.71, 'latestSource': 'Close', 'latestTime': 'April 17, 2024', 'latestUpdate': 1713384000190, 'latestVolume': None, 'low': None, 'lowSource': None, 'lowTime': None, 'marketCap': 79959316690, 'oddLotDelayedPrice': None, 'oddLotDelayedPriceTime': None, 'open': None, 'openTime': None, 'openSource': 'official', 'peRatio': 76.89, 'previousClose': 300.81, 'previousVolume': 1651399, 'primaryExchange': 'NASDAQ', 'symbol': 'CDNS', 'volume': None, 'week52High': 327.36, 'week52Low': 194.01, 'ytdChange': 0.08081678598964633, 'isUSMarketOpen': False}\n",
      "{'avgTotalVolume': 635833, 'calculationPrice': 'close', 'change': -3.23, 'changePercent': -0.01346, 'close': None, 'closeSource': 'official', 'closeTime': None, 'companyName': 'CDW Corp', 'currency': 'USD', 'delayedPrice': None, 'delayedPriceTime': None, 'extendedChange': None, 'extendedChangePercent': None, 'extendedPrice': None, 'extendedPriceTime': None, 'high': None, 'highSource': None, 'highTime': None, 'iexAskPrice': 0, 'iexAskSize': 0, 'iexBidPrice': 0, 'iexBidSize': 0, 'iexClose': 236.7, 'iexCloseTime': 1713383998019, 'iexLastUpdated': 1713383998019, 'iexMarketPercent': 41.644469525959366, 'iexOpen': 241.045, 'iexOpenTime': 1713360688478, 'iexRealtimePrice': 236.7, 'iexRealtimeSize': 50, 'iexVolume': 36897, 'lastTradeTime': 1713383999940, 'latestPrice': 236.78, 'latestSource': 'Close', 'latestTime': 'April 17, 2024', 'latestUpdate': 1713384000007, 'latestVolume': None, 'low': None, 'lowSource': None, 'lowTime': None, 'marketCap': 31815704764, 'oddLotDelayedPrice': None, 'oddLotDelayedPriceTime': None, 'open': None, 'openTime': None, 'openSource': 'official', 'peRatio': 29.23, 'previousClose': 240.01, 'previousVolume': 651799, 'primaryExchange': 'NASDAQ', 'symbol': 'CDW', 'volume': None, 'week52High': 263.37, 'week52Low': 156.94, 'ytdChange': 0.047671915307516494, 'isUSMarketOpen': False}\n",
      "{'avgTotalVolume': 734270, 'calculationPrice': 'close', 'change': -0.44, 'changePercent': -0.00284, 'close': None, 'closeSource': 'official', 'closeTime': None, 'companyName': 'Celanese Corp - Series A', 'currency': 'USD', 'delayedPrice': None, 'delayedPriceTime': None, 'extendedChange': None, 'extendedChangePercent': None, 'extendedPrice': None, 'extendedPriceTime': None, 'high': None, 'highSource': '15 minute delayed price', 'highTime': 1713383999978, 'iexAskPrice': 0, 'iexAskSize': 0, 'iexBidPrice': 0, 'iexBidSize': 0, 'iexClose': 154.46, 'iexCloseTime': 1713383997866, 'iexLastUpdated': 1713383997866, 'iexMarketPercent': 0.06517614559142723, 'iexOpen': 156.23, 'iexOpenTime': 1713360672085, 'iexRealtimePrice': 154.46, 'iexRealtimeSize': 50, 'iexVolume': 25764, 'lastTradeTime': 1713383999720, 'latestPrice': 154.49, 'latestSource': 'Close', 'latestTime': 'April 17, 2024', 'latestUpdate': 1713384002086, 'latestVolume': None, 'low': None, 'lowSource': 'IEX real time price', 'lowTime': 1713373226099, 'marketCap': 17235429048, 'oddLotDelayedPrice': None, 'oddLotDelayedPriceTime': None, 'open': None, 'openTime': None, 'openSource': 'official', 'peRatio': 8.62, 'previousClose': 154.93, 'previousVolume': 816012, 'primaryExchange': 'NEW YORK STOCK EXCHANGE INC.', 'symbol': 'CE', 'volume': None, 'week52High': 172.16, 'week52Low': 97.32, 'ytdChange': -0.0010618486308234163, 'isUSMarketOpen': False}\n",
      "{'avgTotalVolume': 0, 'calculationPrice': 'close', 'change': -0.05, 'changePercent': -0.00053, 'close': None, 'closeSource': 'official', 'closeTime': None, 'companyName': 'Cerner Corp.', 'currency': 'USD', 'delayedPrice': None, 'delayedPriceTime': None, 'extendedChange': None, 'extendedChangePercent': None, 'extendedPrice': None, 'extendedPriceTime': None, 'high': None, 'highSource': 'Close', 'highTime': 1654632001181, 'iexAskPrice': None, 'iexAskSize': None, 'iexBidPrice': None, 'iexBidSize': None, 'iexClose': 94.95, 'iexCloseTime': 1654631999703, 'iexLastUpdated': None, 'iexMarketPercent': None, 'iexOpen': None, 'iexOpenTime': None, 'iexRealtimePrice': None, 'iexRealtimeSize': None, 'iexVolume': None, 'lastTradeTime': 1654632024259, 'latestPrice': 94.92, 'latestSource': 'Close', 'latestTime': 'June 7, 2022', 'latestUpdate': 1654632001181, 'latestVolume': None, 'low': None, 'lowSource': 'Close', 'lowTime': 1654632001181, 'marketCap': 27915791082, 'oddLotDelayedPrice': None, 'oddLotDelayedPriceTime': None, 'open': None, 'openTime': None, 'openSource': 'official', 'peRatio': 47.94, 'previousClose': 94.97, 'previousVolume': 6059358, 'primaryExchange': 'NASDAQ', 'symbol': 'CERN', 'volume': None, 'week52High': 94.92, 'week52Low': 0, 'ytdChange': -0.00053, 'isUSMarketOpen': False}\n",
      "{'avgTotalVolume': 2557860, 'calculationPrice': 'close', 'change': 0.05, 'changePercent': 0.00064, 'close': None, 'closeSource': 'official', 'closeTime': None, 'companyName': 'CF Industries Holdings Inc', 'currency': 'USD', 'delayedPrice': None, 'delayedPriceTime': None, 'extendedChange': None, 'extendedChangePercent': None, 'extendedPrice': None, 'extendedPriceTime': None, 'high': None, 'highSource': '15 minute delayed price', 'highTime': 1713383999855, 'iexAskPrice': 0, 'iexAskSize': 0, 'iexBidPrice': 0, 'iexBidSize': 0, 'iexClose': 77.85, 'iexCloseTime': 1713383997200, 'iexLastUpdated': 1713383997200, 'iexMarketPercent': 0.023445282017599187, 'iexOpen': 78.31, 'iexOpenTime': 1713360826152, 'iexRealtimePrice': 77.85, 'iexRealtimeSize': 100, 'iexVolume': 43120, 'lastTradeTime': 1713383999733, 'latestPrice': 77.8, 'latestSource': 'Close', 'latestTime': 'April 17, 2024', 'latestUpdate': 1713384002086, 'latestVolume': None, 'low': None, 'lowSource': '15 minute delayed price', 'lowTime': 1713374066123, 'marketCap': 14605112597, 'oddLotDelayedPrice': None, 'oddLotDelayedPriceTime': None, 'open': None, 'openTime': None, 'openSource': 'official', 'peRatio': 9.89, 'previousClose': 77.75, 'previousVolume': 2027586, 'primaryExchange': 'NEW YORK STOCK EXCHANGE INC.', 'symbol': 'CF', 'volume': None, 'week52High': 87.04, 'week52Low': 59.09, 'ytdChange': -0.01498217110069275, 'isUSMarketOpen': False}\n",
      "{'avgTotalVolume': 5231015, 'calculationPrice': 'close', 'change': 0.61, 'changePercent': 0.01882, 'close': None, 'closeSource': 'official', 'closeTime': None, 'companyName': 'Citizens Financial Group Inc', 'currency': 'USD', 'delayedPrice': None, 'delayedPriceTime': None, 'extendedChange': None, 'extendedChangePercent': None, 'extendedPrice': None, 'extendedPriceTime': None, 'high': None, 'highSource': '15 minute delayed price', 'highTime': 1713383999510, 'iexAskPrice': 0, 'iexAskSize': 0, 'iexBidPrice': 0, 'iexBidSize': 0, 'iexClose': 33, 'iexCloseTime': 1713383997781, 'iexLastUpdated': 1713383997781, 'iexMarketPercent': 0.03606437723654733, 'iexOpen': 33.285, 'iexOpenTime': 1713360603823, 'iexRealtimePrice': 33, 'iexRealtimeSize': 180, 'iexVolume': 240928, 'lastTradeTime': 1713383999510, 'latestPrice': 33.02, 'latestSource': 'Close', 'latestTime': 'April 17, 2024', 'latestUpdate': 1713384001927, 'latestVolume': None, 'low': None, 'lowSource': 'IEX real time price', 'lowTime': 1713368029823, 'marketCap': 15137325613, 'oddLotDelayedPrice': None, 'oddLotDelayedPriceTime': None, 'open': None, 'openTime': None, 'openSource': 'official', 'peRatio': 10.55, 'previousClose': 32.41, 'previousVolume': 6218305, 'primaryExchange': 'NEW YORK STOCK EXCHANGE INC.', 'symbol': 'CFG', 'volume': None, 'week52High': 36.38, 'week52Low': 22.09, 'ytdChange': 0.008931108735034495, 'isUSMarketOpen': False}\n",
      "{'avgTotalVolume': 1250623, 'calculationPrice': 'close', 'change': 0.24, 'changePercent': 0.00232, 'close': None, 'closeSource': 'official', 'closeTime': None, 'companyName': 'Church & Dwight Co., Inc.', 'currency': 'USD', 'delayedPrice': None, 'delayedPriceTime': None, 'extendedChange': None, 'extendedChangePercent': None, 'extendedPrice': None, 'extendedPriceTime': None, 'high': None, 'highSource': '15 minute delayed price', 'highTime': 1713383999979, 'iexAskPrice': 0, 'iexAskSize': 0, 'iexBidPrice': 0, 'iexBidSize': 0, 'iexClose': 103.46, 'iexCloseTime': 1713383996877, 'iexLastUpdated': 1713383996877, 'iexMarketPercent': 0.04930522179186339, 'iexOpen': 103.88, 'iexOpenTime': 1713360613874, 'iexRealtimePrice': 103.46, 'iexRealtimeSize': 49, 'iexVolume': 69759, 'lastTradeTime': 1713383999795, 'latestPrice': 103.49, 'latestSource': 'Close', 'latestTime': 'April 17, 2024', 'latestUpdate': 1713384002098, 'latestVolume': None, 'low': None, 'lowSource': '15 minute delayed price', 'lowTime': 1713370657411, 'marketCap': 25241704854, 'oddLotDelayedPrice': None, 'oddLotDelayedPriceTime': None, 'open': None, 'openTime': None, 'openSource': 'official', 'peRatio': 33.93, 'previousClose': 103.25, 'previousVolume': 1520467, 'primaryExchange': 'NEW YORK STOCK EXCHANGE INC.', 'symbol': 'CHD', 'volume': None, 'week52High': 105.67, 'week52Low': 81.77, 'ytdChange': 0.09739360061260496, 'isUSMarketOpen': False}\n",
      "{'avgTotalVolume': 1186586, 'calculationPrice': 'close', 'change': 0.92, 'changePercent': 0.01355, 'close': None, 'closeSource': 'official', 'closeTime': None, 'companyName': 'C.H. Robinson Worldwide, Inc.', 'currency': 'USD', 'delayedPrice': None, 'delayedPriceTime': None, 'extendedChange': None, 'extendedChangePercent': None, 'extendedPrice': None, 'extendedPriceTime': None, 'high': None, 'highSource': None, 'highTime': None, 'iexAskPrice': 0, 'iexAskSize': 0, 'iexBidPrice': 0, 'iexBidSize': 0, 'iexClose': 68.81, 'iexCloseTime': 1713383997601, 'iexLastUpdated': 1713383997601, 'iexMarketPercent': 0.04912313902999277, 'iexOpen': 66.16, 'iexOpenTime': 1713360603276, 'iexRealtimePrice': 68.81, 'iexRealtimeSize': 74, 'iexVolume': 101752, 'lastTradeTime': 1713383999906, 'latestPrice': 68.81, 'latestSource': 'Close', 'latestTime': 'April 17, 2024', 'latestUpdate': 1713384000006, 'latestVolume': None, 'low': None, 'lowSource': None, 'lowTime': None, 'marketCap': 8050338561, 'oddLotDelayedPrice': None, 'oddLotDelayedPriceTime': None, 'open': None, 'openTime': None, 'openSource': 'official', 'peRatio': 25.3, 'previousClose': 67.89, 'previousVolume': 1642985, 'primaryExchange': 'NASDAQ', 'symbol': 'CHRW', 'volume': None, 'week52High': 100.22, 'week52Low': 67.35, 'ytdChange': -0.18754956189330813, 'isUSMarketOpen': False}\n",
      "{'avgTotalVolume': 1311777, 'calculationPrice': 'close', 'change': 0.46, 'changePercent': 0.00179, 'close': None, 'closeSource': 'official', 'closeTime': None, 'companyName': 'Charter Communications Inc. - Class A', 'currency': 'USD', 'delayedPrice': None, 'delayedPriceTime': None, 'extendedChange': None, 'extendedChangePercent': None, 'extendedPrice': None, 'extendedPriceTime': None, 'high': None, 'highSource': None, 'highTime': None, 'iexAskPrice': 0, 'iexAskSize': 0, 'iexBidPrice': 0, 'iexBidSize': 0, 'iexClose': 258, 'iexCloseTime': 1713383997882, 'iexLastUpdated': 1713383997882, 'iexMarketPercent': 0.058454311140785385, 'iexOpen': 260.095, 'iexOpenTime': 1713360601207, 'iexRealtimePrice': 257.97, 'iexRealtimeSize': 86, 'iexVolume': 58308, 'lastTradeTime': 1713383999283, 'latestPrice': 258.03, 'latestSource': 'Close', 'latestTime': 'April 17, 2024', 'latestUpdate': 1713384000237, 'latestVolume': None, 'low': None, 'lowSource': 'IEX real time price', 'lowTime': 1713368007870, 'marketCap': 41614905004, 'oddLotDelayedPrice': None, 'oddLotDelayedPriceTime': None, 'open': None, 'openTime': None, 'openSource': 'official', 'peRatio': 8.6, 'previousClose': 257.57, 'previousVolume': 1095749, 'primaryExchange': 'NASDAQ', 'symbol': 'CHTR', 'volume': None, 'week52High': 458.3, 'week52Low': 254.31, 'ytdChange': -0.33553118966759293, 'isUSMarketOpen': False}\n",
      "{'avgTotalVolume': 1296821, 'calculationPrice': 'close', 'change': -0.77, 'changePercent': -0.00222, 'close': None, 'closeSource': 'official', 'closeTime': None, 'companyName': 'Cigna Group (The)', 'currency': 'USD', 'delayedPrice': None, 'delayedPriceTime': None, 'extendedChange': None, 'extendedChangePercent': None, 'extendedPrice': None, 'extendedPriceTime': None, 'high': None, 'highSource': '15 minute delayed price', 'highTime': 1713383999999, 'iexAskPrice': 0, 'iexAskSize': 0, 'iexBidPrice': 0, 'iexBidSize': 0, 'iexClose': 346.01, 'iexCloseTime': 1713383996318, 'iexLastUpdated': 1713383996318, 'iexMarketPercent': 0.06409776491667858, 'iexOpen': 346.9, 'iexOpenTime': 1713360601696, 'iexRealtimePrice': 346.01, 'iexRealtimeSize': 24, 'iexVolume': 91437, 'lastTradeTime': 1713383999795, 'latestPrice': 346.08, 'latestSource': 'Close', 'latestTime': 'April 17, 2024', 'latestUpdate': 1713384002095, 'latestVolume': None, 'low': None, 'lowSource': '15 minute delayed price', 'lowTime': 1713383554246, 'marketCap': 101178226014, 'oddLotDelayedPrice': None, 'oddLotDelayedPriceTime': None, 'open': None, 'openTime': None, 'openSource': 'official', 'peRatio': 19.9, 'previousClose': 346.85, 'previousVolume': 1799903, 'primaryExchange': 'NEW YORK STOCK EXCHANGE INC.', 'symbol': 'CI', 'volume': None, 'week52High': 365.71, 'week52Low': 236.21, 'ytdChange': 0.1609048673313317, 'isUSMarketOpen': False}\n",
      "{'avgTotalVolume': 603215, 'calculationPrice': 'close', 'change': -1.77, 'changePercent': -0.01512, 'close': None, 'closeSource': 'official', 'closeTime': None, 'companyName': 'Cincinnati Financial Corp.', 'currency': 'USD', 'delayedPrice': None, 'delayedPriceTime': None, 'extendedChange': None, 'extendedChangePercent': None, 'extendedPrice': None, 'extendedPriceTime': None, 'high': None, 'highSource': 'IEX real time price', 'highTime': 1713361420490, 'iexAskPrice': 0, 'iexAskSize': 0, 'iexBidPrice': 0, 'iexBidSize': 0, 'iexClose': 115.3, 'iexCloseTime': 1713383994485, 'iexLastUpdated': 1713383994485, 'iexMarketPercent': 0.052232595888557984, 'iexOpen': 116.525, 'iexOpenTime': 1713360724702, 'iexRealtimePrice': 115.3, 'iexRealtimeSize': 100, 'iexVolume': 45758, 'lastTradeTime': 1713383999721, 'latestPrice': 115.3, 'latestSource': 'Close', 'latestTime': 'April 17, 2024', 'latestUpdate': 1713384000316, 'latestVolume': None, 'low': None, 'lowSource': None, 'lowTime': None, 'marketCap': 18063476575, 'oddLotDelayedPrice': None, 'oddLotDelayedPriceTime': None, 'open': None, 'openTime': None, 'openSource': 'official', 'peRatio': 9.89, 'previousClose': 117.07, 'previousVolume': 529890, 'primaryExchange': 'NASDAQ', 'symbol': 'CINF', 'volume': None, 'week52High': 124.35, 'week52Low': 90.8, 'ytdChange': 0.12412432494397188, 'isUSMarketOpen': False}\n",
      "{'avgTotalVolume': 3718166, 'calculationPrice': 'close', 'change': 0.58, 'changePercent': 0.00673, 'close': None, 'closeSource': 'official', 'closeTime': None, 'companyName': 'Colgate-Palmolive Co.', 'currency': 'USD', 'delayedPrice': None, 'delayedPriceTime': None, 'extendedChange': None, 'extendedChangePercent': None, 'extendedPrice': None, 'extendedPriceTime': None, 'high': None, 'highSource': '15 minute delayed price', 'highTime': 1713383999999, 'iexAskPrice': 0, 'iexAskSize': 0, 'iexBidPrice': 0, 'iexBidSize': 0, 'iexClose': 86.78, 'iexCloseTime': 1713383999994, 'iexLastUpdated': 1713383999994, 'iexMarketPercent': 0.04088254797734626, 'iexOpen': 86.375, 'iexOpenTime': 1713360601361, 'iexRealtimePrice': 86.78, 'iexRealtimeSize': 200, 'iexVolume': 158876, 'lastTradeTime': 1713383999998, 'latestPrice': 86.75, 'latestSource': 'Close', 'latestTime': 'April 17, 2024', 'latestUpdate': 1713384002157, 'latestVolume': None, 'low': None, 'lowSource': '15 minute delayed price', 'lowTime': 1713365049052, 'marketCap': 71307308142, 'oddLotDelayedPrice': None, 'oddLotDelayedPriceTime': None, 'open': None, 'openTime': None, 'openSource': 'official', 'peRatio': 31.32, 'previousClose': 86.17, 'previousVolume': 3220548, 'primaryExchange': 'NEW YORK STOCK EXCHANGE INC.', 'symbol': 'CL', 'volume': None, 'week52High': 90.37, 'week52Low': 66.78, 'ytdChange': 0.09423112006178967, 'isUSMarketOpen': False}\n",
      "{'avgTotalVolume': 1174923, 'calculationPrice': 'close', 'change': -0.14, 'changePercent': -0.00098, 'close': None, 'closeSource': 'official', 'closeTime': None, 'companyName': 'Clorox Co.', 'currency': 'USD', 'delayedPrice': None, 'delayedPriceTime': None, 'extendedChange': None, 'extendedChangePercent': None, 'extendedPrice': None, 'extendedPriceTime': None, 'high': None, 'highSource': '15 minute delayed price', 'highTime': 1713384000001, 'iexAskPrice': 0, 'iexAskSize': 0, 'iexBidPrice': 0, 'iexBidSize': 0, 'iexClose': 142.245, 'iexCloseTime': 1713384000000, 'iexLastUpdated': 1713384000000, 'iexMarketPercent': 0.03699475827159994, 'iexOpen': 142.8, 'iexOpenTime': 1713360826987, 'iexRealtimePrice': 142.245, 'iexRealtimeSize': 100, 'iexVolume': 31047, 'lastTradeTime': 1713384000000, 'latestPrice': 142.34, 'latestSource': 'Close', 'latestTime': 'April 17, 2024', 'latestUpdate': 1713384002164, 'latestVolume': None, 'low': None, 'lowSource': '15 minute delayed price', 'lowTime': 1713367863914, 'marketCap': 17665295439, 'oddLotDelayedPrice': None, 'oddLotDelayedPriceTime': None, 'open': None, 'openTime': None, 'openSource': 'official', 'peRatio': 221.54, 'previousClose': 142.48, 'previousVolume': 1053248, 'primaryExchange': 'NEW YORK STOCK EXCHANGE INC.', 'symbol': 'CLX', 'volume': None, 'week52High': 173.69, 'week52Low': 113.72, 'ytdChange': 0.0067199079858519615, 'isUSMarketOpen': False}\n",
      "{'avgTotalVolume': 1691638, 'calculationPrice': 'close', 'change': -0.21, 'changePercent': -0.0042, 'close': None, 'closeSource': 'official', 'closeTime': None, 'companyName': 'Comerica, Inc.', 'currency': 'USD', 'delayedPrice': None, 'delayedPriceTime': None, 'extendedChange': None, 'extendedChangePercent': None, 'extendedPrice': None, 'extendedPriceTime': None, 'high': None, 'highSource': '15 minute delayed price', 'highTime': 1713383999997, 'iexAskPrice': 0, 'iexAskSize': 0, 'iexBidPrice': 0, 'iexBidSize': 0, 'iexClose': 49.79, 'iexCloseTime': 1713383998047, 'iexLastUpdated': 1713383998047, 'iexMarketPercent': 32406.2, 'iexOpen': 50.18, 'iexOpenTime': 1713360708340, 'iexRealtimePrice': 49.79, 'iexRealtimeSize': 72, 'iexVolume': 162031, 'lastTradeTime': 1713383999978, 'latestPrice': 49.82, 'latestSource': 'Close', 'latestTime': 'April 17, 2024', 'latestUpdate': 1713384002169, 'latestVolume': None, 'low': None, 'lowSource': '15 minute delayed price', 'lowTime': 1713367932983, 'marketCap': 6600635210, 'oddLotDelayedPrice': None, 'oddLotDelayedPriceTime': None, 'open': None, 'openTime': None, 'openSource': 'official', 'peRatio': 7.76, 'previousClose': 50.03, 'previousVolume': 1438637, 'primaryExchange': 'NEW YORK STOCK EXCHANGE INC.', 'symbol': 'CMA', 'volume': None, 'week52High': 56.6, 'week52Low': 26.75, 'ytdChange': -0.09528085619710981, 'isUSMarketOpen': False}\n",
      "{'avgTotalVolume': 21660288, 'calculationPrice': 'close', 'change': -0.13, 'changePercent': -0.00332, 'close': None, 'closeSource': 'official', 'closeTime': None, 'companyName': 'Comcast Corp - Class A', 'currency': 'USD', 'delayedPrice': None, 'delayedPriceTime': None, 'extendedChange': None, 'extendedChangePercent': None, 'extendedPrice': None, 'extendedPriceTime': None, 'high': None, 'highSource': None, 'highTime': None, 'iexAskPrice': 0, 'iexAskSize': 0, 'iexBidPrice': 0, 'iexBidSize': 0, 'iexClose': 38.99, 'iexCloseTime': 1713383999495, 'iexLastUpdated': 1713383999495, 'iexMarketPercent': 365879, 'iexOpen': 39.38, 'iexOpenTime': 1713360603030, 'iexRealtimePrice': 38.99, 'iexRealtimeSize': 1000, 'iexVolume': 731758, 'lastTradeTime': 1713383999996, 'latestPrice': 38.99, 'latestSource': 'Close', 'latestTime': 'April 17, 2024', 'latestUpdate': 1713384000076, 'latestVolume': None, 'low': None, 'lowSource': None, 'lowTime': None, 'marketCap': 154494481466, 'oddLotDelayedPrice': None, 'oddLotDelayedPriceTime': None, 'open': None, 'openTime': None, 'openSource': 'official', 'peRatio': 10.51, 'previousClose': 39.12, 'previousVolume': 18927170, 'primaryExchange': 'NASDAQ', 'symbol': 'CMCSA', 'volume': None, 'week52High': 46.42, 'week52Low': 34.68, 'ytdChange': -0.08586513985792589, 'isUSMarketOpen': False}\n"
     ]
    }
   ],
   "source": [
    "\n",
    "fin_df = pd.DataFrame(columns=cols)\n",
    "symbol_groups = list(chunks(stocks['Ticker'], 100))\n",
    "symbol_strings = []\n",
    "for i in range(0, len(symbol_groups)):\n",
    "    symbol_strings.append('.'.join(symbol_groups[i]))\n",
    "\n",
    "for symbol_string in symbol_strings[:1]:\n",
    "    batch_api_call = f'https://api.iex.cloud/v1/data/core/quote/{symbol_string}?batchSeparator=.&token={IEX_CLOUD_API_TOKEN}'\n",
    "    results = requests.get(batch_api_call).json()\n",
    "    for values in results:\n",
    "        market_cap = values['marketCap']\n",
    "        stock_price = values['latestPrice']\n",
    "        symbol = values['symbol']\n",
    "\n",
    "        print(symbol)\n",
    "        print(market_cap)\n",
    "        print(stock_price)\n"
   ]
  },
  {
   "cell_type": "code",
   "execution_count": 46,
   "id": "cfddea24",
   "metadata": {},
   "outputs": [
    {
     "data": {
      "text/plain": [
       "[{'avgTotalVolume': 61997647,\n",
       "  'calculationPrice': 'close',\n",
       "  'change': -1.38,\n",
       "  'changePercent': -0.00815,\n",
       "  'close': None,\n",
       "  'closeSource': 'official',\n",
       "  'closeTime': None,\n",
       "  'companyName': 'Apple Inc',\n",
       "  'currency': 'USD',\n",
       "  'delayedPrice': None,\n",
       "  'delayedPriceTime': None,\n",
       "  'extendedChange': None,\n",
       "  'extendedChangePercent': None,\n",
       "  'extendedPrice': None,\n",
       "  'extendedPriceTime': None,\n",
       "  'high': None,\n",
       "  'highSource': '15 minute delayed price',\n",
       "  'highTime': 1713383999996,\n",
       "  'iexAskPrice': 0,\n",
       "  'iexAskSize': 0,\n",
       "  'iexBidPrice': 0,\n",
       "  'iexBidSize': 0,\n",
       "  'iexClose': 168,\n",
       "  'iexCloseTime': 1713383998847,\n",
       "  'iexLastUpdated': 1713383998847,\n",
       "  'iexMarketPercent': 0.0118942162671575,\n",
       "  'iexOpen': 169.55,\n",
       "  'iexOpenTime': 1713360600093,\n",
       "  'iexRealtimePrice': 168,\n",
       "  'iexRealtimeSize': 47,\n",
       "  'iexVolume': 605430,\n",
       "  'lastTradeTime': 1713383999917,\n",
       "  'latestPrice': 168,\n",
       "  'latestSource': 'Close',\n",
       "  'latestTime': 'April 17, 2024',\n",
       "  'latestUpdate': 1713384000407,\n",
       "  'latestVolume': None,\n",
       "  'low': None,\n",
       "  'lowSource': '15 minute delayed price',\n",
       "  'lowTime': 1713383998400,\n",
       "  'marketCap': 2594236008000,\n",
       "  'oddLotDelayedPrice': None,\n",
       "  'oddLotDelayedPriceTime': None,\n",
       "  'open': None,\n",
       "  'openTime': None,\n",
       "  'openSource': 'official',\n",
       "  'peRatio': 26.17,\n",
       "  'previousClose': 169.38,\n",
       "  'previousVolume': 73711235,\n",
       "  'primaryExchange': 'NASDAQ',\n",
       "  'symbol': 'AAPL',\n",
       "  'volume': None,\n",
       "  'week52High': 199.11,\n",
       "  'week52Low': 161.3,\n",
       "  'ytdChange': -0.12614441365218432,\n",
       "  'isUSMarketOpen': False},\n",
       " {'avgTotalVolume': 35689616,\n",
       "  'calculationPrice': 'close',\n",
       "  'change': 0.03,\n",
       "  'changePercent': 0.00186,\n",
       "  'close': None,\n",
       "  'closeSource': 'official',\n",
       "  'closeTime': None,\n",
       "  'companyName': 'AT&T, Inc.',\n",
       "  'currency': 'USD',\n",
       "  'delayedPrice': None,\n",
       "  'delayedPriceTime': None,\n",
       "  'extendedChange': None,\n",
       "  'extendedChangePercent': None,\n",
       "  'extendedPrice': None,\n",
       "  'extendedPriceTime': None,\n",
       "  'high': None,\n",
       "  'highSource': '15 minute delayed price',\n",
       "  'highTime': 1713383999988,\n",
       "  'iexAskPrice': 0,\n",
       "  'iexAskSize': 0,\n",
       "  'iexBidPrice': 0,\n",
       "  'iexBidSize': 0,\n",
       "  'iexClose': 16.11,\n",
       "  'iexCloseTime': 1713383998998,\n",
       "  'iexLastUpdated': 1713383998998,\n",
       "  'iexMarketPercent': 0.016954893203475534,\n",
       "  'iexOpen': 16.09,\n",
       "  'iexOpenTime': 1713360604305,\n",
       "  'iexRealtimePrice': 16.11,\n",
       "  'iexRealtimeSize': 800,\n",
       "  'iexVolume': 460792,\n",
       "  'lastTradeTime': 1713383999988,\n",
       "  'latestPrice': 16.12,\n",
       "  'latestSource': 'Close',\n",
       "  'latestTime': 'April 17, 2024',\n",
       "  'latestUpdate': 1713384108161,\n",
       "  'latestVolume': None,\n",
       "  'low': None,\n",
       "  'lowSource': '15 minute delayed price',\n",
       "  'lowTime': 1713367842670,\n",
       "  'marketCap': 114935600000,\n",
       "  'oddLotDelayedPrice': None,\n",
       "  'oddLotDelayedPriceTime': None,\n",
       "  'open': None,\n",
       "  'openTime': None,\n",
       "  'openSource': 'official',\n",
       "  'peRatio': 8.22,\n",
       "  'previousClose': 16.09,\n",
       "  'previousVolume': 56368796,\n",
       "  'primaryExchange': 'NEW YORK STOCK EXCHANGE INC.',\n",
       "  'symbol': 'T',\n",
       "  'volume': None,\n",
       "  'week52High': 18.51,\n",
       "  'week52Low': 12.76,\n",
       "  'ytdChange': -0.007711881444092156,\n",
       "  'isUSMarketOpen': False}]"
      ]
     },
     "execution_count": 46,
     "metadata": {},
     "output_type": "execute_result"
    }
   ],
   "source": [
    "ticker = 'AAPL.T' # Apple ticker symbol\n",
    "api_url = f' https://api.iex.cloud/v1/data/core/quote/{ticker}?batchSeparator=.&token={IEX_CLOUD_API_TOKEN}'\n",
    "results = requests.get(api_url).json()\n",
    "type(results)\n",
    "results\n"
   ]
  },
  {
   "cell_type": "code",
   "execution_count": 45,
   "id": "8bfb4085",
   "metadata": {},
   "outputs": [
    {
     "ename": "TypeError",
     "evalue": "'Response' object is not subscriptable",
     "output_type": "error",
     "traceback": [
      "\u001b[1;31m---------------------------------------------------------------------------\u001b[0m",
      "\u001b[1;31mTypeError\u001b[0m                                 Traceback (most recent call last)",
      "Cell \u001b[1;32mIn[45], line 1\u001b[0m\n\u001b[1;32m----> 1\u001b[0m market_cap \u001b[38;5;241m=\u001b[39m \u001b[43mresults\u001b[49m\u001b[43m[\u001b[49m\u001b[38;5;241;43m0\u001b[39;49m\u001b[43m]\u001b[49m[\u001b[38;5;124m'\u001b[39m\u001b[38;5;124mmarketCap\u001b[39m\u001b[38;5;124m'\u001b[39m]\n\u001b[0;32m      2\u001b[0m stock_price \u001b[38;5;241m=\u001b[39m results[\u001b[38;5;241m0\u001b[39m][\u001b[38;5;124m'\u001b[39m\u001b[38;5;124mlatestPrice\u001b[39m\u001b[38;5;124m'\u001b[39m]\n\u001b[0;32m      3\u001b[0m symbol \u001b[38;5;241m=\u001b[39m results[\u001b[38;5;241m0\u001b[39m][\u001b[38;5;124m'\u001b[39m\u001b[38;5;124msymbol\u001b[39m\u001b[38;5;124m'\u001b[39m]\n",
      "\u001b[1;31mTypeError\u001b[0m: 'Response' object is not subscriptable"
     ]
    }
   ],
   "source": [
    "market_cap = results[0]['marketCap']\n",
    "stock_price = results[0]['latestPrice']\n",
    "symbol = results[0]['symbol']\n",
    "\n",
    "print(symbol)\n",
    "print(market_cap)\n",
    "print(stock_price)"
   ]
  }
 ],
 "metadata": {
  "kernelspec": {
   "display_name": "Python 3 (ipykernel)",
   "language": "python",
   "name": "python3"
  },
  "language_info": {
   "codemirror_mode": {
    "name": "ipython",
    "version": 3
   },
   "file_extension": ".py",
   "mimetype": "text/x-python",
   "name": "python",
   "nbconvert_exporter": "python",
   "pygments_lexer": "ipython3",
   "version": "3.12.1"
  }
 },
 "nbformat": 4,
 "nbformat_minor": 5
}
