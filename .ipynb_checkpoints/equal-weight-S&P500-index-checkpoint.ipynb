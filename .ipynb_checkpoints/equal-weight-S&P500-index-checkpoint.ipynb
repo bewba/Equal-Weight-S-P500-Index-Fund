{
 "cells": [
  {
   "cell_type": "markdown",
   "id": "39343667",
   "metadata": {},
   "source": [
    "# Importing the necessary libraries"
   ]
  },
  {
   "cell_type": "code",
   "execution_count": 1,
   "id": "ec33c54f",
   "metadata": {},
   "outputs": [],
   "source": [
    "import pandas as pd\n",
    "import numpy as np \n",
    "import requests\n",
    "import xlsxwriter\n",
    "import math"
   ]
  },
  {
   "cell_type": "markdown",
   "id": "2def509b",
   "metadata": {},
   "source": [
    "# Importing the list of stocks\n",
    "### Stocks can be taken from a free API, in this use case, I just used a CSV\n"
   ]
  },
  {
   "cell_type": "code",
   "execution_count": 4,
   "id": "1522cfcf",
   "metadata": {},
   "outputs": [
    {
     "name": "stdout",
     "output_type": "stream",
     "text": [
      "<module 'requests' from 'c:\\\\Users\\\\user\\\\AppData\\\\Local\\\\Programs\\\\Python\\\\Python312\\\\Lib\\\\site-packages\\\\requests\\\\__init__.py'>\n",
      "<module 'math' (built-in)>\n"
     ]
    }
   ],
   "source": []
  }
 ],
 "metadata": {
  "kernelspec": {
   "display_name": "Python 3 (ipykernel)",
   "language": "python",
   "name": "python3"
  },
  "language_info": {
   "codemirror_mode": {
    "name": "ipython",
    "version": 3
   },
   "file_extension": ".py",
   "mimetype": "text/x-python",
   "name": "python",
   "nbconvert_exporter": "python",
   "pygments_lexer": "ipython3",
   "version": "3.12.1"
  }
 },
 "nbformat": 4,
 "nbformat_minor": 5
}
